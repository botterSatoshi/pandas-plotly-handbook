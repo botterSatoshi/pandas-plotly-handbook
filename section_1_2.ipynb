{
 "cells": [
  {
   "attachments": {},
   "cell_type": "markdown",
   "metadata": {},
   "source": [
    "## 1.2 データの種類とpandasのデータ型"
   ]
  },
  {
   "cell_type": "code",
   "execution_count": 1,
   "metadata": {},
   "outputs": [
    {
     "data": {
      "text/html": [
       "<div>\n",
       "<style scoped>\n",
       "    .dataframe tbody tr th:only-of-type {\n",
       "        vertical-align: middle;\n",
       "    }\n",
       "\n",
       "    .dataframe tbody tr th {\n",
       "        vertical-align: top;\n",
       "    }\n",
       "\n",
       "    .dataframe thead th {\n",
       "        text-align: right;\n",
       "    }\n",
       "</style>\n",
       "<table border=\"1\" class=\"dataframe\">\n",
       "  <thead>\n",
       "    <tr style=\"text-align: right;\">\n",
       "      <th></th>\n",
       "      <th>list_int</th>\n",
       "      <th>list_float</th>\n",
       "      <th>np_float16</th>\n",
       "      <th>np_float32</th>\n",
       "      <th>category_animal</th>\n",
       "      <th>category_size</th>\n",
       "      <th>date</th>\n",
       "    </tr>\n",
       "  </thead>\n",
       "  <tbody>\n",
       "    <tr>\n",
       "      <th>0</th>\n",
       "      <td>0</td>\n",
       "      <td>0.0</td>\n",
       "      <td>0.00</td>\n",
       "      <td>0.00</td>\n",
       "      <td>cat</td>\n",
       "      <td>MIDDLE</td>\n",
       "      <td>1981-03-05</td>\n",
       "    </tr>\n",
       "    <tr>\n",
       "      <th>1</th>\n",
       "      <td>1</td>\n",
       "      <td>0.1</td>\n",
       "      <td>0.25</td>\n",
       "      <td>0.25</td>\n",
       "      <td>dog</td>\n",
       "      <td>LARGE</td>\n",
       "      <td>1993-04-10</td>\n",
       "    </tr>\n",
       "    <tr>\n",
       "      <th>2</th>\n",
       "      <td>2</td>\n",
       "      <td>0.2</td>\n",
       "      <td>0.50</td>\n",
       "      <td>0.50</td>\n",
       "      <td>dog</td>\n",
       "      <td>SMALL</td>\n",
       "      <td>2005-07-15</td>\n",
       "    </tr>\n",
       "    <tr>\n",
       "      <th>3</th>\n",
       "      <td>3</td>\n",
       "      <td>0.3</td>\n",
       "      <td>0.75</td>\n",
       "      <td>0.75</td>\n",
       "      <td>cat</td>\n",
       "      <td>EXTRA-SMALL</td>\n",
       "      <td>2017-10-20</td>\n",
       "    </tr>\n",
       "    <tr>\n",
       "      <th>4</th>\n",
       "      <td>4</td>\n",
       "      <td>0.4</td>\n",
       "      <td>1.00</td>\n",
       "      <td>1.00</td>\n",
       "      <td>cat</td>\n",
       "      <td>MIDDLE</td>\n",
       "      <td>2029-12-25</td>\n",
       "    </tr>\n",
       "  </tbody>\n",
       "</table>\n",
       "</div>"
      ],
      "text/plain": [
       "   list_int  list_float  np_float16  np_float32 category_animal category_size  \\\n",
       "0         0         0.0        0.00        0.00             cat        MIDDLE   \n",
       "1         1         0.1        0.25        0.25             dog         LARGE   \n",
       "2         2         0.2        0.50        0.50             dog         SMALL   \n",
       "3         3         0.3        0.75        0.75             cat   EXTRA-SMALL   \n",
       "4         4         0.4        1.00        1.00             cat        MIDDLE   \n",
       "\n",
       "         date  \n",
       "0  1981-03-05  \n",
       "1  1993-04-10  \n",
       "2  2005-07-15  \n",
       "3  2017-10-20  \n",
       "4  2029-12-25  "
      ]
     },
     "execution_count": 1,
     "metadata": {},
     "output_type": "execute_result"
    }
   ],
   "source": [
    "import pandas as pd\n",
    "import numpy as np \n",
    "\n",
    "N = 5\n",
    "\n",
    "df = pd.DataFrame({\n",
    "    'list_int': list(range(N)),\n",
    "    'list_float': [i*0.1 for i in range(N)],\n",
    "    'np_float16': np.linspace(0, 1., num=N, dtype='float16'),\n",
    "    'np_float32': np.linspace(0, 1., num=N, dtype='float32'),\n",
    "    'category_animal': ('cat', 'dog', 'dog', 'cat', 'cat'),\n",
    "    'category_size': ['MIDDLE', 'LARGE', 'SMALL', 'EXTRA-SMALL', 'MIDDLE'],\n",
    "    'date': ['1981-03-05', '1993-04-10', '2005-07-15', '2017-10-20', '2029-12-25']\n",
    "})\n",
    "\n",
    "df"
   ]
  },
  {
   "cell_type": "code",
   "execution_count": 2,
   "metadata": {},
   "outputs": [
    {
     "data": {
      "text/plain": [
       "list_int             int64\n",
       "list_float         float64\n",
       "np_float16         float16\n",
       "np_float32         float32\n",
       "category_animal     object\n",
       "category_size       object\n",
       "date                object\n",
       "dtype: object"
      ]
     },
     "execution_count": 2,
     "metadata": {},
     "output_type": "execute_result"
    }
   ],
   "source": [
    "df.dtypes"
   ]
  },
  {
   "cell_type": "code",
   "execution_count": 3,
   "metadata": {},
   "outputs": [
    {
     "data": {
      "text/plain": [
       "list_int             int32\n",
       "list_float         float64\n",
       "np_float16         float64\n",
       "np_float32         float32\n",
       "category_animal     object\n",
       "category_size       object\n",
       "date                object\n",
       "dtype: object"
      ]
     },
     "execution_count": 3,
     "metadata": {},
     "output_type": "execute_result"
    }
   ],
   "source": [
    "df_change = df.astype({\n",
    "    'list_int': 'int32',\n",
    "    'np_float16': 'float64'\n",
    "})\n",
    "\n",
    "df_change.dtypes "
   ]
  },
  {
   "cell_type": "code",
   "execution_count": 4,
   "metadata": {},
   "outputs": [
    {
     "data": {
      "text/plain": [
       "list_int             int32\n",
       "list_float         float64\n",
       "np_float16         float64\n",
       "np_float32         float32\n",
       "category_animal     string\n",
       "category_size       string\n",
       "date                object\n",
       "dtype: object"
      ]
     },
     "execution_count": 4,
     "metadata": {},
     "output_type": "execute_result"
    }
   ],
   "source": [
    "df_change = df_change.astype({\n",
    "    'category_animal': 'string',\n",
    "    'category_size': 'string'\n",
    "})\n",
    "\n",
    "df_change.dtypes "
   ]
  },
  {
   "cell_type": "code",
   "execution_count": 5,
   "metadata": {},
   "outputs": [
    {
     "data": {
      "text/plain": [
       "list_int              int64\n",
       "list_float          float64\n",
       "np_float16          float16\n",
       "np_float32          float32\n",
       "category_animal    category\n",
       "category_size      category\n",
       "date                 object\n",
       "dtype: object"
      ]
     },
     "execution_count": 5,
     "metadata": {},
     "output_type": "execute_result"
    }
   ],
   "source": [
    "df = df.astype({\n",
    "    'category_animal': 'category',\n",
    "    'category_size': 'category'\n",
    "})\n",
    "\n",
    "df.dtypes"
   ]
  },
  {
   "cell_type": "code",
   "execution_count": 6,
   "metadata": {},
   "outputs": [
    {
     "data": {
      "text/plain": [
       "['cat', 'dog', 'dog', 'cat', 'cat']\n",
       "Categories (2, object): ['cat', 'dog']"
      ]
     },
     "execution_count": 6,
     "metadata": {},
     "output_type": "execute_result"
    }
   ],
   "source": [
    "df['category_animal'] = df['category_animal'].cat.set_categories(\n",
    "    ['cat', 'dog'],\n",
    "    ordered=False)\n",
    "\n",
    "df['category_animal'].values"
   ]
  },
  {
   "cell_type": "code",
   "execution_count": 7,
   "metadata": {},
   "outputs": [
    {
     "data": {
      "text/plain": [
       "pandas.core.arrays.categorical.Categorical"
      ]
     },
     "execution_count": 7,
     "metadata": {},
     "output_type": "execute_result"
    }
   ],
   "source": [
    "type(df['category_animal'].values)"
   ]
  },
  {
   "cell_type": "code",
   "execution_count": 8,
   "metadata": {},
   "outputs": [
    {
     "data": {
      "text/plain": [
       "['MIDDLE', 'LARGE', 'SMALL', 'EXTRA-SMALL', 'MIDDLE']\n",
       "Categories (5, object): ['EXTRA-SMALL' < 'SMALL' < 'MIDDLE' < 'LARGE' < 'EXTRA-LARGE']"
      ]
     },
     "execution_count": 8,
     "metadata": {},
     "output_type": "execute_result"
    }
   ],
   "source": [
    "df['category_size'] = df['category_size'].cat.set_categories(\n",
    "    ['EXTRA-SMALL', 'SMALL', 'MIDDLE', 'LARGE', 'EXTRA-LARGE'],\n",
    "    ordered=True)\n",
    "\n",
    "df['category_size'].values"
   ]
  },
  {
   "cell_type": "code",
   "execution_count": 9,
   "metadata": {},
   "outputs": [
    {
     "data": {
      "text/plain": [
       "array([2, 3, 1, 0, 2], dtype=int8)"
      ]
     },
     "execution_count": 9,
     "metadata": {},
     "output_type": "execute_result"
    }
   ],
   "source": [
    "df['category_size'].values.codes"
   ]
  },
  {
   "cell_type": "code",
   "execution_count": 10,
   "metadata": {},
   "outputs": [
    {
     "data": {
      "text/plain": [
       "list_int                    int64\n",
       "list_float                float64\n",
       "np_float16                float16\n",
       "np_float32                float32\n",
       "category_animal          category\n",
       "category_size            category\n",
       "date               datetime64[ns]\n",
       "dtype: object"
      ]
     },
     "execution_count": 10,
     "metadata": {},
     "output_type": "execute_result"
    }
   ],
   "source": [
    "df['date'] = pd.to_datetime(df['date'])\n",
    "\n",
    "df.dtypes"
   ]
  },
  {
   "cell_type": "code",
   "execution_count": 11,
   "metadata": {},
   "outputs": [
    {
     "data": {
      "text/plain": [
       "category_animal          category\n",
       "category_size            category\n",
       "date               datetime64[ns]\n",
       "dtype: object"
      ]
     },
     "execution_count": 11,
     "metadata": {},
     "output_type": "execute_result"
    }
   ],
   "source": [
    "categories_animal = ['cat', 'dog']\n",
    "categories_size = ['EXTRA-SMALL', 'SMALL', 'MIDDLE', 'LARGE', 'EXTRA-LARGE']\n",
    "\n",
    "df = pd.DataFrame({\n",
    "    'category_animal': pd.Categorical(\n",
    "        ('cat', 'dog', 'dog', 'cat', 'cat'),\n",
    "        ordered=False,\n",
    "        categories=categories_animal),\n",
    "    'category_size': pd.Categorical(\n",
    "        ['MIDDLE', 'LARGE', 'SMALL', 'EXTRA-SMALL', 'MIDDLE'],\n",
    "        ordered=True,\n",
    "        categories=categories_size),\n",
    "    'date': pd.to_datetime(['1981-03-05', '1993-04-10', '2005-07-15', '2017-10-20', '2029-12-25'])\n",
    "})\n",
    "\n",
    "df.dtypes"
   ]
  }
 ],
 "metadata": {
  "kernelspec": {
   "display_name": "Python 3.9.4 ('pandas-plotly-handbook-XgTgJsv2')",
   "language": "python",
   "name": "python3"
  },
  "language_info": {
   "codemirror_mode": {
    "name": "ipython",
    "version": 3
   },
   "file_extension": ".py",
   "mimetype": "text/x-python",
   "name": "python",
   "nbconvert_exporter": "python",
   "pygments_lexer": "ipython3",
   "version": "3.9.4"
  },
  "orig_nbformat": 4,
  "vscode": {
   "interpreter": {
    "hash": "385799becffacfdd2e9c81bce7b77b5c3aec860f3e68bbc905b931ea7e943a87"
   }
  }
 },
 "nbformat": 4,
 "nbformat_minor": 2
}
