{
 "cells": [
  {
   "attachments": {},
   "cell_type": "markdown",
   "metadata": {},
   "source": [
    "# 第7章　インタラクティブなグラフの作成\n",
    "\n",
    "## 7.1 インタラクティブ機能の設定"
   ]
  },
  {
   "cell_type": "code",
   "execution_count": 1,
   "metadata": {},
   "outputs": [
    {
     "data": {
      "text/html": [
       "<div>\n",
       "<style scoped>\n",
       "    .dataframe tbody tr th:only-of-type {\n",
       "        vertical-align: middle;\n",
       "    }\n",
       "\n",
       "    .dataframe tbody tr th {\n",
       "        vertical-align: top;\n",
       "    }\n",
       "\n",
       "    .dataframe thead th {\n",
       "        text-align: right;\n",
       "    }\n",
       "</style>\n",
       "<table border=\"1\" class=\"dataframe\">\n",
       "  <thead>\n",
       "    <tr style=\"text-align: right;\">\n",
       "      <th></th>\n",
       "      <th>age</th>\n",
       "      <th>sex</th>\n",
       "      <th>bmi</th>\n",
       "      <th>bp</th>\n",
       "      <th>s1</th>\n",
       "      <th>s2</th>\n",
       "      <th>s3</th>\n",
       "      <th>s4</th>\n",
       "      <th>s5</th>\n",
       "      <th>s6</th>\n",
       "      <th>target</th>\n",
       "    </tr>\n",
       "  </thead>\n",
       "  <tbody>\n",
       "    <tr>\n",
       "      <th>0</th>\n",
       "      <td>59.0</td>\n",
       "      <td>2.0</td>\n",
       "      <td>32.1</td>\n",
       "      <td>101.00</td>\n",
       "      <td>157.0</td>\n",
       "      <td>93.2</td>\n",
       "      <td>38.0</td>\n",
       "      <td>4.00</td>\n",
       "      <td>4.8598</td>\n",
       "      <td>87.0</td>\n",
       "      <td>151.0</td>\n",
       "    </tr>\n",
       "    <tr>\n",
       "      <th>1</th>\n",
       "      <td>48.0</td>\n",
       "      <td>1.0</td>\n",
       "      <td>21.6</td>\n",
       "      <td>87.00</td>\n",
       "      <td>183.0</td>\n",
       "      <td>103.2</td>\n",
       "      <td>70.0</td>\n",
       "      <td>3.00</td>\n",
       "      <td>3.8918</td>\n",
       "      <td>69.0</td>\n",
       "      <td>75.0</td>\n",
       "    </tr>\n",
       "    <tr>\n",
       "      <th>2</th>\n",
       "      <td>72.0</td>\n",
       "      <td>2.0</td>\n",
       "      <td>30.5</td>\n",
       "      <td>93.00</td>\n",
       "      <td>156.0</td>\n",
       "      <td>93.6</td>\n",
       "      <td>41.0</td>\n",
       "      <td>4.00</td>\n",
       "      <td>4.6728</td>\n",
       "      <td>85.0</td>\n",
       "      <td>141.0</td>\n",
       "    </tr>\n",
       "    <tr>\n",
       "      <th>3</th>\n",
       "      <td>24.0</td>\n",
       "      <td>1.0</td>\n",
       "      <td>25.3</td>\n",
       "      <td>84.00</td>\n",
       "      <td>198.0</td>\n",
       "      <td>131.4</td>\n",
       "      <td>40.0</td>\n",
       "      <td>5.00</td>\n",
       "      <td>4.8903</td>\n",
       "      <td>89.0</td>\n",
       "      <td>206.0</td>\n",
       "    </tr>\n",
       "    <tr>\n",
       "      <th>4</th>\n",
       "      <td>50.0</td>\n",
       "      <td>1.0</td>\n",
       "      <td>23.0</td>\n",
       "      <td>101.00</td>\n",
       "      <td>192.0</td>\n",
       "      <td>125.4</td>\n",
       "      <td>52.0</td>\n",
       "      <td>4.00</td>\n",
       "      <td>4.2905</td>\n",
       "      <td>80.0</td>\n",
       "      <td>135.0</td>\n",
       "    </tr>\n",
       "    <tr>\n",
       "      <th>...</th>\n",
       "      <td>...</td>\n",
       "      <td>...</td>\n",
       "      <td>...</td>\n",
       "      <td>...</td>\n",
       "      <td>...</td>\n",
       "      <td>...</td>\n",
       "      <td>...</td>\n",
       "      <td>...</td>\n",
       "      <td>...</td>\n",
       "      <td>...</td>\n",
       "      <td>...</td>\n",
       "    </tr>\n",
       "    <tr>\n",
       "      <th>437</th>\n",
       "      <td>60.0</td>\n",
       "      <td>2.0</td>\n",
       "      <td>28.2</td>\n",
       "      <td>112.00</td>\n",
       "      <td>185.0</td>\n",
       "      <td>113.8</td>\n",
       "      <td>42.0</td>\n",
       "      <td>4.00</td>\n",
       "      <td>4.9836</td>\n",
       "      <td>93.0</td>\n",
       "      <td>178.0</td>\n",
       "    </tr>\n",
       "    <tr>\n",
       "      <th>438</th>\n",
       "      <td>47.0</td>\n",
       "      <td>2.0</td>\n",
       "      <td>24.9</td>\n",
       "      <td>75.00</td>\n",
       "      <td>225.0</td>\n",
       "      <td>166.0</td>\n",
       "      <td>42.0</td>\n",
       "      <td>5.00</td>\n",
       "      <td>4.4427</td>\n",
       "      <td>102.0</td>\n",
       "      <td>104.0</td>\n",
       "    </tr>\n",
       "    <tr>\n",
       "      <th>439</th>\n",
       "      <td>60.0</td>\n",
       "      <td>2.0</td>\n",
       "      <td>24.9</td>\n",
       "      <td>99.67</td>\n",
       "      <td>162.0</td>\n",
       "      <td>106.6</td>\n",
       "      <td>43.0</td>\n",
       "      <td>3.77</td>\n",
       "      <td>4.1271</td>\n",
       "      <td>95.0</td>\n",
       "      <td>132.0</td>\n",
       "    </tr>\n",
       "    <tr>\n",
       "      <th>440</th>\n",
       "      <td>36.0</td>\n",
       "      <td>1.0</td>\n",
       "      <td>30.0</td>\n",
       "      <td>95.00</td>\n",
       "      <td>201.0</td>\n",
       "      <td>125.2</td>\n",
       "      <td>42.0</td>\n",
       "      <td>4.79</td>\n",
       "      <td>5.1299</td>\n",
       "      <td>85.0</td>\n",
       "      <td>220.0</td>\n",
       "    </tr>\n",
       "    <tr>\n",
       "      <th>441</th>\n",
       "      <td>36.0</td>\n",
       "      <td>1.0</td>\n",
       "      <td>19.6</td>\n",
       "      <td>71.00</td>\n",
       "      <td>250.0</td>\n",
       "      <td>133.2</td>\n",
       "      <td>97.0</td>\n",
       "      <td>3.00</td>\n",
       "      <td>4.5951</td>\n",
       "      <td>92.0</td>\n",
       "      <td>57.0</td>\n",
       "    </tr>\n",
       "  </tbody>\n",
       "</table>\n",
       "<p>442 rows × 11 columns</p>\n",
       "</div>"
      ],
      "text/plain": [
       "      age  sex   bmi      bp     s1     s2    s3    s4      s5     s6  target\n",
       "0    59.0  2.0  32.1  101.00  157.0   93.2  38.0  4.00  4.8598   87.0   151.0\n",
       "1    48.0  1.0  21.6   87.00  183.0  103.2  70.0  3.00  3.8918   69.0    75.0\n",
       "2    72.0  2.0  30.5   93.00  156.0   93.6  41.0  4.00  4.6728   85.0   141.0\n",
       "3    24.0  1.0  25.3   84.00  198.0  131.4  40.0  5.00  4.8903   89.0   206.0\n",
       "4    50.0  1.0  23.0  101.00  192.0  125.4  52.0  4.00  4.2905   80.0   135.0\n",
       "..    ...  ...   ...     ...    ...    ...   ...   ...     ...    ...     ...\n",
       "437  60.0  2.0  28.2  112.00  185.0  113.8  42.0  4.00  4.9836   93.0   178.0\n",
       "438  47.0  2.0  24.9   75.00  225.0  166.0  42.0  5.00  4.4427  102.0   104.0\n",
       "439  60.0  2.0  24.9   99.67  162.0  106.6  43.0  3.77  4.1271   95.0   132.0\n",
       "440  36.0  1.0  30.0   95.00  201.0  125.2  42.0  4.79  5.1299   85.0   220.0\n",
       "441  36.0  1.0  19.6   71.00  250.0  133.2  97.0  3.00  4.5951   92.0    57.0\n",
       "\n",
       "[442 rows x 11 columns]"
      ]
     },
     "execution_count": 1,
     "metadata": {},
     "output_type": "execute_result"
    }
   ],
   "source": [
    "import json\n",
    "import pandas as pd\n",
    "from sklearn.datasets import load_diabetes\n",
    "\n",
    "from plotly import graph_objects as go\n",
    "from plotly import express as px\n",
    "from plotly.graph_objs.layout import Template\n",
    "\n",
    "# DiabetesデータセットのDataFrameを読み込み\n",
    "df_X, df_y = load_diabetes(return_X_y=True, as_frame=True, scaled=False)\n",
    "df = pd.concat([df_X, df_y], axis=1)\n",
    "\n",
    "df"
   ]
  },
  {
   "cell_type": "code",
   "execution_count": 2,
   "metadata": {},
   "outputs": [
    {
     "data": {
      "application/vnd.plotly.v1+json": {
       "config": {
        "plotlyServerURL": "https://plot.ly"
       },
       "data": [
        {
         "mode": "markers",
         "name": "BMI",
         "type": "scatter",
         "x": [
          59,
          48,
          72,
          24,
          50,
          23,
          36,
          66,
          60,
          29,
          22,
          56,
          53,
          50,
          61,
          34,
          47,
          68,
          38,
          41,
          35,
          25,
          25,
          61,
          31,
          30,
          19,
          42,
          63,
          67,
          32,
          42,
          58,
          57,
          53,
          62,
          52,
          46,
          48,
          48,
          50,
          21,
          32,
          54,
          61,
          56,
          33,
          27,
          67,
          37,
          58,
          65,
          34,
          46,
          35,
          37,
          37,
          41,
          60,
          66,
          29,
          37,
          41,
          39,
          67,
          36,
          46,
          60,
          59,
          53,
          48,
          48,
          66,
          52,
          52,
          46,
          40,
          22,
          50,
          20,
          68,
          52,
          44,
          38,
          49,
          61,
          29,
          61,
          34,
          36,
          52,
          61,
          43,
          35,
          27,
          29,
          64,
          41,
          49,
          48,
          53,
          53,
          23,
          65,
          41,
          55,
          22,
          56,
          54,
          59,
          60,
          54,
          25,
          54,
          55,
          40,
          62,
          65,
          33,
          53,
          35,
          66,
          62,
          50,
          47,
          47,
          24,
          58,
          34,
          51,
          31,
          22,
          53,
          37,
          28,
          47,
          23,
          50,
          58,
          55,
          60,
          41,
          60,
          40,
          57,
          37,
          40,
          33,
          32,
          35,
          55,
          49,
          39,
          60,
          67,
          41,
          44,
          48,
          45,
          47,
          46,
          36,
          34,
          53,
          61,
          37,
          33,
          68,
          49,
          48,
          55,
          43,
          60,
          31,
          53,
          67,
          61,
          62,
          60,
          42,
          38,
          62,
          61,
          61,
          53,
          28,
          26,
          30,
          50,
          48,
          51,
          47,
          64,
          51,
          30,
          56,
          42,
          62,
          34,
          60,
          64,
          39,
          71,
          48,
          79,
          40,
          49,
          51,
          57,
          59,
          51,
          74,
          67,
          49,
          57,
          56,
          52,
          69,
          37,
          24,
          55,
          36,
          42,
          21,
          41,
          57,
          20,
          67,
          34,
          41,
          38,
          51,
          52,
          67,
          61,
          67,
          56,
          64,
          58,
          55,
          62,
          57,
          20,
          53,
          32,
          41,
          60,
          26,
          37,
          45,
          67,
          34,
          50,
          71,
          57,
          49,
          35,
          41,
          70,
          52,
          60,
          62,
          44,
          28,
          58,
          39,
          34,
          65,
          66,
          51,
          50,
          59,
          52,
          69,
          53,
          47,
          52,
          39,
          67,
          59,
          51,
          23,
          68,
          44,
          60,
          52,
          38,
          61,
          68,
          28,
          65,
          69,
          51,
          29,
          55,
          34,
          67,
          49,
          55,
          59,
          53,
          48,
          52,
          69,
          60,
          46,
          51,
          67,
          49,
          46,
          47,
          75,
          28,
          65,
          42,
          51,
          53,
          54,
          73,
          54,
          42,
          75,
          55,
          68,
          57,
          48,
          61,
          69,
          38,
          45,
          51,
          71,
          57,
          56,
          32,
          50,
          43,
          54,
          31,
          56,
          44,
          57,
          64,
          43,
          19,
          71,
          50,
          59,
          57,
          49,
          41,
          25,
          52,
          34,
          42,
          28,
          47,
          32,
          43,
          59,
          53,
          60,
          54,
          35,
          49,
          58,
          36,
          46,
          44,
          46,
          54,
          63,
          41,
          28,
          19,
          61,
          48,
          54,
          53,
          48,
          53,
          29,
          62,
          50,
          58,
          55,
          54,
          36,
          63,
          47,
          51,
          42,
          37,
          28,
          58,
          32,
          25,
          63,
          52,
          65,
          42,
          53,
          79,
          43,
          44,
          62,
          33,
          56,
          66,
          34,
          46,
          50,
          69,
          34,
          71,
          47,
          41,
          34,
          51,
          43,
          55,
          59,
          27,
          51,
          49,
          27,
          57,
          39,
          62,
          37,
          46,
          68,
          51,
          41,
          53,
          45,
          33,
          60,
          47,
          60,
          36,
          36
         ],
         "y": [
          32.1,
          21.6,
          30.5,
          25.3,
          23,
          22.6,
          22,
          26.2,
          32.1,
          30,
          18.6,
          28,
          23.7,
          26.2,
          24,
          24.7,
          30.3,
          27.5,
          25.4,
          24.7,
          21.1,
          24.3,
          26,
          32,
          29.7,
          25.2,
          19.2,
          31.9,
          24.4,
          25.8,
          30.5,
          20.3,
          38,
          21.7,
          20.5,
          23.5,
          28.5,
          27.4,
          33,
          27.7,
          25.6,
          20.1,
          25.4,
          24.2,
          32.7,
          23.1,
          25.3,
          19.6,
          22.5,
          27.7,
          25.7,
          27.9,
          25.5,
          24.9,
          28.7,
          21.8,
          30.2,
          20.5,
          20.4,
          24,
          26,
          26.8,
          25.7,
          22.9,
          24,
          24.1,
          24.7,
          25,
          23.6,
          22.1,
          19.9,
          29.5,
          26,
          24.5,
          26.6,
          23.5,
          29,
          23,
          21,
          22.9,
          27.5,
          24.3,
          23.1,
          27.3,
          22.7,
          33,
          19.4,
          25.8,
          22.6,
          21.9,
          24,
          31.2,
          26.8,
          20.4,
          24.8,
          21,
          27.3,
          34.6,
          25.9,
          20.4,
          28,
          22.2,
          29,
          30.2,
          32.4,
          23.4,
          19.3,
          31,
          30.6,
          25.5,
          23.4,
          26.8,
          28.3,
          27.7,
          36.6,
          26.5,
          31.8,
          24.4,
          25.4,
          22,
          26.8,
          28,
          33.9,
          29.6,
          28.6,
          25.6,
          20.7,
          26.2,
          20.6,
          27.9,
          35.3,
          19.9,
          24.4,
          21.4,
          30.4,
          31.6,
          18.8,
          31,
          36.7,
          32.1,
          27.7,
          30.8,
          27.5,
          26.9,
          30.7,
          38.3,
          31.9,
          35,
          27.8,
          25.9,
          32.9,
          26,
          26.3,
          22.3,
          28.3,
          32,
          25.4,
          23.3,
          20.3,
          30.4,
          20.6,
          32.3,
          29.2,
          33.1,
          24.6,
          20.2,
          20.8,
          32.8,
          31.9,
          23.9,
          24.5,
          22.1,
          33,
          19,
          27.3,
          22.8,
          28.2,
          28.9,
          25.6,
          24.9,
          26.8,
          22.4,
          26.9,
          23.1,
          28.6,
          24.7,
          30.3,
          21.3,
          26.1,
          20.2,
          25.2,
          22.5,
          23.5,
          25.9,
          20.9,
          28.7,
          22.1,
          26.7,
          31.4,
          22.2,
          21,
          21.2,
          26.5,
          29.2,
          27,
          30.7,
          28.8,
          30.6,
          30.1,
          24.7,
          27.7,
          29.8,
          26.7,
          19.8,
          23.3,
          35.1,
          29.7,
          29.3,
          20.3,
          22.5,
          22.7,
          22.8,
          24,
          24.2,
          20.2,
          29.4,
          22.1,
          23.6,
          25.2,
          24.9,
          33,
          23.5,
          26.4,
          29.8,
          30,
          25,
          27,
          20,
          25.5,
          28.2,
          33.3,
          25.6,
          24.2,
          22.1,
          31.4,
          23.1,
          23.4,
          18.8,
          30.8,
          32,
          31.6,
          35.5,
          31.9,
          29.5,
          31.6,
          20.3,
          41.3,
          21.2,
          24.1,
          23,
          25.6,
          22.5,
          38.2,
          19.2,
          29,
          24,
          20.6,
          26.3,
          34.6,
          23.4,
          29.2,
          27.2,
          27,
          24.5,
          24.1,
          25.3,
          28.8,
          20.9,
          23,
          24.1,
          28.1,
          18,
          25.9,
          21.5,
          24.3,
          24.5,
          21.3,
          25.8,
          24.8,
          31.5,
          33.5,
          28.1,
          24.3,
          35,
          23.5,
          30,
          20.7,
          25.6,
          22.9,
          25.1,
          33.2,
          24.1,
          29.5,
          29.6,
          22.8,
          22.7,
          26.2,
          23.5,
          22.1,
          26.5,
          32.4,
          30.1,
          24.2,
          31.3,
          30.1,
          24.5,
          27.7,
          23.2,
          27,
          26.8,
          29.2,
          31.2,
          32.1,
          25.7,
          26.9,
          31.4,
          25.6,
          37,
          32.6,
          21.2,
          29.2,
          24,
          36.1,
          25.8,
          22,
          21.9,
          34.3,
          25.2,
          23.3,
          25.7,
          25.1,
          31.9,
          28.4,
          28.1,
          25.3,
          26.1,
          28,
          23.6,
          24.5,
          21,
          32,
          22.6,
          19.7,
          21.2,
          30.6,
          25.5,
          23.3,
          31,
          18.5,
          26.9,
          28.3,
          25.7,
          36.1,
          24.1,
          25.8,
          22.8,
          39.1,
          42.2,
          26.6,
          29.9,
          21,
          25.5,
          24.2,
          25.4,
          23.2,
          26.1,
          32.7,
          27.3,
          26.6,
          22.8,
          28.8,
          18.1,
          32,
          23.7,
          23.6,
          24.6,
          22.6,
          27.8,
          24.1,
          26.5,
          32.8,
          19.9,
          23.6,
          22.1,
          28.1,
          26.5,
          23.5,
          26,
          27.8,
          28.5,
          30.6,
          22.2,
          23.3,
          35.4,
          31.4,
          37.8,
          18.9,
          35,
          21.7,
          25.3,
          23.8,
          31.8,
          34.3,
          26.3,
          27,
          27.2,
          33.8,
          33,
          24.1,
          21.3,
          23,
          27.9,
          33.6,
          22.7,
          27.4,
          22.6,
          23.2,
          26.9,
          34.6,
          23.3,
          21.1,
          23.5,
          31.5,
          20.8,
          26.5,
          24.2,
          19.5,
          28.2,
          24.9,
          24.9,
          30,
          19.6
         ]
        }
       ],
       "layout": {
        "template": {
         "data": {
          "bar": [
           {
            "error_x": {
             "color": "rgb(36,36,36)"
            },
            "error_y": {
             "color": "rgb(36,36,36)"
            },
            "marker": {
             "line": {
              "color": "white",
              "width": 0.5
             },
             "pattern": {
              "fillmode": "overlay",
              "size": 10,
              "solidity": 0.2
             }
            },
            "type": "bar"
           }
          ],
          "barpolar": [
           {
            "marker": {
             "line": {
              "color": "white",
              "width": 0.5
             },
             "pattern": {
              "fillmode": "overlay",
              "size": 10,
              "solidity": 0.2
             }
            },
            "type": "barpolar"
           }
          ],
          "carpet": [
           {
            "aaxis": {
             "endlinecolor": "rgb(36,36,36)",
             "gridcolor": "white",
             "linecolor": "white",
             "minorgridcolor": "white",
             "startlinecolor": "rgb(36,36,36)"
            },
            "baxis": {
             "endlinecolor": "rgb(36,36,36)",
             "gridcolor": "white",
             "linecolor": "white",
             "minorgridcolor": "white",
             "startlinecolor": "rgb(36,36,36)"
            },
            "type": "carpet"
           }
          ],
          "choropleth": [
           {
            "colorbar": {
             "outlinewidth": 1,
             "tickcolor": "rgb(36,36,36)",
             "ticks": "outside"
            },
            "type": "choropleth"
           }
          ],
          "contour": [
           {
            "colorbar": {
             "outlinewidth": 1,
             "tickcolor": "rgb(36,36,36)",
             "ticks": "outside"
            },
            "colorscale": [
             [
              0,
              "#440154"
             ],
             [
              0.1111111111111111,
              "#482878"
             ],
             [
              0.2222222222222222,
              "#3e4989"
             ],
             [
              0.3333333333333333,
              "#31688e"
             ],
             [
              0.4444444444444444,
              "#26828e"
             ],
             [
              0.5555555555555556,
              "#1f9e89"
             ],
             [
              0.6666666666666666,
              "#35b779"
             ],
             [
              0.7777777777777778,
              "#6ece58"
             ],
             [
              0.8888888888888888,
              "#b5de2b"
             ],
             [
              1,
              "#fde725"
             ]
            ],
            "type": "contour"
           }
          ],
          "contourcarpet": [
           {
            "colorbar": {
             "outlinewidth": 1,
             "tickcolor": "rgb(36,36,36)",
             "ticks": "outside"
            },
            "type": "contourcarpet"
           }
          ],
          "heatmap": [
           {
            "colorbar": {
             "outlinewidth": 1,
             "tickcolor": "rgb(36,36,36)",
             "ticks": "outside"
            },
            "colorscale": [
             [
              0,
              "#440154"
             ],
             [
              0.1111111111111111,
              "#482878"
             ],
             [
              0.2222222222222222,
              "#3e4989"
             ],
             [
              0.3333333333333333,
              "#31688e"
             ],
             [
              0.4444444444444444,
              "#26828e"
             ],
             [
              0.5555555555555556,
              "#1f9e89"
             ],
             [
              0.6666666666666666,
              "#35b779"
             ],
             [
              0.7777777777777778,
              "#6ece58"
             ],
             [
              0.8888888888888888,
              "#b5de2b"
             ],
             [
              1,
              "#fde725"
             ]
            ],
            "type": "heatmap"
           }
          ],
          "heatmapgl": [
           {
            "colorbar": {
             "outlinewidth": 1,
             "tickcolor": "rgb(36,36,36)",
             "ticks": "outside"
            },
            "colorscale": [
             [
              0,
              "#440154"
             ],
             [
              0.1111111111111111,
              "#482878"
             ],
             [
              0.2222222222222222,
              "#3e4989"
             ],
             [
              0.3333333333333333,
              "#31688e"
             ],
             [
              0.4444444444444444,
              "#26828e"
             ],
             [
              0.5555555555555556,
              "#1f9e89"
             ],
             [
              0.6666666666666666,
              "#35b779"
             ],
             [
              0.7777777777777778,
              "#6ece58"
             ],
             [
              0.8888888888888888,
              "#b5de2b"
             ],
             [
              1,
              "#fde725"
             ]
            ],
            "type": "heatmapgl"
           }
          ],
          "histogram": [
           {
            "marker": {
             "line": {
              "color": "white",
              "width": 0.6
             }
            },
            "type": "histogram"
           }
          ],
          "histogram2d": [
           {
            "colorbar": {
             "outlinewidth": 1,
             "tickcolor": "rgb(36,36,36)",
             "ticks": "outside"
            },
            "colorscale": [
             [
              0,
              "#440154"
             ],
             [
              0.1111111111111111,
              "#482878"
             ],
             [
              0.2222222222222222,
              "#3e4989"
             ],
             [
              0.3333333333333333,
              "#31688e"
             ],
             [
              0.4444444444444444,
              "#26828e"
             ],
             [
              0.5555555555555556,
              "#1f9e89"
             ],
             [
              0.6666666666666666,
              "#35b779"
             ],
             [
              0.7777777777777778,
              "#6ece58"
             ],
             [
              0.8888888888888888,
              "#b5de2b"
             ],
             [
              1,
              "#fde725"
             ]
            ],
            "type": "histogram2d"
           }
          ],
          "histogram2dcontour": [
           {
            "colorbar": {
             "outlinewidth": 1,
             "tickcolor": "rgb(36,36,36)",
             "ticks": "outside"
            },
            "colorscale": [
             [
              0,
              "#440154"
             ],
             [
              0.1111111111111111,
              "#482878"
             ],
             [
              0.2222222222222222,
              "#3e4989"
             ],
             [
              0.3333333333333333,
              "#31688e"
             ],
             [
              0.4444444444444444,
              "#26828e"
             ],
             [
              0.5555555555555556,
              "#1f9e89"
             ],
             [
              0.6666666666666666,
              "#35b779"
             ],
             [
              0.7777777777777778,
              "#6ece58"
             ],
             [
              0.8888888888888888,
              "#b5de2b"
             ],
             [
              1,
              "#fde725"
             ]
            ],
            "type": "histogram2dcontour"
           }
          ],
          "mesh3d": [
           {
            "colorbar": {
             "outlinewidth": 1,
             "tickcolor": "rgb(36,36,36)",
             "ticks": "outside"
            },
            "type": "mesh3d"
           }
          ],
          "parcoords": [
           {
            "line": {
             "colorbar": {
              "outlinewidth": 1,
              "tickcolor": "rgb(36,36,36)",
              "ticks": "outside"
             }
            },
            "type": "parcoords"
           }
          ],
          "pie": [
           {
            "automargin": true,
            "type": "pie"
           }
          ],
          "scatter": [
           {
            "fillpattern": {
             "fillmode": "overlay",
             "size": 10,
             "solidity": 0.2
            },
            "type": "scatter"
           }
          ],
          "scatter3d": [
           {
            "line": {
             "colorbar": {
              "outlinewidth": 1,
              "tickcolor": "rgb(36,36,36)",
              "ticks": "outside"
             }
            },
            "marker": {
             "colorbar": {
              "outlinewidth": 1,
              "tickcolor": "rgb(36,36,36)",
              "ticks": "outside"
             }
            },
            "type": "scatter3d"
           }
          ],
          "scattercarpet": [
           {
            "marker": {
             "colorbar": {
              "outlinewidth": 1,
              "tickcolor": "rgb(36,36,36)",
              "ticks": "outside"
             }
            },
            "type": "scattercarpet"
           }
          ],
          "scattergeo": [
           {
            "marker": {
             "colorbar": {
              "outlinewidth": 1,
              "tickcolor": "rgb(36,36,36)",
              "ticks": "outside"
             }
            },
            "type": "scattergeo"
           }
          ],
          "scattergl": [
           {
            "marker": {
             "colorbar": {
              "outlinewidth": 1,
              "tickcolor": "rgb(36,36,36)",
              "ticks": "outside"
             }
            },
            "type": "scattergl"
           }
          ],
          "scattermapbox": [
           {
            "marker": {
             "colorbar": {
              "outlinewidth": 1,
              "tickcolor": "rgb(36,36,36)",
              "ticks": "outside"
             }
            },
            "type": "scattermapbox"
           }
          ],
          "scatterpolar": [
           {
            "marker": {
             "colorbar": {
              "outlinewidth": 1,
              "tickcolor": "rgb(36,36,36)",
              "ticks": "outside"
             }
            },
            "type": "scatterpolar"
           }
          ],
          "scatterpolargl": [
           {
            "marker": {
             "colorbar": {
              "outlinewidth": 1,
              "tickcolor": "rgb(36,36,36)",
              "ticks": "outside"
             }
            },
            "type": "scatterpolargl"
           }
          ],
          "scatterternary": [
           {
            "marker": {
             "colorbar": {
              "outlinewidth": 1,
              "tickcolor": "rgb(36,36,36)",
              "ticks": "outside"
             }
            },
            "type": "scatterternary"
           }
          ],
          "surface": [
           {
            "colorbar": {
             "outlinewidth": 1,
             "tickcolor": "rgb(36,36,36)",
             "ticks": "outside"
            },
            "colorscale": [
             [
              0,
              "#440154"
             ],
             [
              0.1111111111111111,
              "#482878"
             ],
             [
              0.2222222222222222,
              "#3e4989"
             ],
             [
              0.3333333333333333,
              "#31688e"
             ],
             [
              0.4444444444444444,
              "#26828e"
             ],
             [
              0.5555555555555556,
              "#1f9e89"
             ],
             [
              0.6666666666666666,
              "#35b779"
             ],
             [
              0.7777777777777778,
              "#6ece58"
             ],
             [
              0.8888888888888888,
              "#b5de2b"
             ],
             [
              1,
              "#fde725"
             ]
            ],
            "type": "surface"
           }
          ],
          "table": [
           {
            "cells": {
             "fill": {
              "color": "rgb(237,237,237)"
             },
             "line": {
              "color": "white"
             }
            },
            "header": {
             "fill": {
              "color": "rgb(217,217,217)"
             },
             "line": {
              "color": "white"
             }
            },
            "type": "table"
           }
          ]
         },
         "layout": {
          "annotationdefaults": {
           "arrowhead": 0,
           "arrowwidth": 1
          },
          "autotypenumbers": "strict",
          "coloraxis": {
           "colorbar": {
            "outlinewidth": 1,
            "tickcolor": "rgb(36,36,36)",
            "ticks": "outside"
           }
          },
          "colorscale": {
           "diverging": [
            [
             0,
             "rgb(103,0,31)"
            ],
            [
             0.1,
             "rgb(178,24,43)"
            ],
            [
             0.2,
             "rgb(214,96,77)"
            ],
            [
             0.3,
             "rgb(244,165,130)"
            ],
            [
             0.4,
             "rgb(253,219,199)"
            ],
            [
             0.5,
             "rgb(247,247,247)"
            ],
            [
             0.6,
             "rgb(209,229,240)"
            ],
            [
             0.7,
             "rgb(146,197,222)"
            ],
            [
             0.8,
             "rgb(67,147,195)"
            ],
            [
             0.9,
             "rgb(33,102,172)"
            ],
            [
             1,
             "rgb(5,48,97)"
            ]
           ],
           "sequential": [
            [
             0,
             "#440154"
            ],
            [
             0.1111111111111111,
             "#482878"
            ],
            [
             0.2222222222222222,
             "#3e4989"
            ],
            [
             0.3333333333333333,
             "#31688e"
            ],
            [
             0.4444444444444444,
             "#26828e"
            ],
            [
             0.5555555555555556,
             "#1f9e89"
            ],
            [
             0.6666666666666666,
             "#35b779"
            ],
            [
             0.7777777777777778,
             "#6ece58"
            ],
            [
             0.8888888888888888,
             "#b5de2b"
            ],
            [
             1,
             "#fde725"
            ]
           ],
           "sequentialminus": [
            [
             0,
             "#440154"
            ],
            [
             0.1111111111111111,
             "#482878"
            ],
            [
             0.2222222222222222,
             "#3e4989"
            ],
            [
             0.3333333333333333,
             "#31688e"
            ],
            [
             0.4444444444444444,
             "#26828e"
            ],
            [
             0.5555555555555556,
             "#1f9e89"
            ],
            [
             0.6666666666666666,
             "#35b779"
            ],
            [
             0.7777777777777778,
             "#6ece58"
            ],
            [
             0.8888888888888888,
             "#b5de2b"
            ],
            [
             1,
             "#fde725"
            ]
           ]
          },
          "colorway": [
           "#1F77B4",
           "#FF7F0E",
           "#2CA02C",
           "#D62728",
           "#9467BD",
           "#8C564B",
           "#E377C2",
           "#7F7F7F",
           "#BCBD22",
           "#17BECF"
          ],
          "font": {
           "color": "rgb(36,36,36)"
          },
          "geo": {
           "bgcolor": "white",
           "lakecolor": "white",
           "landcolor": "white",
           "showlakes": true,
           "showland": true,
           "subunitcolor": "white"
          },
          "hoverlabel": {
           "align": "left"
          },
          "hovermode": "closest",
          "mapbox": {
           "style": "light"
          },
          "paper_bgcolor": "white",
          "plot_bgcolor": "white",
          "polar": {
           "angularaxis": {
            "gridcolor": "rgb(232,232,232)",
            "linecolor": "rgb(36,36,36)",
            "showgrid": false,
            "showline": true,
            "ticks": "outside"
           },
           "bgcolor": "white",
           "radialaxis": {
            "gridcolor": "rgb(232,232,232)",
            "linecolor": "rgb(36,36,36)",
            "showgrid": false,
            "showline": true,
            "ticks": "outside"
           }
          },
          "scene": {
           "xaxis": {
            "backgroundcolor": "white",
            "gridcolor": "rgb(232,232,232)",
            "gridwidth": 2,
            "linecolor": "rgb(36,36,36)",
            "showbackground": true,
            "showgrid": false,
            "showline": true,
            "ticks": "outside",
            "zeroline": false,
            "zerolinecolor": "rgb(36,36,36)"
           },
           "yaxis": {
            "backgroundcolor": "white",
            "gridcolor": "rgb(232,232,232)",
            "gridwidth": 2,
            "linecolor": "rgb(36,36,36)",
            "showbackground": true,
            "showgrid": false,
            "showline": true,
            "ticks": "outside",
            "zeroline": false,
            "zerolinecolor": "rgb(36,36,36)"
           },
           "zaxis": {
            "backgroundcolor": "white",
            "gridcolor": "rgb(232,232,232)",
            "gridwidth": 2,
            "linecolor": "rgb(36,36,36)",
            "showbackground": true,
            "showgrid": false,
            "showline": true,
            "ticks": "outside",
            "zeroline": false,
            "zerolinecolor": "rgb(36,36,36)"
           }
          },
          "shapedefaults": {
           "fillcolor": "black",
           "line": {
            "width": 0
           },
           "opacity": 0.3
          },
          "ternary": {
           "aaxis": {
            "gridcolor": "rgb(232,232,232)",
            "linecolor": "rgb(36,36,36)",
            "showgrid": false,
            "showline": true,
            "ticks": "outside"
           },
           "baxis": {
            "gridcolor": "rgb(232,232,232)",
            "linecolor": "rgb(36,36,36)",
            "showgrid": false,
            "showline": true,
            "ticks": "outside"
           },
           "bgcolor": "white",
           "caxis": {
            "gridcolor": "rgb(232,232,232)",
            "linecolor": "rgb(36,36,36)",
            "showgrid": false,
            "showline": true,
            "ticks": "outside"
           }
          },
          "title": {
           "x": 0.05
          },
          "xaxis": {
           "automargin": true,
           "gridcolor": "rgb(232,232,232)",
           "linecolor": "rgb(36,36,36)",
           "showgrid": false,
           "showline": true,
           "ticks": "outside",
           "title": {
            "standoff": 15
           },
           "zeroline": false,
           "zerolinecolor": "rgb(36,36,36)"
          },
          "yaxis": {
           "automargin": true,
           "gridcolor": "rgb(232,232,232)",
           "linecolor": "rgb(36,36,36)",
           "showgrid": true,
           "showline": false,
           "ticks": "outside",
           "title": {
            "standoff": 15
           },
           "zeroline": false,
           "zerolinecolor": "rgb(36,36,36)"
          }
         }
        },
        "title": {
         "text": "Diabetes dataset"
        },
        "xaxis": {
         "title": {
          "text": "age"
         }
        },
        "yaxis": {
         "title": {
          "text": "bmi"
         }
        }
       }
      }
     },
     "metadata": {},
     "output_type": "display_data"
    }
   ],
   "source": [
    "# 独自テンプレートを読み込み\n",
    "with open('custom_white.json') as f:\n",
    "    custom_white_dict = json.load(f)\n",
    "    template = Template(custom_white_dict)\n",
    "\n",
    "# Traceを作成\n",
    "trace = go.Scatter(\n",
    "    x=df['age'],\n",
    "    y=df['bmi'],\n",
    "    mode='markers',\n",
    "    name='BMI'\n",
    ")   # 年齢とBMIの散布図\n",
    "\n",
    "# Layoutを作成\n",
    "layout=go.Layout(\n",
    "    template=template,\n",
    "    title='Diabetes dataset',\n",
    "    xaxis={'title': 'age'},\n",
    "    yaxis={'title': 'bmi'}\n",
    ")\n",
    "\n",
    "# Figureを作成\n",
    "figure = go.Figure(trace, layout)\n",
    "\n",
    "# figure.write_image('./figure/out_7_1_1.png', width=900, height=450, scale=2)\n",
    "figure"
   ]
  },
  {
   "cell_type": "code",
   "execution_count": 3,
   "metadata": {},
   "outputs": [
    {
     "data": {
      "application/vnd.plotly.v1+json": {
       "config": {
        "plotlyServerURL": "https://plot.ly"
       },
       "data": [
        {
         "hoverinfo": "x+y+text+name",
         "hovertext": [
          0,
          1,
          2,
          3,
          4,
          5,
          6,
          7,
          8,
          9,
          10,
          11,
          12,
          13,
          14,
          15,
          16,
          17,
          18,
          19,
          20,
          21,
          22,
          23,
          24,
          25,
          26,
          27,
          28,
          29,
          30,
          31,
          32,
          33,
          34,
          35,
          36,
          37,
          38,
          39,
          40,
          41,
          42,
          43,
          44,
          45,
          46,
          47,
          48,
          49,
          50,
          51,
          52,
          53,
          54,
          55,
          56,
          57,
          58,
          59,
          60,
          61,
          62,
          63,
          64,
          65,
          66,
          67,
          68,
          69,
          70,
          71,
          72,
          73,
          74,
          75,
          76,
          77,
          78,
          79,
          80,
          81,
          82,
          83,
          84,
          85,
          86,
          87,
          88,
          89,
          90,
          91,
          92,
          93,
          94,
          95,
          96,
          97,
          98,
          99,
          100,
          101,
          102,
          103,
          104,
          105,
          106,
          107,
          108,
          109,
          110,
          111,
          112,
          113,
          114,
          115,
          116,
          117,
          118,
          119,
          120,
          121,
          122,
          123,
          124,
          125,
          126,
          127,
          128,
          129,
          130,
          131,
          132,
          133,
          134,
          135,
          136,
          137,
          138,
          139,
          140,
          141,
          142,
          143,
          144,
          145,
          146,
          147,
          148,
          149,
          150,
          151,
          152,
          153,
          154,
          155,
          156,
          157,
          158,
          159,
          160,
          161,
          162,
          163,
          164,
          165,
          166,
          167,
          168,
          169,
          170,
          171,
          172,
          173,
          174,
          175,
          176,
          177,
          178,
          179,
          180,
          181,
          182,
          183,
          184,
          185,
          186,
          187,
          188,
          189,
          190,
          191,
          192,
          193,
          194,
          195,
          196,
          197,
          198,
          199,
          200,
          201,
          202,
          203,
          204,
          205,
          206,
          207,
          208,
          209,
          210,
          211,
          212,
          213,
          214,
          215,
          216,
          217,
          218,
          219,
          220,
          221,
          222,
          223,
          224,
          225,
          226,
          227,
          228,
          229,
          230,
          231,
          232,
          233,
          234,
          235,
          236,
          237,
          238,
          239,
          240,
          241,
          242,
          243,
          244,
          245,
          246,
          247,
          248,
          249,
          250,
          251,
          252,
          253,
          254,
          255,
          256,
          257,
          258,
          259,
          260,
          261,
          262,
          263,
          264,
          265,
          266,
          267,
          268,
          269,
          270,
          271,
          272,
          273,
          274,
          275,
          276,
          277,
          278,
          279,
          280,
          281,
          282,
          283,
          284,
          285,
          286,
          287,
          288,
          289,
          290,
          291,
          292,
          293,
          294,
          295,
          296,
          297,
          298,
          299,
          300,
          301,
          302,
          303,
          304,
          305,
          306,
          307,
          308,
          309,
          310,
          311,
          312,
          313,
          314,
          315,
          316,
          317,
          318,
          319,
          320,
          321,
          322,
          323,
          324,
          325,
          326,
          327,
          328,
          329,
          330,
          331,
          332,
          333,
          334,
          335,
          336,
          337,
          338,
          339,
          340,
          341,
          342,
          343,
          344,
          345,
          346,
          347,
          348,
          349,
          350,
          351,
          352,
          353,
          354,
          355,
          356,
          357,
          358,
          359,
          360,
          361,
          362,
          363,
          364,
          365,
          366,
          367,
          368,
          369,
          370,
          371,
          372,
          373,
          374,
          375,
          376,
          377,
          378,
          379,
          380,
          381,
          382,
          383,
          384,
          385,
          386,
          387,
          388,
          389,
          390,
          391,
          392,
          393,
          394,
          395,
          396,
          397,
          398,
          399,
          400,
          401,
          402,
          403,
          404,
          405,
          406,
          407,
          408,
          409,
          410,
          411,
          412,
          413,
          414,
          415,
          416,
          417,
          418,
          419,
          420,
          421,
          422,
          423,
          424,
          425,
          426,
          427,
          428,
          429,
          430,
          431,
          432,
          433,
          434,
          435,
          436,
          437,
          438,
          439,
          440,
          441
         ],
         "mode": "markers",
         "name": "BMI",
         "type": "scatter",
         "x": [
          59,
          48,
          72,
          24,
          50,
          23,
          36,
          66,
          60,
          29,
          22,
          56,
          53,
          50,
          61,
          34,
          47,
          68,
          38,
          41,
          35,
          25,
          25,
          61,
          31,
          30,
          19,
          42,
          63,
          67,
          32,
          42,
          58,
          57,
          53,
          62,
          52,
          46,
          48,
          48,
          50,
          21,
          32,
          54,
          61,
          56,
          33,
          27,
          67,
          37,
          58,
          65,
          34,
          46,
          35,
          37,
          37,
          41,
          60,
          66,
          29,
          37,
          41,
          39,
          67,
          36,
          46,
          60,
          59,
          53,
          48,
          48,
          66,
          52,
          52,
          46,
          40,
          22,
          50,
          20,
          68,
          52,
          44,
          38,
          49,
          61,
          29,
          61,
          34,
          36,
          52,
          61,
          43,
          35,
          27,
          29,
          64,
          41,
          49,
          48,
          53,
          53,
          23,
          65,
          41,
          55,
          22,
          56,
          54,
          59,
          60,
          54,
          25,
          54,
          55,
          40,
          62,
          65,
          33,
          53,
          35,
          66,
          62,
          50,
          47,
          47,
          24,
          58,
          34,
          51,
          31,
          22,
          53,
          37,
          28,
          47,
          23,
          50,
          58,
          55,
          60,
          41,
          60,
          40,
          57,
          37,
          40,
          33,
          32,
          35,
          55,
          49,
          39,
          60,
          67,
          41,
          44,
          48,
          45,
          47,
          46,
          36,
          34,
          53,
          61,
          37,
          33,
          68,
          49,
          48,
          55,
          43,
          60,
          31,
          53,
          67,
          61,
          62,
          60,
          42,
          38,
          62,
          61,
          61,
          53,
          28,
          26,
          30,
          50,
          48,
          51,
          47,
          64,
          51,
          30,
          56,
          42,
          62,
          34,
          60,
          64,
          39,
          71,
          48,
          79,
          40,
          49,
          51,
          57,
          59,
          51,
          74,
          67,
          49,
          57,
          56,
          52,
          69,
          37,
          24,
          55,
          36,
          42,
          21,
          41,
          57,
          20,
          67,
          34,
          41,
          38,
          51,
          52,
          67,
          61,
          67,
          56,
          64,
          58,
          55,
          62,
          57,
          20,
          53,
          32,
          41,
          60,
          26,
          37,
          45,
          67,
          34,
          50,
          71,
          57,
          49,
          35,
          41,
          70,
          52,
          60,
          62,
          44,
          28,
          58,
          39,
          34,
          65,
          66,
          51,
          50,
          59,
          52,
          69,
          53,
          47,
          52,
          39,
          67,
          59,
          51,
          23,
          68,
          44,
          60,
          52,
          38,
          61,
          68,
          28,
          65,
          69,
          51,
          29,
          55,
          34,
          67,
          49,
          55,
          59,
          53,
          48,
          52,
          69,
          60,
          46,
          51,
          67,
          49,
          46,
          47,
          75,
          28,
          65,
          42,
          51,
          53,
          54,
          73,
          54,
          42,
          75,
          55,
          68,
          57,
          48,
          61,
          69,
          38,
          45,
          51,
          71,
          57,
          56,
          32,
          50,
          43,
          54,
          31,
          56,
          44,
          57,
          64,
          43,
          19,
          71,
          50,
          59,
          57,
          49,
          41,
          25,
          52,
          34,
          42,
          28,
          47,
          32,
          43,
          59,
          53,
          60,
          54,
          35,
          49,
          58,
          36,
          46,
          44,
          46,
          54,
          63,
          41,
          28,
          19,
          61,
          48,
          54,
          53,
          48,
          53,
          29,
          62,
          50,
          58,
          55,
          54,
          36,
          63,
          47,
          51,
          42,
          37,
          28,
          58,
          32,
          25,
          63,
          52,
          65,
          42,
          53,
          79,
          43,
          44,
          62,
          33,
          56,
          66,
          34,
          46,
          50,
          69,
          34,
          71,
          47,
          41,
          34,
          51,
          43,
          55,
          59,
          27,
          51,
          49,
          27,
          57,
          39,
          62,
          37,
          46,
          68,
          51,
          41,
          53,
          45,
          33,
          60,
          47,
          60,
          36,
          36
         ],
         "y": [
          32.1,
          21.6,
          30.5,
          25.3,
          23,
          22.6,
          22,
          26.2,
          32.1,
          30,
          18.6,
          28,
          23.7,
          26.2,
          24,
          24.7,
          30.3,
          27.5,
          25.4,
          24.7,
          21.1,
          24.3,
          26,
          32,
          29.7,
          25.2,
          19.2,
          31.9,
          24.4,
          25.8,
          30.5,
          20.3,
          38,
          21.7,
          20.5,
          23.5,
          28.5,
          27.4,
          33,
          27.7,
          25.6,
          20.1,
          25.4,
          24.2,
          32.7,
          23.1,
          25.3,
          19.6,
          22.5,
          27.7,
          25.7,
          27.9,
          25.5,
          24.9,
          28.7,
          21.8,
          30.2,
          20.5,
          20.4,
          24,
          26,
          26.8,
          25.7,
          22.9,
          24,
          24.1,
          24.7,
          25,
          23.6,
          22.1,
          19.9,
          29.5,
          26,
          24.5,
          26.6,
          23.5,
          29,
          23,
          21,
          22.9,
          27.5,
          24.3,
          23.1,
          27.3,
          22.7,
          33,
          19.4,
          25.8,
          22.6,
          21.9,
          24,
          31.2,
          26.8,
          20.4,
          24.8,
          21,
          27.3,
          34.6,
          25.9,
          20.4,
          28,
          22.2,
          29,
          30.2,
          32.4,
          23.4,
          19.3,
          31,
          30.6,
          25.5,
          23.4,
          26.8,
          28.3,
          27.7,
          36.6,
          26.5,
          31.8,
          24.4,
          25.4,
          22,
          26.8,
          28,
          33.9,
          29.6,
          28.6,
          25.6,
          20.7,
          26.2,
          20.6,
          27.9,
          35.3,
          19.9,
          24.4,
          21.4,
          30.4,
          31.6,
          18.8,
          31,
          36.7,
          32.1,
          27.7,
          30.8,
          27.5,
          26.9,
          30.7,
          38.3,
          31.9,
          35,
          27.8,
          25.9,
          32.9,
          26,
          26.3,
          22.3,
          28.3,
          32,
          25.4,
          23.3,
          20.3,
          30.4,
          20.6,
          32.3,
          29.2,
          33.1,
          24.6,
          20.2,
          20.8,
          32.8,
          31.9,
          23.9,
          24.5,
          22.1,
          33,
          19,
          27.3,
          22.8,
          28.2,
          28.9,
          25.6,
          24.9,
          26.8,
          22.4,
          26.9,
          23.1,
          28.6,
          24.7,
          30.3,
          21.3,
          26.1,
          20.2,
          25.2,
          22.5,
          23.5,
          25.9,
          20.9,
          28.7,
          22.1,
          26.7,
          31.4,
          22.2,
          21,
          21.2,
          26.5,
          29.2,
          27,
          30.7,
          28.8,
          30.6,
          30.1,
          24.7,
          27.7,
          29.8,
          26.7,
          19.8,
          23.3,
          35.1,
          29.7,
          29.3,
          20.3,
          22.5,
          22.7,
          22.8,
          24,
          24.2,
          20.2,
          29.4,
          22.1,
          23.6,
          25.2,
          24.9,
          33,
          23.5,
          26.4,
          29.8,
          30,
          25,
          27,
          20,
          25.5,
          28.2,
          33.3,
          25.6,
          24.2,
          22.1,
          31.4,
          23.1,
          23.4,
          18.8,
          30.8,
          32,
          31.6,
          35.5,
          31.9,
          29.5,
          31.6,
          20.3,
          41.3,
          21.2,
          24.1,
          23,
          25.6,
          22.5,
          38.2,
          19.2,
          29,
          24,
          20.6,
          26.3,
          34.6,
          23.4,
          29.2,
          27.2,
          27,
          24.5,
          24.1,
          25.3,
          28.8,
          20.9,
          23,
          24.1,
          28.1,
          18,
          25.9,
          21.5,
          24.3,
          24.5,
          21.3,
          25.8,
          24.8,
          31.5,
          33.5,
          28.1,
          24.3,
          35,
          23.5,
          30,
          20.7,
          25.6,
          22.9,
          25.1,
          33.2,
          24.1,
          29.5,
          29.6,
          22.8,
          22.7,
          26.2,
          23.5,
          22.1,
          26.5,
          32.4,
          30.1,
          24.2,
          31.3,
          30.1,
          24.5,
          27.7,
          23.2,
          27,
          26.8,
          29.2,
          31.2,
          32.1,
          25.7,
          26.9,
          31.4,
          25.6,
          37,
          32.6,
          21.2,
          29.2,
          24,
          36.1,
          25.8,
          22,
          21.9,
          34.3,
          25.2,
          23.3,
          25.7,
          25.1,
          31.9,
          28.4,
          28.1,
          25.3,
          26.1,
          28,
          23.6,
          24.5,
          21,
          32,
          22.6,
          19.7,
          21.2,
          30.6,
          25.5,
          23.3,
          31,
          18.5,
          26.9,
          28.3,
          25.7,
          36.1,
          24.1,
          25.8,
          22.8,
          39.1,
          42.2,
          26.6,
          29.9,
          21,
          25.5,
          24.2,
          25.4,
          23.2,
          26.1,
          32.7,
          27.3,
          26.6,
          22.8,
          28.8,
          18.1,
          32,
          23.7,
          23.6,
          24.6,
          22.6,
          27.8,
          24.1,
          26.5,
          32.8,
          19.9,
          23.6,
          22.1,
          28.1,
          26.5,
          23.5,
          26,
          27.8,
          28.5,
          30.6,
          22.2,
          23.3,
          35.4,
          31.4,
          37.8,
          18.9,
          35,
          21.7,
          25.3,
          23.8,
          31.8,
          34.3,
          26.3,
          27,
          27.2,
          33.8,
          33,
          24.1,
          21.3,
          23,
          27.9,
          33.6,
          22.7,
          27.4,
          22.6,
          23.2,
          26.9,
          34.6,
          23.3,
          21.1,
          23.5,
          31.5,
          20.8,
          26.5,
          24.2,
          19.5,
          28.2,
          24.9,
          24.9,
          30,
          19.6
         ]
        }
       ],
       "layout": {
        "template": {
         "data": {
          "bar": [
           {
            "error_x": {
             "color": "rgb(36,36,36)"
            },
            "error_y": {
             "color": "rgb(36,36,36)"
            },
            "marker": {
             "line": {
              "color": "white",
              "width": 0.5
             },
             "pattern": {
              "fillmode": "overlay",
              "size": 10,
              "solidity": 0.2
             }
            },
            "type": "bar"
           }
          ],
          "barpolar": [
           {
            "marker": {
             "line": {
              "color": "white",
              "width": 0.5
             },
             "pattern": {
              "fillmode": "overlay",
              "size": 10,
              "solidity": 0.2
             }
            },
            "type": "barpolar"
           }
          ],
          "carpet": [
           {
            "aaxis": {
             "endlinecolor": "rgb(36,36,36)",
             "gridcolor": "white",
             "linecolor": "white",
             "minorgridcolor": "white",
             "startlinecolor": "rgb(36,36,36)"
            },
            "baxis": {
             "endlinecolor": "rgb(36,36,36)",
             "gridcolor": "white",
             "linecolor": "white",
             "minorgridcolor": "white",
             "startlinecolor": "rgb(36,36,36)"
            },
            "type": "carpet"
           }
          ],
          "choropleth": [
           {
            "colorbar": {
             "outlinewidth": 1,
             "tickcolor": "rgb(36,36,36)",
             "ticks": "outside"
            },
            "type": "choropleth"
           }
          ],
          "contour": [
           {
            "colorbar": {
             "outlinewidth": 1,
             "tickcolor": "rgb(36,36,36)",
             "ticks": "outside"
            },
            "colorscale": [
             [
              0,
              "#440154"
             ],
             [
              0.1111111111111111,
              "#482878"
             ],
             [
              0.2222222222222222,
              "#3e4989"
             ],
             [
              0.3333333333333333,
              "#31688e"
             ],
             [
              0.4444444444444444,
              "#26828e"
             ],
             [
              0.5555555555555556,
              "#1f9e89"
             ],
             [
              0.6666666666666666,
              "#35b779"
             ],
             [
              0.7777777777777778,
              "#6ece58"
             ],
             [
              0.8888888888888888,
              "#b5de2b"
             ],
             [
              1,
              "#fde725"
             ]
            ],
            "type": "contour"
           }
          ],
          "contourcarpet": [
           {
            "colorbar": {
             "outlinewidth": 1,
             "tickcolor": "rgb(36,36,36)",
             "ticks": "outside"
            },
            "type": "contourcarpet"
           }
          ],
          "heatmap": [
           {
            "colorbar": {
             "outlinewidth": 1,
             "tickcolor": "rgb(36,36,36)",
             "ticks": "outside"
            },
            "colorscale": [
             [
              0,
              "#440154"
             ],
             [
              0.1111111111111111,
              "#482878"
             ],
             [
              0.2222222222222222,
              "#3e4989"
             ],
             [
              0.3333333333333333,
              "#31688e"
             ],
             [
              0.4444444444444444,
              "#26828e"
             ],
             [
              0.5555555555555556,
              "#1f9e89"
             ],
             [
              0.6666666666666666,
              "#35b779"
             ],
             [
              0.7777777777777778,
              "#6ece58"
             ],
             [
              0.8888888888888888,
              "#b5de2b"
             ],
             [
              1,
              "#fde725"
             ]
            ],
            "type": "heatmap"
           }
          ],
          "heatmapgl": [
           {
            "colorbar": {
             "outlinewidth": 1,
             "tickcolor": "rgb(36,36,36)",
             "ticks": "outside"
            },
            "colorscale": [
             [
              0,
              "#440154"
             ],
             [
              0.1111111111111111,
              "#482878"
             ],
             [
              0.2222222222222222,
              "#3e4989"
             ],
             [
              0.3333333333333333,
              "#31688e"
             ],
             [
              0.4444444444444444,
              "#26828e"
             ],
             [
              0.5555555555555556,
              "#1f9e89"
             ],
             [
              0.6666666666666666,
              "#35b779"
             ],
             [
              0.7777777777777778,
              "#6ece58"
             ],
             [
              0.8888888888888888,
              "#b5de2b"
             ],
             [
              1,
              "#fde725"
             ]
            ],
            "type": "heatmapgl"
           }
          ],
          "histogram": [
           {
            "marker": {
             "line": {
              "color": "white",
              "width": 0.6
             }
            },
            "type": "histogram"
           }
          ],
          "histogram2d": [
           {
            "colorbar": {
             "outlinewidth": 1,
             "tickcolor": "rgb(36,36,36)",
             "ticks": "outside"
            },
            "colorscale": [
             [
              0,
              "#440154"
             ],
             [
              0.1111111111111111,
              "#482878"
             ],
             [
              0.2222222222222222,
              "#3e4989"
             ],
             [
              0.3333333333333333,
              "#31688e"
             ],
             [
              0.4444444444444444,
              "#26828e"
             ],
             [
              0.5555555555555556,
              "#1f9e89"
             ],
             [
              0.6666666666666666,
              "#35b779"
             ],
             [
              0.7777777777777778,
              "#6ece58"
             ],
             [
              0.8888888888888888,
              "#b5de2b"
             ],
             [
              1,
              "#fde725"
             ]
            ],
            "type": "histogram2d"
           }
          ],
          "histogram2dcontour": [
           {
            "colorbar": {
             "outlinewidth": 1,
             "tickcolor": "rgb(36,36,36)",
             "ticks": "outside"
            },
            "colorscale": [
             [
              0,
              "#440154"
             ],
             [
              0.1111111111111111,
              "#482878"
             ],
             [
              0.2222222222222222,
              "#3e4989"
             ],
             [
              0.3333333333333333,
              "#31688e"
             ],
             [
              0.4444444444444444,
              "#26828e"
             ],
             [
              0.5555555555555556,
              "#1f9e89"
             ],
             [
              0.6666666666666666,
              "#35b779"
             ],
             [
              0.7777777777777778,
              "#6ece58"
             ],
             [
              0.8888888888888888,
              "#b5de2b"
             ],
             [
              1,
              "#fde725"
             ]
            ],
            "type": "histogram2dcontour"
           }
          ],
          "mesh3d": [
           {
            "colorbar": {
             "outlinewidth": 1,
             "tickcolor": "rgb(36,36,36)",
             "ticks": "outside"
            },
            "type": "mesh3d"
           }
          ],
          "parcoords": [
           {
            "line": {
             "colorbar": {
              "outlinewidth": 1,
              "tickcolor": "rgb(36,36,36)",
              "ticks": "outside"
             }
            },
            "type": "parcoords"
           }
          ],
          "pie": [
           {
            "automargin": true,
            "type": "pie"
           }
          ],
          "scatter": [
           {
            "fillpattern": {
             "fillmode": "overlay",
             "size": 10,
             "solidity": 0.2
            },
            "type": "scatter"
           }
          ],
          "scatter3d": [
           {
            "line": {
             "colorbar": {
              "outlinewidth": 1,
              "tickcolor": "rgb(36,36,36)",
              "ticks": "outside"
             }
            },
            "marker": {
             "colorbar": {
              "outlinewidth": 1,
              "tickcolor": "rgb(36,36,36)",
              "ticks": "outside"
             }
            },
            "type": "scatter3d"
           }
          ],
          "scattercarpet": [
           {
            "marker": {
             "colorbar": {
              "outlinewidth": 1,
              "tickcolor": "rgb(36,36,36)",
              "ticks": "outside"
             }
            },
            "type": "scattercarpet"
           }
          ],
          "scattergeo": [
           {
            "marker": {
             "colorbar": {
              "outlinewidth": 1,
              "tickcolor": "rgb(36,36,36)",
              "ticks": "outside"
             }
            },
            "type": "scattergeo"
           }
          ],
          "scattergl": [
           {
            "marker": {
             "colorbar": {
              "outlinewidth": 1,
              "tickcolor": "rgb(36,36,36)",
              "ticks": "outside"
             }
            },
            "type": "scattergl"
           }
          ],
          "scattermapbox": [
           {
            "marker": {
             "colorbar": {
              "outlinewidth": 1,
              "tickcolor": "rgb(36,36,36)",
              "ticks": "outside"
             }
            },
            "type": "scattermapbox"
           }
          ],
          "scatterpolar": [
           {
            "marker": {
             "colorbar": {
              "outlinewidth": 1,
              "tickcolor": "rgb(36,36,36)",
              "ticks": "outside"
             }
            },
            "type": "scatterpolar"
           }
          ],
          "scatterpolargl": [
           {
            "marker": {
             "colorbar": {
              "outlinewidth": 1,
              "tickcolor": "rgb(36,36,36)",
              "ticks": "outside"
             }
            },
            "type": "scatterpolargl"
           }
          ],
          "scatterternary": [
           {
            "marker": {
             "colorbar": {
              "outlinewidth": 1,
              "tickcolor": "rgb(36,36,36)",
              "ticks": "outside"
             }
            },
            "type": "scatterternary"
           }
          ],
          "surface": [
           {
            "colorbar": {
             "outlinewidth": 1,
             "tickcolor": "rgb(36,36,36)",
             "ticks": "outside"
            },
            "colorscale": [
             [
              0,
              "#440154"
             ],
             [
              0.1111111111111111,
              "#482878"
             ],
             [
              0.2222222222222222,
              "#3e4989"
             ],
             [
              0.3333333333333333,
              "#31688e"
             ],
             [
              0.4444444444444444,
              "#26828e"
             ],
             [
              0.5555555555555556,
              "#1f9e89"
             ],
             [
              0.6666666666666666,
              "#35b779"
             ],
             [
              0.7777777777777778,
              "#6ece58"
             ],
             [
              0.8888888888888888,
              "#b5de2b"
             ],
             [
              1,
              "#fde725"
             ]
            ],
            "type": "surface"
           }
          ],
          "table": [
           {
            "cells": {
             "fill": {
              "color": "rgb(237,237,237)"
             },
             "line": {
              "color": "white"
             }
            },
            "header": {
             "fill": {
              "color": "rgb(217,217,217)"
             },
             "line": {
              "color": "white"
             }
            },
            "type": "table"
           }
          ]
         },
         "layout": {
          "annotationdefaults": {
           "arrowhead": 0,
           "arrowwidth": 1
          },
          "autotypenumbers": "strict",
          "coloraxis": {
           "colorbar": {
            "outlinewidth": 1,
            "tickcolor": "rgb(36,36,36)",
            "ticks": "outside"
           }
          },
          "colorscale": {
           "diverging": [
            [
             0,
             "rgb(103,0,31)"
            ],
            [
             0.1,
             "rgb(178,24,43)"
            ],
            [
             0.2,
             "rgb(214,96,77)"
            ],
            [
             0.3,
             "rgb(244,165,130)"
            ],
            [
             0.4,
             "rgb(253,219,199)"
            ],
            [
             0.5,
             "rgb(247,247,247)"
            ],
            [
             0.6,
             "rgb(209,229,240)"
            ],
            [
             0.7,
             "rgb(146,197,222)"
            ],
            [
             0.8,
             "rgb(67,147,195)"
            ],
            [
             0.9,
             "rgb(33,102,172)"
            ],
            [
             1,
             "rgb(5,48,97)"
            ]
           ],
           "sequential": [
            [
             0,
             "#440154"
            ],
            [
             0.1111111111111111,
             "#482878"
            ],
            [
             0.2222222222222222,
             "#3e4989"
            ],
            [
             0.3333333333333333,
             "#31688e"
            ],
            [
             0.4444444444444444,
             "#26828e"
            ],
            [
             0.5555555555555556,
             "#1f9e89"
            ],
            [
             0.6666666666666666,
             "#35b779"
            ],
            [
             0.7777777777777778,
             "#6ece58"
            ],
            [
             0.8888888888888888,
             "#b5de2b"
            ],
            [
             1,
             "#fde725"
            ]
           ],
           "sequentialminus": [
            [
             0,
             "#440154"
            ],
            [
             0.1111111111111111,
             "#482878"
            ],
            [
             0.2222222222222222,
             "#3e4989"
            ],
            [
             0.3333333333333333,
             "#31688e"
            ],
            [
             0.4444444444444444,
             "#26828e"
            ],
            [
             0.5555555555555556,
             "#1f9e89"
            ],
            [
             0.6666666666666666,
             "#35b779"
            ],
            [
             0.7777777777777778,
             "#6ece58"
            ],
            [
             0.8888888888888888,
             "#b5de2b"
            ],
            [
             1,
             "#fde725"
            ]
           ]
          },
          "colorway": [
           "#1F77B4",
           "#FF7F0E",
           "#2CA02C",
           "#D62728",
           "#9467BD",
           "#8C564B",
           "#E377C2",
           "#7F7F7F",
           "#BCBD22",
           "#17BECF"
          ],
          "font": {
           "color": "rgb(36,36,36)"
          },
          "geo": {
           "bgcolor": "white",
           "lakecolor": "white",
           "landcolor": "white",
           "showlakes": true,
           "showland": true,
           "subunitcolor": "white"
          },
          "hoverlabel": {
           "align": "left"
          },
          "hovermode": "closest",
          "mapbox": {
           "style": "light"
          },
          "paper_bgcolor": "white",
          "plot_bgcolor": "white",
          "polar": {
           "angularaxis": {
            "gridcolor": "rgb(232,232,232)",
            "linecolor": "rgb(36,36,36)",
            "showgrid": false,
            "showline": true,
            "ticks": "outside"
           },
           "bgcolor": "white",
           "radialaxis": {
            "gridcolor": "rgb(232,232,232)",
            "linecolor": "rgb(36,36,36)",
            "showgrid": false,
            "showline": true,
            "ticks": "outside"
           }
          },
          "scene": {
           "xaxis": {
            "backgroundcolor": "white",
            "gridcolor": "rgb(232,232,232)",
            "gridwidth": 2,
            "linecolor": "rgb(36,36,36)",
            "showbackground": true,
            "showgrid": false,
            "showline": true,
            "ticks": "outside",
            "zeroline": false,
            "zerolinecolor": "rgb(36,36,36)"
           },
           "yaxis": {
            "backgroundcolor": "white",
            "gridcolor": "rgb(232,232,232)",
            "gridwidth": 2,
            "linecolor": "rgb(36,36,36)",
            "showbackground": true,
            "showgrid": false,
            "showline": true,
            "ticks": "outside",
            "zeroline": false,
            "zerolinecolor": "rgb(36,36,36)"
           },
           "zaxis": {
            "backgroundcolor": "white",
            "gridcolor": "rgb(232,232,232)",
            "gridwidth": 2,
            "linecolor": "rgb(36,36,36)",
            "showbackground": true,
            "showgrid": false,
            "showline": true,
            "ticks": "outside",
            "zeroline": false,
            "zerolinecolor": "rgb(36,36,36)"
           }
          },
          "shapedefaults": {
           "fillcolor": "black",
           "line": {
            "width": 0
           },
           "opacity": 0.3
          },
          "ternary": {
           "aaxis": {
            "gridcolor": "rgb(232,232,232)",
            "linecolor": "rgb(36,36,36)",
            "showgrid": false,
            "showline": true,
            "ticks": "outside"
           },
           "baxis": {
            "gridcolor": "rgb(232,232,232)",
            "linecolor": "rgb(36,36,36)",
            "showgrid": false,
            "showline": true,
            "ticks": "outside"
           },
           "bgcolor": "white",
           "caxis": {
            "gridcolor": "rgb(232,232,232)",
            "linecolor": "rgb(36,36,36)",
            "showgrid": false,
            "showline": true,
            "ticks": "outside"
           }
          },
          "title": {
           "x": 0.05
          },
          "xaxis": {
           "automargin": true,
           "gridcolor": "rgb(232,232,232)",
           "linecolor": "rgb(36,36,36)",
           "showgrid": false,
           "showline": true,
           "ticks": "outside",
           "title": {
            "standoff": 15
           },
           "zeroline": false,
           "zerolinecolor": "rgb(36,36,36)"
          },
          "yaxis": {
           "automargin": true,
           "gridcolor": "rgb(232,232,232)",
           "linecolor": "rgb(36,36,36)",
           "showgrid": true,
           "showline": false,
           "ticks": "outside",
           "title": {
            "standoff": 15
           },
           "zeroline": false,
           "zerolinecolor": "rgb(36,36,36)"
          }
         }
        },
        "title": {
         "text": "Diabetes dataset"
        },
        "xaxis": {
         "title": {
          "text": "age"
         }
        },
        "yaxis": {
         "title": {
          "text": "bmi"
         }
        }
       }
      }
     },
     "metadata": {},
     "output_type": "display_data"
    }
   ],
   "source": [
    "# Traceを作成\n",
    "trace = go.Scatter(\n",
    "    x=df['age'],\n",
    "    y=df['bmi'],\n",
    "    mode='markers',\n",
    "    name='BMI',\n",
    "    hovertext=df.index,         # ホバーテキストに行番号を使用\n",
    "    hoverinfo='x+y+text+name'   # ホバー表示はx座標、y座標、ホバーテキスト（行番号）、Trace名\n",
    ")\n",
    "\n",
    "figure = go.Figure(trace, layout)\n",
    "\n",
    "# figure.write_image('./figure/out_7_1_2.png', width=900, height=450, scale=2)\n",
    "figure"
   ]
  },
  {
   "cell_type": "code",
   "execution_count": 4,
   "metadata": {},
   "outputs": [
    {
     "data": {
      "application/vnd.plotly.v1+json": {
       "config": {
        "plotlyServerURL": "https://plot.ly"
       },
       "data": [
        {
         "customdata": [
          [
           157,
           93.2,
           38
          ],
          [
           183,
           103.2,
           70
          ],
          [
           156,
           93.6,
           41
          ],
          [
           198,
           131.4,
           40
          ],
          [
           192,
           125.4,
           52
          ],
          [
           139,
           64.8,
           61
          ],
          [
           160,
           99.6,
           50
          ],
          [
           255,
           185,
           56
          ],
          [
           179,
           119.4,
           42
          ],
          [
           180,
           93.4,
           43
          ],
          [
           114,
           57.6,
           46
          ],
          [
           184,
           144.8,
           32
          ],
          [
           186,
           109.2,
           62
          ],
          [
           186,
           105.4,
           49
          ],
          [
           202,
           115.4,
           72
          ],
          [
           254,
           184.2,
           39
          ],
          [
           207,
           100.2,
           70
          ],
          [
           214,
           147,
           39
          ],
          [
           162,
           103,
           42
          ],
          [
           187,
           108.2,
           60
          ],
          [
           156,
           87.8,
           50
          ],
          [
           162,
           98.6,
           54
          ],
          [
           187,
           120.4,
           56
          ],
          [
           210,
           85.2,
           35
          ],
          [
           167,
           103.4,
           48
          ],
          [
           178,
           118.4,
           34
          ],
          [
           124,
           54,
           57
          ],
          [
           158,
           87.6,
           53
          ],
          [
           160,
           91.4,
           48
          ],
          [
           158,
           54.2,
           64
          ],
          [
           182,
           110.6,
           56
          ],
          [
           161,
           81.2,
           66
          ],
          [
           150,
           107.2,
           22
          ],
          [
           157,
           58,
           82
          ],
          [
           147,
           84.2,
           52
          ],
          [
           225,
           112.8,
           86
          ],
          [
           195,
           97.2,
           60
          ],
          [
           171,
           88,
           58
          ],
          [
           253,
           163.6,
           44
          ],
          [
           191,
           119.4,
           46
          ],
          [
           229,
           162.2,
           43
          ],
          [
           135,
           69,
           54
          ],
          [
           153,
           100.4,
           34
          ],
          [
           204,
           109,
           82
          ],
          [
           177,
           118.4,
           29
          ],
          [
           181,
           116.4,
           47
          ],
          [
           155,
           85,
           51
          ],
          [
           128,
           68,
           43
          ],
          [
           191,
           119.2,
           61
          ],
          [
           180,
           119.4,
           30
          ],
          [
           157,
           91.6,
           49
          ],
          [
           159,
           96.8,
           42
          ],
          [
           218,
           144,
           57
          ],
          [
           198,
           129.6,
           54
          ],
          [
           204,
           126.8,
           64
          ],
          [
           184,
           101,
           73
          ],
          [
           166,
           96,
           40
          ],
          [
           124,
           48.8,
           64
          ],
          [
           198,
           78.4,
           99
          ],
          [
           236,
           146.4,
           58
          ],
          [
           141,
           65.2,
           64
          ],
          [
           157,
           98,
           28
          ],
          [
           181,
           106.6,
           66
          ],
          [
           204,
           143.2,
           46
          ],
          [
           143,
           77.2,
           49
          ],
          [
           193,
           125,
           35
          ],
          [
           174,
           123.2,
           30
          ],
          [
           185,
           120.8,
           46
          ],
          [
           165,
           100,
           47
          ],
          [
           134,
           76.2,
           46
          ],
          [
           189,
           109.6,
           69
          ],
          [
           207,
           132.2,
           47
          ],
          [
           264,
           146.6,
           65
          ],
          [
           217,
           149.4,
           48
          ],
          [
           209,
           126.4,
           61
          ],
          [
           181,
           114.8,
           44
          ],
          [
           97,
           47.2,
           35
          ],
          [
           161,
           97.8,
           54
          ],
          [
           140,
           71.8,
           35
          ],
          [
           191,
           128.2,
           53
          ],
          [
           241,
           149.6,
           64
          ],
          [
           197,
           133.6,
           44
          ],
          [
           213,
           126.4,
           77
          ],
          [
           146,
           81.6,
           47
          ],
          [
           168,
           96.2,
           62
          ],
          [
           182,
           114.8,
           54
          ],
          [
           152,
           105.8,
           39
          ],
          [
           235,
           125.8,
           76
          ],
          [
           166,
           91.8,
           60
          ],
          [
           189,
           105.2,
           68
          ],
          [
           167,
           86.6,
           71
          ],
          [
           235,
           156.8,
           47
          ],
          [
           193,
           102.2,
           67
          ],
          [
           187,
           105.6,
           67
          ],
          [
           189,
           106.8,
           69
          ],
          [
           156,
           97,
           38
          ],
          [
           186,
           107.6,
           38
          ],
          [
           205,
           142.6,
           41
          ],
          [
           178,
           106.6,
           52
          ],
          [
           209,
           139.4,
           46
          ],
          [
           233,
           143.8,
           58
          ],
          [
           197,
           115.2,
           67
          ],
          [
           216,
           131.4,
           65
          ],
          [
           219,
           160.6,
           40
          ],
          [
           171,
           104.4,
           56
          ],
          [
           166,
           101.6,
           46
          ],
          [
           156,
           93.2,
           52
          ],
          [
           187,
           141.4,
           34
          ],
          [
           144,
           79.8,
           30
          ],
          [
           190,
           139.4,
           35
          ],
          [
           153,
           89.8,
           58
          ],
          [
           206,
           122,
           68
          ],
          [
           193,
           128,
           49
          ],
          [
           200,
           128.4,
           37
          ],
          [
           199,
           94.4,
           43
          ],
          [
           236,
           147,
           37
          ],
          [
           199,
           128.6,
           44
          ],
          [
           222,
           135.6,
           37
          ],
          [
           206,
           141,
           39
          ],
          [
           175,
           88,
           59
          ],
          [
           162,
           103.6,
           45
          ],
          [
           195,
           129.2,
           40
          ],
          [
           221,
           156.4,
           35
          ],
          [
           300,
           242.4,
           33
          ],
          [
           164,
           90.6,
           56
          ],
          [
           165,
           74.8,
           40
          ],
          [
           149,
           80.6,
           61
          ],
          [
           217,
           124.2,
           71
          ],
          [
           185,
           112.2,
           58
          ],
          [
           196,
           122.2,
           42
          ],
          [
           187,
           112.4,
           48
          ],
          [
           175,
           108.6,
           54
          ],
          [
           214,
           146,
           50
          ],
          [
           128,
           69.6,
           49
          ],
          [
           198,
           115.6,
           67
          ],
          [
           154,
           88,
           30
          ],
          [
           145,
           72,
           63
          ],
          [
           178,
           105,
           48
          ],
          [
           166,
           93.8,
           44
          ],
          [
           164,
           84.2,
           42
          ],
          [
           167,
           114.6,
           38
          ],
          [
           214,
           152,
           28
          ],
          [
           229,
           143.8,
           51
          ],
          [
           203,
           119.8,
           70
          ],
          [
           204,
           147.8,
           34
          ],
          [
           165,
           94.6,
           53
          ],
          [
           198,
           135.6,
           38
          ],
          [
           200,
           130.4,
           42
          ],
          [
           216,
           146.2,
           55
          ],
          [
           174,
           102.4,
           31
          ],
          [
           164,
           106.2,
           41
          ],
          [
           183,
           100.2,
           64
          ],
          [
           218,
           158.2,
           32
          ],
          [
           186,
           125.8,
           46
          ],
          [
           204,
           132.2,
           49
          ],
          [
           251,
           170.6,
           49
          ],
          [
           162,
           92.6,
           53
          ],
          [
           212,
           142.8,
           46
          ],
          [
           190,
           126.2,
           49
          ],
          [
           199,
           120,
           46
          ],
          [
           172,
           107,
           51
          ],
          [
           286,
           199.4,
           39
          ],
          [
           172,
           108.2,
           49
          ],
          [
           183,
           119,
           48
          ],
          [
           209,
           106.8,
           77
          ],
          [
           162,
           87.8,
           63
          ],
          [
           125,
           70.2,
           46
          ],
          [
           205,
           116.4,
           40
          ],
          [
           234,
           155.8,
           34
          ],
          [
           232,
           105.2,
           37
          ],
          [
           179,
           105.8,
           66
          ],
          [
           134,
           77.2,
           45
          ],
          [
           217,
           125.6,
           45
          ],
          [
           137,
           73,
           47
          ],
          [
           119,
           55,
           39
          ],
          [
           166,
           98.6,
           52
          ],
          [
           204,
           132,
           52
          ],
          [
           206,
           127.2,
           33
          ],
          [
           207,
           125.8,
           69
          ],
          [
           204,
           141.8,
           38
          ],
          [
           181,
           119.2,
           37
          ],
          [
           222,
           147.4,
           59
          ],
          [
           236,
           172.4,
           39
          ],
          [
           186,
           114.4,
           47
          ],
          [
           171,
           98.8,
           41
          ],
          [
           175,
           99.6,
           32
          ],
          [
           218,
           152.2,
           31
          ],
          [
           134,
           63,
           63
          ],
          [
           243,
           160.6,
           62
          ],
          [
           187,
           117.4,
           53
          ],
          [
           176,
           112.2,
           37
          ],
          [
           131,
           66.8,
           41
          ],
          [
           203,
           129,
           59
          ],
          [
           240,
           169,
           39
          ],
          [
           152,
           83.8,
           47
          ],
          [
           208,
           146.4,
           39
          ],
          [
           213,
           138.6,
           60
          ],
          [
           183,
           124,
           35
          ],
          [
           149,
           93.8,
           46
          ],
          [
           221,
           105.4,
           60
          ],
          [
           227,
           146.8,
           65
          ],
          [
           182,
           110.4,
           60
          ],
          [
           281,
           173.6,
           55
          ],
          [
           218,
           151.6,
           39
          ],
          [
           169,
           110.8,
           37
          ],
          [
           177,
           85.4,
           50
          ],
          [
           207,
           140,
           44
          ],
          [
           198,
           106.6,
           57
          ],
          [
           202,
           139.6,
           42
          ],
          [
           152,
           104.8,
           29
          ],
          [
           229,
           145.6,
           69
          ],
          [
           171,
           104.8,
           50
          ],
          [
           225,
           135.4,
           69
          ],
          [
           188,
           114.8,
           57
          ],
          [
           155,
           63.6,
           78
          ],
          [
           164,
           95,
           38
          ],
          [
           228,
           162.8,
           31
          ],
          [
           223,
           139,
           54
          ],
          [
           185,
           124.6,
           38
          ],
          [
           141,
           68,
           52
          ],
          [
           154,
           94.2,
           53
          ],
          [
           178,
           116,
           41
          ],
          [
           150,
           85,
           44
          ],
          [
           147,
           77,
           53
          ],
          [
           153,
           89,
           50
          ],
          [
           160,
           87.6,
           31
          ],
          [
           171,
           99.6,
           58
          ],
          [
           189,
           105.4,
           70
          ],
          [
           189,
           120.6,
           53
          ],
          [
           192,
           115,
           61
          ],
          [
           301,
           215,
           50
          ],
          [
           195,
           121,
           51
          ],
          [
           218,
           152,
           39
          ],
          [
           172,
           93.4,
           63
          ],
          [
           194,
           100,
           52
          ],
          [
           146,
           93.4,
           33
          ],
          [
           247,
           160.6,
           54
          ],
          [
           189,
           114.8,
           62
          ],
          [
           163,
           110.6,
           29
          ],
          [
           250,
           140.2,
           67
          ],
          [
           182,
           114,
           38
          ],
          [
           200,
           133,
           52
          ],
          [
           126,
           72.2,
           45
          ],
          [
           165,
           105.2,
           47
          ],
          [
           153,
           84.2,
           56
          ],
          [
           148,
           78,
           58
          ],
          [
           247,
           148,
           65
          ],
          [
           191,
           103.6,
           69
          ],
          [
           282,
           197.2,
           43
          ],
          [
           224,
           134.2,
           45
          ],
          [
           179,
           90.4,
           41
          ],
          [
           233,
           146.6,
           34
          ],
          [
           207,
           149.2,
           38
          ],
          [
           227,
           151.6,
           45
          ],
          [
           225,
           107.6,
           40
          ],
          [
           184,
           103,
           61
          ],
          [
           168,
           102.8,
           37
          ],
          [
           184,
           100.4,
           64
          ],
          [
           194,
           149.2,
           31
          ],
          [
           179,
           123.7,
           42.5
          ],
          [
           195,
           95.4,
           91
          ],
          [
           215,
           99,
           98
          ],
          [
           201,
           126.6,
           44
          ],
          [
           155,
           94.6,
           51
          ],
          [
           156,
           109.2,
           36
          ],
          [
           190,
           113.6,
           52
          ],
          [
           183,
           92,
           83
          ],
          [
           244,
           166.2,
           51
          ],
          [
           204,
           139.4,
           36
          ],
          [
           220,
           108.8,
           93
          ],
          [
           162,
           85.2,
           54
          ],
          [
           158,
           102,
           39
          ],
          [
           134,
           73,
           44
          ],
          [
           243,
           136.4,
           40
          ],
          [
           184,
           113.4,
           46
          ],
          [
           173,
           105.6,
           44
          ],
          [
           280,
           174,
           67
          ],
          [
           150,
           65.6,
           68
          ],
          [
           184,
           128,
           35
          ],
          [
           170,
           98.6,
           54
          ],
          [
           202,
           122.2,
           55
          ],
          [
           171,
           96,
           48
          ],
          [
           253,
           181.2,
           53
          ],
          [
           157,
           92.2,
           55
          ],
          [
           141,
           86.6,
           33
          ],
          [
           198,
           129,
           29
          ],
          [
           165,
           60.2,
           88
          ],
          [
           280,
           195.4,
           55
          ],
          [
           221,
           151.4,
           60
          ],
          [
           228,
           149.4,
           38
          ],
          [
           190,
           126.2,
           35
          ],
          [
           234,
           142.8,
           52
          ],
          [
           153,
           71.6,
           71
          ],
          [
           204,
           142.6,
           50
          ],
          [
           177,
           126.8,
           41
          ],
          [
           185,
           107.2,
           53
          ],
          [
           170,
           99.8,
           59
          ],
          [
           161,
           99.8,
           51
          ],
          [
           123,
           67.2,
           41
          ],
          [
           163,
           101.4,
           46
          ],
          [
           186,
           106.8,
           46
          ],
          [
           209,
           134.6,
           58
          ],
          [
           211,
           132.8,
           49
          ],
          [
           231,
           128.4,
           56
          ],
          [
           245,
           189.8,
           39
          ],
          [
           183,
           125.8,
           32
          ],
          [
           161,
           99.6,
           48
          ],
          [
           207,
           138.2,
           42
          ],
          [
           136,
           63.4,
           62
          ],
          [
           247,
           160.2,
           59
          ],
          [
           188,
           125,
           46
          ],
          [
           222,
           154.2,
           44
          ],
          [
           174,
           106.4,
           54
          ],
          [
           213,
           128,
           47
          ],
          [
           182,
           114.8,
           49
          ],
          [
           212,
           128.6,
           65
          ],
          [
           190,
           101.8,
           41
          ],
          [
           238,
           162.8,
           48
          ],
          [
           211,
           121,
           67
          ],
          [
           176,
           80.6,
           67
          ],
          [
           249,
           174.2,
           45
          ],
          [
           229,
           138.8,
           29
          ],
          [
           207,
           92.4,
           25
          ],
          [
           233,
           112.6,
           35
          ],
          [
           246,
           165.2,
           38
          ],
          [
           242,
           151.6,
           38
          ],
          [
           184,
           116.2,
           39
          ],
          [
           207,
           131.4,
           55
          ],
          [
           168,
           100.6,
           47
          ],
          [
           169,
           96.8,
           55
          ],
          [
           187,
           139,
           32
          ],
          [
           138,
           85.8,
           39
          ],
          [
           181,
           108.2,
           34
          ],
          [
           177,
           114.4,
           34
          ],
          [
           137,
           78.6,
           48
          ],
          [
           190,
           111.2,
           67
          ],
          [
           256,
           172.6,
           33
          ],
          [
           181,
           120,
           39
          ],
          [
           190,
           130.8,
           43
          ],
          [
           244,
           151.6,
           59
          ],
          [
           182,
           113,
           55
          ],
          [
           173,
           116.2,
           41
          ],
          [
           184,
           127,
           41
          ],
          [
           192,
           121,
           60
          ],
          [
           225,
           156.6,
           46
          ],
          [
           220,
           152.4,
           47
          ],
          [
           282,
           196.8,
           44
          ],
          [
           180,
           107.4,
           51
          ],
          [
           186,
           96.6,
           71
          ],
          [
           119,
           85.4,
           23
          ],
          [
           198,
           104.2,
           49
          ],
          [
           130,
           71,
           48
          ],
          [
           152,
           53.4,
           82
          ],
          [
           254,
           113.4,
           52
          ],
          [
           269,
           172.2,
           50
          ],
          [
           162,
           101.6,
           46
          ],
          [
           195,
           125.8,
           54
          ],
          [
           177,
           96.2,
           45
          ],
          [
           163,
           93.6,
           61
          ],
          [
           194,
           126.6,
           43
          ],
          [
           179,
           107,
           48
          ],
          [
           158,
           84.6,
           64
          ],
          [
           163,
           98.4,
           43
          ],
          [
           155,
           97.4,
           32
          ],
          [
           182,
           118.6,
           39
          ],
          [
           196,
           118.8,
           48
          ],
          [
           219,
           135.8,
           38
          ],
          [
           211,
           137,
           44
          ],
          [
           205,
           109,
           43
          ],
          [
           171,
           113,
           38
          ],
          [
           188,
           107.4,
           70
          ],
          [
           226,
           103.2,
           46
          ],
          [
           199,
           123.6,
           57
          ],
          [
           141,
           79,
           49
          ],
          [
           143,
           70.4,
           52
          ],
          [
           215,
           129.8,
           57
          ],
          [
           276,
           198.6,
           43
          ],
          [
           200,
           144,
           33
          ],
          [
           185,
           122.4,
           36
          ],
          [
           110,
           41.6,
           56
          ],
          [
           145,
           87.2,
           46
          ],
          [
           158,
           99,
           41
          ],
          [
           172,
           69,
           38
          ],
          [
           166,
           97,
           52
          ],
          [
           257,
           171,
           59
          ],
          [
           143,
           76.4,
           51
          ],
          [
           183,
           104.2,
           64
          ],
          [
           153,
           104.4,
           42
          ],
          [
           184,
           112.2,
           44
          ],
          [
           181,
           104.8,
           63
          ],
          [
           202,
           100.6,
           37
          ],
          [
           146,
           83.2,
           55
          ],
          [
           205,
           138.8,
           53
          ],
          [
           168,
           100.6,
           54
          ],
          [
           198,
           80.6,
           31
          ],
          [
           184,
           101.6,
           53
          ],
          [
           143,
           80.8,
           55
          ],
          [
           155,
           78.2,
           46
          ],
          [
           219,
           136,
           49
          ],
          [
           201,
           123,
           46
          ],
          [
           176,
           92.8,
           69
          ],
          [
           164,
           81,
           70
          ],
          [
           186,
           128.4,
           33
          ],
          [
           185,
           100.2,
           44
          ],
          [
           165,
           97.6,
           52
          ],
          [
           113,
           51,
           31
          ],
          [
           162,
           91.8,
           59
          ],
          [
           195,
           140.8,
           42
          ],
          [
           212,
           127.8,
           45
          ],
          [
           230,
           162,
           39
          ],
          [
           224,
           139.2,
           42
          ],
          [
           136,
           69.2,
           55
          ],
          [
           200,
           123.8,
           54
          ],
          [
           197,
           120,
           63
          ],
          [
           269,
           190.2,
           41
          ],
          [
           208,
           145.6,
           38
          ],
          [
           187,
           127,
           45
          ],
          [
           178,
           114.6,
           51
          ],
          [
           261,
           175.6,
           69
          ],
          [
           141,
           78.8,
           53
          ],
          [
           190,
           137.6,
           38
          ],
          [
           218,
           144.2,
           38
          ],
          [
           246,
           156.6,
           57
          ],
          [
           217,
           162.4,
           30
          ],
          [
           177,
           113,
           37
          ],
          [
           116,
           43.4,
           56
          ],
          [
           231,
           159.4,
           41
          ],
          [
           136,
           75.4,
           48
          ],
          [
           215,
           129.2,
           43
          ],
          [
           223,
           142,
           65
          ],
          [
           205,
           144.4,
           42
          ],
          [
           162,
           85.4,
           59
          ],
          [
           231,
           144,
           49
          ],
          [
           223,
           128.2,
           83
          ],
          [
           193,
           122.4,
           58
          ],
          [
           177,
           118.4,
           45
          ],
          [
           171,
           85.4,
           75
          ],
          [
           185,
           113.8,
           42
          ],
          [
           225,
           166,
           42
          ],
          [
           162,
           106.6,
           43
          ],
          [
           201,
           125.2,
           42
          ],
          [
           250,
           133.2,
           97
          ]
         ],
         "hovertemplate": "[%{x}, %{y}]<br>s1: %{customdata[0]}<br>s2: %{customdata[1]}<br>s3: %{customdata[2]}",
         "mode": "markers",
         "name": "BMI",
         "type": "scatter",
         "x": [
          59,
          48,
          72,
          24,
          50,
          23,
          36,
          66,
          60,
          29,
          22,
          56,
          53,
          50,
          61,
          34,
          47,
          68,
          38,
          41,
          35,
          25,
          25,
          61,
          31,
          30,
          19,
          42,
          63,
          67,
          32,
          42,
          58,
          57,
          53,
          62,
          52,
          46,
          48,
          48,
          50,
          21,
          32,
          54,
          61,
          56,
          33,
          27,
          67,
          37,
          58,
          65,
          34,
          46,
          35,
          37,
          37,
          41,
          60,
          66,
          29,
          37,
          41,
          39,
          67,
          36,
          46,
          60,
          59,
          53,
          48,
          48,
          66,
          52,
          52,
          46,
          40,
          22,
          50,
          20,
          68,
          52,
          44,
          38,
          49,
          61,
          29,
          61,
          34,
          36,
          52,
          61,
          43,
          35,
          27,
          29,
          64,
          41,
          49,
          48,
          53,
          53,
          23,
          65,
          41,
          55,
          22,
          56,
          54,
          59,
          60,
          54,
          25,
          54,
          55,
          40,
          62,
          65,
          33,
          53,
          35,
          66,
          62,
          50,
          47,
          47,
          24,
          58,
          34,
          51,
          31,
          22,
          53,
          37,
          28,
          47,
          23,
          50,
          58,
          55,
          60,
          41,
          60,
          40,
          57,
          37,
          40,
          33,
          32,
          35,
          55,
          49,
          39,
          60,
          67,
          41,
          44,
          48,
          45,
          47,
          46,
          36,
          34,
          53,
          61,
          37,
          33,
          68,
          49,
          48,
          55,
          43,
          60,
          31,
          53,
          67,
          61,
          62,
          60,
          42,
          38,
          62,
          61,
          61,
          53,
          28,
          26,
          30,
          50,
          48,
          51,
          47,
          64,
          51,
          30,
          56,
          42,
          62,
          34,
          60,
          64,
          39,
          71,
          48,
          79,
          40,
          49,
          51,
          57,
          59,
          51,
          74,
          67,
          49,
          57,
          56,
          52,
          69,
          37,
          24,
          55,
          36,
          42,
          21,
          41,
          57,
          20,
          67,
          34,
          41,
          38,
          51,
          52,
          67,
          61,
          67,
          56,
          64,
          58,
          55,
          62,
          57,
          20,
          53,
          32,
          41,
          60,
          26,
          37,
          45,
          67,
          34,
          50,
          71,
          57,
          49,
          35,
          41,
          70,
          52,
          60,
          62,
          44,
          28,
          58,
          39,
          34,
          65,
          66,
          51,
          50,
          59,
          52,
          69,
          53,
          47,
          52,
          39,
          67,
          59,
          51,
          23,
          68,
          44,
          60,
          52,
          38,
          61,
          68,
          28,
          65,
          69,
          51,
          29,
          55,
          34,
          67,
          49,
          55,
          59,
          53,
          48,
          52,
          69,
          60,
          46,
          51,
          67,
          49,
          46,
          47,
          75,
          28,
          65,
          42,
          51,
          53,
          54,
          73,
          54,
          42,
          75,
          55,
          68,
          57,
          48,
          61,
          69,
          38,
          45,
          51,
          71,
          57,
          56,
          32,
          50,
          43,
          54,
          31,
          56,
          44,
          57,
          64,
          43,
          19,
          71,
          50,
          59,
          57,
          49,
          41,
          25,
          52,
          34,
          42,
          28,
          47,
          32,
          43,
          59,
          53,
          60,
          54,
          35,
          49,
          58,
          36,
          46,
          44,
          46,
          54,
          63,
          41,
          28,
          19,
          61,
          48,
          54,
          53,
          48,
          53,
          29,
          62,
          50,
          58,
          55,
          54,
          36,
          63,
          47,
          51,
          42,
          37,
          28,
          58,
          32,
          25,
          63,
          52,
          65,
          42,
          53,
          79,
          43,
          44,
          62,
          33,
          56,
          66,
          34,
          46,
          50,
          69,
          34,
          71,
          47,
          41,
          34,
          51,
          43,
          55,
          59,
          27,
          51,
          49,
          27,
          57,
          39,
          62,
          37,
          46,
          68,
          51,
          41,
          53,
          45,
          33,
          60,
          47,
          60,
          36,
          36
         ],
         "y": [
          32.1,
          21.6,
          30.5,
          25.3,
          23,
          22.6,
          22,
          26.2,
          32.1,
          30,
          18.6,
          28,
          23.7,
          26.2,
          24,
          24.7,
          30.3,
          27.5,
          25.4,
          24.7,
          21.1,
          24.3,
          26,
          32,
          29.7,
          25.2,
          19.2,
          31.9,
          24.4,
          25.8,
          30.5,
          20.3,
          38,
          21.7,
          20.5,
          23.5,
          28.5,
          27.4,
          33,
          27.7,
          25.6,
          20.1,
          25.4,
          24.2,
          32.7,
          23.1,
          25.3,
          19.6,
          22.5,
          27.7,
          25.7,
          27.9,
          25.5,
          24.9,
          28.7,
          21.8,
          30.2,
          20.5,
          20.4,
          24,
          26,
          26.8,
          25.7,
          22.9,
          24,
          24.1,
          24.7,
          25,
          23.6,
          22.1,
          19.9,
          29.5,
          26,
          24.5,
          26.6,
          23.5,
          29,
          23,
          21,
          22.9,
          27.5,
          24.3,
          23.1,
          27.3,
          22.7,
          33,
          19.4,
          25.8,
          22.6,
          21.9,
          24,
          31.2,
          26.8,
          20.4,
          24.8,
          21,
          27.3,
          34.6,
          25.9,
          20.4,
          28,
          22.2,
          29,
          30.2,
          32.4,
          23.4,
          19.3,
          31,
          30.6,
          25.5,
          23.4,
          26.8,
          28.3,
          27.7,
          36.6,
          26.5,
          31.8,
          24.4,
          25.4,
          22,
          26.8,
          28,
          33.9,
          29.6,
          28.6,
          25.6,
          20.7,
          26.2,
          20.6,
          27.9,
          35.3,
          19.9,
          24.4,
          21.4,
          30.4,
          31.6,
          18.8,
          31,
          36.7,
          32.1,
          27.7,
          30.8,
          27.5,
          26.9,
          30.7,
          38.3,
          31.9,
          35,
          27.8,
          25.9,
          32.9,
          26,
          26.3,
          22.3,
          28.3,
          32,
          25.4,
          23.3,
          20.3,
          30.4,
          20.6,
          32.3,
          29.2,
          33.1,
          24.6,
          20.2,
          20.8,
          32.8,
          31.9,
          23.9,
          24.5,
          22.1,
          33,
          19,
          27.3,
          22.8,
          28.2,
          28.9,
          25.6,
          24.9,
          26.8,
          22.4,
          26.9,
          23.1,
          28.6,
          24.7,
          30.3,
          21.3,
          26.1,
          20.2,
          25.2,
          22.5,
          23.5,
          25.9,
          20.9,
          28.7,
          22.1,
          26.7,
          31.4,
          22.2,
          21,
          21.2,
          26.5,
          29.2,
          27,
          30.7,
          28.8,
          30.6,
          30.1,
          24.7,
          27.7,
          29.8,
          26.7,
          19.8,
          23.3,
          35.1,
          29.7,
          29.3,
          20.3,
          22.5,
          22.7,
          22.8,
          24,
          24.2,
          20.2,
          29.4,
          22.1,
          23.6,
          25.2,
          24.9,
          33,
          23.5,
          26.4,
          29.8,
          30,
          25,
          27,
          20,
          25.5,
          28.2,
          33.3,
          25.6,
          24.2,
          22.1,
          31.4,
          23.1,
          23.4,
          18.8,
          30.8,
          32,
          31.6,
          35.5,
          31.9,
          29.5,
          31.6,
          20.3,
          41.3,
          21.2,
          24.1,
          23,
          25.6,
          22.5,
          38.2,
          19.2,
          29,
          24,
          20.6,
          26.3,
          34.6,
          23.4,
          29.2,
          27.2,
          27,
          24.5,
          24.1,
          25.3,
          28.8,
          20.9,
          23,
          24.1,
          28.1,
          18,
          25.9,
          21.5,
          24.3,
          24.5,
          21.3,
          25.8,
          24.8,
          31.5,
          33.5,
          28.1,
          24.3,
          35,
          23.5,
          30,
          20.7,
          25.6,
          22.9,
          25.1,
          33.2,
          24.1,
          29.5,
          29.6,
          22.8,
          22.7,
          26.2,
          23.5,
          22.1,
          26.5,
          32.4,
          30.1,
          24.2,
          31.3,
          30.1,
          24.5,
          27.7,
          23.2,
          27,
          26.8,
          29.2,
          31.2,
          32.1,
          25.7,
          26.9,
          31.4,
          25.6,
          37,
          32.6,
          21.2,
          29.2,
          24,
          36.1,
          25.8,
          22,
          21.9,
          34.3,
          25.2,
          23.3,
          25.7,
          25.1,
          31.9,
          28.4,
          28.1,
          25.3,
          26.1,
          28,
          23.6,
          24.5,
          21,
          32,
          22.6,
          19.7,
          21.2,
          30.6,
          25.5,
          23.3,
          31,
          18.5,
          26.9,
          28.3,
          25.7,
          36.1,
          24.1,
          25.8,
          22.8,
          39.1,
          42.2,
          26.6,
          29.9,
          21,
          25.5,
          24.2,
          25.4,
          23.2,
          26.1,
          32.7,
          27.3,
          26.6,
          22.8,
          28.8,
          18.1,
          32,
          23.7,
          23.6,
          24.6,
          22.6,
          27.8,
          24.1,
          26.5,
          32.8,
          19.9,
          23.6,
          22.1,
          28.1,
          26.5,
          23.5,
          26,
          27.8,
          28.5,
          30.6,
          22.2,
          23.3,
          35.4,
          31.4,
          37.8,
          18.9,
          35,
          21.7,
          25.3,
          23.8,
          31.8,
          34.3,
          26.3,
          27,
          27.2,
          33.8,
          33,
          24.1,
          21.3,
          23,
          27.9,
          33.6,
          22.7,
          27.4,
          22.6,
          23.2,
          26.9,
          34.6,
          23.3,
          21.1,
          23.5,
          31.5,
          20.8,
          26.5,
          24.2,
          19.5,
          28.2,
          24.9,
          24.9,
          30,
          19.6
         ]
        }
       ],
       "layout": {
        "template": {
         "data": {
          "bar": [
           {
            "error_x": {
             "color": "rgb(36,36,36)"
            },
            "error_y": {
             "color": "rgb(36,36,36)"
            },
            "marker": {
             "line": {
              "color": "white",
              "width": 0.5
             },
             "pattern": {
              "fillmode": "overlay",
              "size": 10,
              "solidity": 0.2
             }
            },
            "type": "bar"
           }
          ],
          "barpolar": [
           {
            "marker": {
             "line": {
              "color": "white",
              "width": 0.5
             },
             "pattern": {
              "fillmode": "overlay",
              "size": 10,
              "solidity": 0.2
             }
            },
            "type": "barpolar"
           }
          ],
          "carpet": [
           {
            "aaxis": {
             "endlinecolor": "rgb(36,36,36)",
             "gridcolor": "white",
             "linecolor": "white",
             "minorgridcolor": "white",
             "startlinecolor": "rgb(36,36,36)"
            },
            "baxis": {
             "endlinecolor": "rgb(36,36,36)",
             "gridcolor": "white",
             "linecolor": "white",
             "minorgridcolor": "white",
             "startlinecolor": "rgb(36,36,36)"
            },
            "type": "carpet"
           }
          ],
          "choropleth": [
           {
            "colorbar": {
             "outlinewidth": 1,
             "tickcolor": "rgb(36,36,36)",
             "ticks": "outside"
            },
            "type": "choropleth"
           }
          ],
          "contour": [
           {
            "colorbar": {
             "outlinewidth": 1,
             "tickcolor": "rgb(36,36,36)",
             "ticks": "outside"
            },
            "colorscale": [
             [
              0,
              "#440154"
             ],
             [
              0.1111111111111111,
              "#482878"
             ],
             [
              0.2222222222222222,
              "#3e4989"
             ],
             [
              0.3333333333333333,
              "#31688e"
             ],
             [
              0.4444444444444444,
              "#26828e"
             ],
             [
              0.5555555555555556,
              "#1f9e89"
             ],
             [
              0.6666666666666666,
              "#35b779"
             ],
             [
              0.7777777777777778,
              "#6ece58"
             ],
             [
              0.8888888888888888,
              "#b5de2b"
             ],
             [
              1,
              "#fde725"
             ]
            ],
            "type": "contour"
           }
          ],
          "contourcarpet": [
           {
            "colorbar": {
             "outlinewidth": 1,
             "tickcolor": "rgb(36,36,36)",
             "ticks": "outside"
            },
            "type": "contourcarpet"
           }
          ],
          "heatmap": [
           {
            "colorbar": {
             "outlinewidth": 1,
             "tickcolor": "rgb(36,36,36)",
             "ticks": "outside"
            },
            "colorscale": [
             [
              0,
              "#440154"
             ],
             [
              0.1111111111111111,
              "#482878"
             ],
             [
              0.2222222222222222,
              "#3e4989"
             ],
             [
              0.3333333333333333,
              "#31688e"
             ],
             [
              0.4444444444444444,
              "#26828e"
             ],
             [
              0.5555555555555556,
              "#1f9e89"
             ],
             [
              0.6666666666666666,
              "#35b779"
             ],
             [
              0.7777777777777778,
              "#6ece58"
             ],
             [
              0.8888888888888888,
              "#b5de2b"
             ],
             [
              1,
              "#fde725"
             ]
            ],
            "type": "heatmap"
           }
          ],
          "heatmapgl": [
           {
            "colorbar": {
             "outlinewidth": 1,
             "tickcolor": "rgb(36,36,36)",
             "ticks": "outside"
            },
            "colorscale": [
             [
              0,
              "#440154"
             ],
             [
              0.1111111111111111,
              "#482878"
             ],
             [
              0.2222222222222222,
              "#3e4989"
             ],
             [
              0.3333333333333333,
              "#31688e"
             ],
             [
              0.4444444444444444,
              "#26828e"
             ],
             [
              0.5555555555555556,
              "#1f9e89"
             ],
             [
              0.6666666666666666,
              "#35b779"
             ],
             [
              0.7777777777777778,
              "#6ece58"
             ],
             [
              0.8888888888888888,
              "#b5de2b"
             ],
             [
              1,
              "#fde725"
             ]
            ],
            "type": "heatmapgl"
           }
          ],
          "histogram": [
           {
            "marker": {
             "line": {
              "color": "white",
              "width": 0.6
             }
            },
            "type": "histogram"
           }
          ],
          "histogram2d": [
           {
            "colorbar": {
             "outlinewidth": 1,
             "tickcolor": "rgb(36,36,36)",
             "ticks": "outside"
            },
            "colorscale": [
             [
              0,
              "#440154"
             ],
             [
              0.1111111111111111,
              "#482878"
             ],
             [
              0.2222222222222222,
              "#3e4989"
             ],
             [
              0.3333333333333333,
              "#31688e"
             ],
             [
              0.4444444444444444,
              "#26828e"
             ],
             [
              0.5555555555555556,
              "#1f9e89"
             ],
             [
              0.6666666666666666,
              "#35b779"
             ],
             [
              0.7777777777777778,
              "#6ece58"
             ],
             [
              0.8888888888888888,
              "#b5de2b"
             ],
             [
              1,
              "#fde725"
             ]
            ],
            "type": "histogram2d"
           }
          ],
          "histogram2dcontour": [
           {
            "colorbar": {
             "outlinewidth": 1,
             "tickcolor": "rgb(36,36,36)",
             "ticks": "outside"
            },
            "colorscale": [
             [
              0,
              "#440154"
             ],
             [
              0.1111111111111111,
              "#482878"
             ],
             [
              0.2222222222222222,
              "#3e4989"
             ],
             [
              0.3333333333333333,
              "#31688e"
             ],
             [
              0.4444444444444444,
              "#26828e"
             ],
             [
              0.5555555555555556,
              "#1f9e89"
             ],
             [
              0.6666666666666666,
              "#35b779"
             ],
             [
              0.7777777777777778,
              "#6ece58"
             ],
             [
              0.8888888888888888,
              "#b5de2b"
             ],
             [
              1,
              "#fde725"
             ]
            ],
            "type": "histogram2dcontour"
           }
          ],
          "mesh3d": [
           {
            "colorbar": {
             "outlinewidth": 1,
             "tickcolor": "rgb(36,36,36)",
             "ticks": "outside"
            },
            "type": "mesh3d"
           }
          ],
          "parcoords": [
           {
            "line": {
             "colorbar": {
              "outlinewidth": 1,
              "tickcolor": "rgb(36,36,36)",
              "ticks": "outside"
             }
            },
            "type": "parcoords"
           }
          ],
          "pie": [
           {
            "automargin": true,
            "type": "pie"
           }
          ],
          "scatter": [
           {
            "fillpattern": {
             "fillmode": "overlay",
             "size": 10,
             "solidity": 0.2
            },
            "type": "scatter"
           }
          ],
          "scatter3d": [
           {
            "line": {
             "colorbar": {
              "outlinewidth": 1,
              "tickcolor": "rgb(36,36,36)",
              "ticks": "outside"
             }
            },
            "marker": {
             "colorbar": {
              "outlinewidth": 1,
              "tickcolor": "rgb(36,36,36)",
              "ticks": "outside"
             }
            },
            "type": "scatter3d"
           }
          ],
          "scattercarpet": [
           {
            "marker": {
             "colorbar": {
              "outlinewidth": 1,
              "tickcolor": "rgb(36,36,36)",
              "ticks": "outside"
             }
            },
            "type": "scattercarpet"
           }
          ],
          "scattergeo": [
           {
            "marker": {
             "colorbar": {
              "outlinewidth": 1,
              "tickcolor": "rgb(36,36,36)",
              "ticks": "outside"
             }
            },
            "type": "scattergeo"
           }
          ],
          "scattergl": [
           {
            "marker": {
             "colorbar": {
              "outlinewidth": 1,
              "tickcolor": "rgb(36,36,36)",
              "ticks": "outside"
             }
            },
            "type": "scattergl"
           }
          ],
          "scattermapbox": [
           {
            "marker": {
             "colorbar": {
              "outlinewidth": 1,
              "tickcolor": "rgb(36,36,36)",
              "ticks": "outside"
             }
            },
            "type": "scattermapbox"
           }
          ],
          "scatterpolar": [
           {
            "marker": {
             "colorbar": {
              "outlinewidth": 1,
              "tickcolor": "rgb(36,36,36)",
              "ticks": "outside"
             }
            },
            "type": "scatterpolar"
           }
          ],
          "scatterpolargl": [
           {
            "marker": {
             "colorbar": {
              "outlinewidth": 1,
              "tickcolor": "rgb(36,36,36)",
              "ticks": "outside"
             }
            },
            "type": "scatterpolargl"
           }
          ],
          "scatterternary": [
           {
            "marker": {
             "colorbar": {
              "outlinewidth": 1,
              "tickcolor": "rgb(36,36,36)",
              "ticks": "outside"
             }
            },
            "type": "scatterternary"
           }
          ],
          "surface": [
           {
            "colorbar": {
             "outlinewidth": 1,
             "tickcolor": "rgb(36,36,36)",
             "ticks": "outside"
            },
            "colorscale": [
             [
              0,
              "#440154"
             ],
             [
              0.1111111111111111,
              "#482878"
             ],
             [
              0.2222222222222222,
              "#3e4989"
             ],
             [
              0.3333333333333333,
              "#31688e"
             ],
             [
              0.4444444444444444,
              "#26828e"
             ],
             [
              0.5555555555555556,
              "#1f9e89"
             ],
             [
              0.6666666666666666,
              "#35b779"
             ],
             [
              0.7777777777777778,
              "#6ece58"
             ],
             [
              0.8888888888888888,
              "#b5de2b"
             ],
             [
              1,
              "#fde725"
             ]
            ],
            "type": "surface"
           }
          ],
          "table": [
           {
            "cells": {
             "fill": {
              "color": "rgb(237,237,237)"
             },
             "line": {
              "color": "white"
             }
            },
            "header": {
             "fill": {
              "color": "rgb(217,217,217)"
             },
             "line": {
              "color": "white"
             }
            },
            "type": "table"
           }
          ]
         },
         "layout": {
          "annotationdefaults": {
           "arrowhead": 0,
           "arrowwidth": 1
          },
          "autotypenumbers": "strict",
          "coloraxis": {
           "colorbar": {
            "outlinewidth": 1,
            "tickcolor": "rgb(36,36,36)",
            "ticks": "outside"
           }
          },
          "colorscale": {
           "diverging": [
            [
             0,
             "rgb(103,0,31)"
            ],
            [
             0.1,
             "rgb(178,24,43)"
            ],
            [
             0.2,
             "rgb(214,96,77)"
            ],
            [
             0.3,
             "rgb(244,165,130)"
            ],
            [
             0.4,
             "rgb(253,219,199)"
            ],
            [
             0.5,
             "rgb(247,247,247)"
            ],
            [
             0.6,
             "rgb(209,229,240)"
            ],
            [
             0.7,
             "rgb(146,197,222)"
            ],
            [
             0.8,
             "rgb(67,147,195)"
            ],
            [
             0.9,
             "rgb(33,102,172)"
            ],
            [
             1,
             "rgb(5,48,97)"
            ]
           ],
           "sequential": [
            [
             0,
             "#440154"
            ],
            [
             0.1111111111111111,
             "#482878"
            ],
            [
             0.2222222222222222,
             "#3e4989"
            ],
            [
             0.3333333333333333,
             "#31688e"
            ],
            [
             0.4444444444444444,
             "#26828e"
            ],
            [
             0.5555555555555556,
             "#1f9e89"
            ],
            [
             0.6666666666666666,
             "#35b779"
            ],
            [
             0.7777777777777778,
             "#6ece58"
            ],
            [
             0.8888888888888888,
             "#b5de2b"
            ],
            [
             1,
             "#fde725"
            ]
           ],
           "sequentialminus": [
            [
             0,
             "#440154"
            ],
            [
             0.1111111111111111,
             "#482878"
            ],
            [
             0.2222222222222222,
             "#3e4989"
            ],
            [
             0.3333333333333333,
             "#31688e"
            ],
            [
             0.4444444444444444,
             "#26828e"
            ],
            [
             0.5555555555555556,
             "#1f9e89"
            ],
            [
             0.6666666666666666,
             "#35b779"
            ],
            [
             0.7777777777777778,
             "#6ece58"
            ],
            [
             0.8888888888888888,
             "#b5de2b"
            ],
            [
             1,
             "#fde725"
            ]
           ]
          },
          "colorway": [
           "#1F77B4",
           "#FF7F0E",
           "#2CA02C",
           "#D62728",
           "#9467BD",
           "#8C564B",
           "#E377C2",
           "#7F7F7F",
           "#BCBD22",
           "#17BECF"
          ],
          "font": {
           "color": "rgb(36,36,36)"
          },
          "geo": {
           "bgcolor": "white",
           "lakecolor": "white",
           "landcolor": "white",
           "showlakes": true,
           "showland": true,
           "subunitcolor": "white"
          },
          "hoverlabel": {
           "align": "left"
          },
          "hovermode": "closest",
          "mapbox": {
           "style": "light"
          },
          "paper_bgcolor": "white",
          "plot_bgcolor": "white",
          "polar": {
           "angularaxis": {
            "gridcolor": "rgb(232,232,232)",
            "linecolor": "rgb(36,36,36)",
            "showgrid": false,
            "showline": true,
            "ticks": "outside"
           },
           "bgcolor": "white",
           "radialaxis": {
            "gridcolor": "rgb(232,232,232)",
            "linecolor": "rgb(36,36,36)",
            "showgrid": false,
            "showline": true,
            "ticks": "outside"
           }
          },
          "scene": {
           "xaxis": {
            "backgroundcolor": "white",
            "gridcolor": "rgb(232,232,232)",
            "gridwidth": 2,
            "linecolor": "rgb(36,36,36)",
            "showbackground": true,
            "showgrid": false,
            "showline": true,
            "ticks": "outside",
            "zeroline": false,
            "zerolinecolor": "rgb(36,36,36)"
           },
           "yaxis": {
            "backgroundcolor": "white",
            "gridcolor": "rgb(232,232,232)",
            "gridwidth": 2,
            "linecolor": "rgb(36,36,36)",
            "showbackground": true,
            "showgrid": false,
            "showline": true,
            "ticks": "outside",
            "zeroline": false,
            "zerolinecolor": "rgb(36,36,36)"
           },
           "zaxis": {
            "backgroundcolor": "white",
            "gridcolor": "rgb(232,232,232)",
            "gridwidth": 2,
            "linecolor": "rgb(36,36,36)",
            "showbackground": true,
            "showgrid": false,
            "showline": true,
            "ticks": "outside",
            "zeroline": false,
            "zerolinecolor": "rgb(36,36,36)"
           }
          },
          "shapedefaults": {
           "fillcolor": "black",
           "line": {
            "width": 0
           },
           "opacity": 0.3
          },
          "ternary": {
           "aaxis": {
            "gridcolor": "rgb(232,232,232)",
            "linecolor": "rgb(36,36,36)",
            "showgrid": false,
            "showline": true,
            "ticks": "outside"
           },
           "baxis": {
            "gridcolor": "rgb(232,232,232)",
            "linecolor": "rgb(36,36,36)",
            "showgrid": false,
            "showline": true,
            "ticks": "outside"
           },
           "bgcolor": "white",
           "caxis": {
            "gridcolor": "rgb(232,232,232)",
            "linecolor": "rgb(36,36,36)",
            "showgrid": false,
            "showline": true,
            "ticks": "outside"
           }
          },
          "title": {
           "x": 0.05
          },
          "xaxis": {
           "automargin": true,
           "gridcolor": "rgb(232,232,232)",
           "linecolor": "rgb(36,36,36)",
           "showgrid": false,
           "showline": true,
           "ticks": "outside",
           "title": {
            "standoff": 15
           },
           "zeroline": false,
           "zerolinecolor": "rgb(36,36,36)"
          },
          "yaxis": {
           "automargin": true,
           "gridcolor": "rgb(232,232,232)",
           "linecolor": "rgb(36,36,36)",
           "showgrid": true,
           "showline": false,
           "ticks": "outside",
           "title": {
            "standoff": 15
           },
           "zeroline": false,
           "zerolinecolor": "rgb(36,36,36)"
          }
         }
        },
        "title": {
         "text": "Diabetes dataset"
        },
        "xaxis": {
         "title": {
          "text": "age"
         }
        },
        "yaxis": {
         "title": {
          "text": "bmi"
         }
        }
       }
      }
     },
     "metadata": {},
     "output_type": "display_data"
    }
   ],
   "source": [
    "# Traceを作成\n",
    "trace = go.Scatter(\n",
    "    x=df['age'],\n",
    "    y=df['bmi'],\n",
    "    mode='markers',\n",
    "    name='BMI',\n",
    "    customdata=df[['s1', 's2', 's3']],  # ホバー表示に使うデータ（列「s1」「s2」「s3」）\n",
    "    hovertemplate='[%{x}, %{y}]<br>s1: %{customdata[0]}<br>s2: %{customdata[1]}<br>s3: %{customdata[2]}'\n",
    ")\n",
    "\n",
    "# Figureを作成\n",
    "figure = go.Figure(trace, layout)\n",
    "\n",
    "# figure.write_image('./figure/out_7_1_3.png', width=900, height=450, scale=2)\n",
    "figure"
   ]
  },
  {
   "cell_type": "code",
   "execution_count": 5,
   "metadata": {},
   "outputs": [
    {
     "data": {
      "application/vnd.plotly.v1+json": {
       "config": {
        "plotlyServerURL": "https://plot.ly"
       },
       "data": [
        {
         "customdata": [
          [
           4,
           4.8598,
           87
          ],
          [
           3,
           3.8918,
           69
          ],
          [
           4,
           4.6728,
           85
          ],
          [
           5,
           4.8903,
           89
          ],
          [
           4,
           4.2905,
           80
          ],
          [
           2,
           4.1897,
           68
          ],
          [
           3,
           3.9512,
           82
          ],
          [
           4.55,
           4.2485,
           92
          ],
          [
           4,
           4.4773,
           94
          ],
          [
           4,
           5.3845,
           88
          ],
          [
           2,
           3.9512,
           83
          ],
          [
           6,
           3.5835,
           77
          ],
          [
           3,
           4.3041,
           81
          ],
          [
           4,
           5.0626,
           88
          ],
          [
           3,
           4.2905,
           73
          ],
          [
           7,
           5.037,
           81
          ],
          [
           3,
           5.2149,
           98
          ],
          [
           5,
           4.9416,
           91
          ],
          [
           4,
           4.4427,
           87
          ],
          [
           3,
           4.5433,
           78
          ],
          [
           3,
           4.5109,
           95
          ],
          [
           3,
           3.8501,
           87
          ],
          [
           3,
           3.9703,
           88
          ],
          [
           6,
           6.107,
           124
          ],
          [
           4,
           4.3567,
           78
          ],
          [
           5,
           4.852,
           83
          ],
          [
           2,
           4.1744,
           90
          ],
          [
           3,
           4.4659,
           101
          ],
          [
           3,
           4.6347,
           78
          ],
          [
           2,
           5.2933,
           104
          ],
          [
           3,
           4.3438,
           89
          ],
          [
           2,
           4.2341,
           81
          ],
          [
           7,
           4.6444,
           98
          ],
          [
           2,
           4.4427,
           92
          ],
          [
           3,
           3.989,
           75
          ],
          [
           2.62,
           4.8752,
           96
          ],
          [
           3,
           5.2417,
           85
          ],
          [
           3,
           4.8283,
           90
          ],
          [
           6,
           5.425,
           97
          ],
          [
           4,
           4.852,
           92
          ],
          [
           5,
           4.7791,
           114
          ],
          [
           3,
           4.0943,
           89
          ],
          [
           4.5,
           4.5326,
           83
          ],
          [
           2,
           4.1744,
           109
          ],
          [
           6,
           4.9972,
           87
          ],
          [
           4,
           4.4773,
           79
          ],
          [
           3,
           4.5539,
           70
          ],
          [
           3,
           4.4427,
           71
          ],
          [
           3,
           3.989,
           86
          ],
          [
           6,
           5.0304,
           88
          ],
          [
           3,
           4.4067,
           93
          ],
          [
           4,
           4.6151,
           86
          ],
          [
           4,
           4.4427,
           88
          ],
          [
           4,
           4.2767,
           103
          ],
          [
           3,
           4.1897,
           93
          ],
          [
           3,
           3.912,
           93
          ],
          [
           4.15,
           5.0106,
           87
          ],
          [
           2,
           4.0254,
           75
          ],
          [
           2,
           4.6347,
           79
          ],
          [
           4,
           5.0626,
           96
          ],
          [
           2,
           4.0775,
           83
          ],
          [
           6,
           5.0434,
           96
          ],
          [
           3,
           3.7377,
           85
          ],
          [
           4,
           4.3041,
           74
          ],
          [
           3,
           4.4308,
           94
          ],
          [
           6,
           5.1059,
           95
          ],
          [
           6,
           4.6444,
           96
          ],
          [
           4.02,
           4.5109,
           92
          ],
          [
           4,
           4.4998,
           92
          ],
          [
           3,
           4.0775,
           96
          ],
          [
           3,
           3.9512,
           101
          ],
          [
           4,
           4.9345,
           106
          ],
          [
           4,
           5.5683,
           87
          ],
          [
           5,
           4.585,
           89
          ],
          [
           3,
           4.6821,
           109
          ],
          [
           4,
           4.7095,
           98
          ],
          [
           2.77,
           4.3041,
           95
          ],
          [
           3,
           3.8286,
           91
          ],
          [
           4,
           5.112,
           71
          ],
          [
           4,
           3.8918,
           85
          ],
          [
           4,
           4.92,
           90
          ],
          [
           5,
           4.5747,
           91
          ],
          [
           3,
           3.8712,
           72
          ],
          [
           3,
           4.4659,
           81
          ],
          [
           2.71,
           3.8918,
           60
          ],
          [
           3,
           4.1897,
           74
          ],
          [
           4,
           3.5835,
           83
          ],
          [
           3,
           5.112,
           82
          ],
          [
           3,
           4.2627,
           108
          ],
          [
           3,
           4.3694,
           96
          ],
          [
           2,
           3.8501,
           94
          ],
          [
           5,
           5.0499,
           96
          ],
          [
           3,
           4.7791,
           94
          ],
          [
           2.79,
           4.2767,
           78
          ],
          [
           3,
           4.1897,
           69
          ],
          [
           4,
           4.654,
           90
          ],
          [
           5,
           5.3083,
           99
          ],
          [
           5,
           4.6728,
           110
          ],
          [
           3,
           4.5747,
           75
          ],
          [
           5,
           4.7707,
           78
          ],
          [
           4,
           5.0499,
           91
          ],
          [
           3,
           4.3041,
           100
          ],
          [
           3,
           4.585,
           91
          ],
          [
           5,
           4.5218,
           84
          ],
          [
           3,
           3.9703,
           76
          ],
          [
           4,
           4.5218,
           96
          ],
          [
           3,
           3.989,
           71
          ],
          [
           5.5,
           4.0604,
           90
          ],
          [
           4.8,
           5.1417,
           101
          ],
          [
           5.43,
           4.3567,
           117
          ],
          [
           3,
           3.2581,
           95
          ],
          [
           3,
           4.382,
           80
          ],
          [
           4,
           4.382,
           92
          ],
          [
           5,
           5.1533,
           113
          ],
          [
           4.63,
           5.7301,
           97
          ],
          [
           7,
           5.5607,
           92
          ],
          [
           5,
           4.8828,
           98
          ],
          [
           6,
           5.5094,
           124
          ],
          [
           5,
           4.8675,
           105
          ],
          [
           3,
           4.9416,
           98
          ],
          [
           4,
           4.2047,
           86
          ],
          [
           5,
           4.8598,
           94
          ],
          [
           6,
           4.9972,
           103
          ],
          [
           9.09,
           4.8122,
           109
          ],
          [
           3,
           4.4659,
           88
          ],
          [
           4,
           5.5255,
           93
          ],
          [
           2,
           3.6109,
           78
          ],
          [
           3,
           4.6913,
           68
          ],
          [
           3,
           4.3041,
           74
          ],
          [
           5,
           5.0689,
           120
          ],
          [
           4,
           4.8903,
           109
          ],
          [
           3,
           4.1271,
           72
          ],
          [
           4,
           4.4998,
           97
          ],
          [
           3,
           3.8501,
           84
          ],
          [
           3,
           4.3438,
           80
          ],
          [
           5.1,
           5.1985,
           105
          ],
          [
           2,
           3.912,
           86
          ],
          [
           4,
           4.8283,
           88
          ],
          [
           4,
           4.9488,
           109
          ],
          [
           4,
           5.2417,
           90
          ],
          [
           4,
           4.2767,
           95
          ],
          [
           7.6,
           5.1358,
           123
          ],
          [
           4,
           5.1417,
           91
          ],
          [
           3,
           4.1897,
           81
          ],
          [
           6,
           4.7095,
           93
          ],
          [
           3,
           4.4659,
           79
          ],
          [
           5,
           4.803999999999999,
           93
          ],
          [
           4.76,
           4.9273,
           101
          ],
          [
           4,
           4.3041,
           91
          ],
          [
           6,
           5.3132,
           82
          ],
          [
           4,
           4.4308,
           89
          ],
          [
           3,
           4.5433,
           88
          ],
          [
           7,
           4.9345,
           109
          ],
          [
           4,
           4.2627,
           94
          ],
          [
           4,
           4.7362,
           92
          ],
          [
           5,
           5.0562,
           103
          ],
          [
           3,
           4.4067,
           83
          ],
          [
           4.61,
           4.7536,
           98
          ],
          [
           3.88,
           4.3041,
           79
          ],
          [
           4,
           5.1059,
           87
          ],
          [
           3,
           4.2485,
           80
          ],
          [
           7,
           5.4723,
           112
          ],
          [
           4,
           4.3041,
           91
          ],
          [
           4,
           4.382,
           106
          ],
          [
           3,
           4.8363,
           88
          ],
          [
           3,
           4.0254,
           88
          ],
          [
           3,
           3.7842,
           66
          ],
          [
           5.13,
           5.4931,
           117
          ],
          [
           7,
           5.3982,
           122
          ],
          [
           6,
           6.107,
           96
          ],
          [
           3,
           3.5835,
           87
          ],
          [
           3,
           4.0775,
           80
          ],
          [
           5,
           5.4467,
           112
          ],
          [
           3,
           4.4427,
           78
          ],
          [
           3,
           4.8283,
           93
          ],
          [
           3,
           4.3438,
           92
          ],
          [
           4,
           4.6052,
           96
          ],
          [
           6.24,
           5.4337,
           99
          ],
          [
           3,
           4.1109,
           84
          ],
          [
           5,
           4.7958,
           89
          ],
          [
           5,
           4.8203,
           91
          ],
          [
           4,
           4.3567,
           76
          ],
          [
           6,
           4.8122,
           89
          ],
          [
           4,
           4.8122,
           105
          ],
          [
           4,
           5.0499,
           99
          ],
          [
           5,
           5.3799,
           87
          ],
          [
           7,
           5.1591,
           82
          ],
          [
           2,
           3.6889,
           66
          ],
          [
           4,
           4.625,
           89
          ],
          [
           4,
           4.4188,
           85
          ],
          [
           5,
           4.8978,
           90
          ],
          [
           3,
           4.7536,
           89
          ],
          [
           3,
           4.3175,
           77
          ],
          [
           6,
           5.0752,
           96
          ],
          [
           3,
           4.6634,
           97
          ],
          [
           5,
           4.7274,
           97
          ],
          [
           4,
           4.2767,
           94
          ],
          [
           5,
           4.7875,
           100
          ],
          [
           3,
           3.8286,
           77
          ],
          [
           3.68,
           5.6276,
           93
          ],
          [
           3.49,
           4.3307,
           102
          ],
          [
           3,
           4.0604,
           98
          ],
          [
           5,
           5.5683,
           84
          ],
          [
           6,
           4.92,
           98
          ],
          [
           5,
           4.6634,
           110
          ],
          [
           4,
           5.3375,
           85
          ],
          [
           5,
           4.7449,
           92
          ],
          [
           3,
           5.1475,
           100
          ],
          [
           5,
           4.625,
           120
          ],
          [
           5,
           4.5109,
           88
          ],
          [
           3,
           4.2767,
           77
          ],
          [
           3,
           4.3944,
           86
          ],
          [
           3,
           4.6347,
           96
          ],
          [
           3,
           4.3944,
           93
          ],
          [
           2,
           4.2047,
           78
          ],
          [
           4,
           5.0434,
           117
          ],
          [
           8,
           5.1417,
           103
          ],
          [
           4,
           5.0106,
           102
          ],
          [
           5,
           4.7185,
           88
          ],
          [
           3,
           4.654,
           84
          ],
          [
           3,
           3.5264,
           75
          ],
          [
           4,
           4.654,
           82
          ],
          [
           3,
           4.654,
           96
          ],
          [
           3,
           4.4427,
           79
          ],
          [
           3,
           4.2485,
           89
          ],
          [
           5,
           5.3327,
           92
          ],
          [
           3,
           4.2047,
           78
          ],
          [
           2.7,
           4.2195,
           93
          ],
          [
           4,
           4.3438,
           79
          ],
          [
           3,
           4.382,
           94
          ],
          [
           6.02,
           5.193,
           108
          ],
          [
           4,
           4.7449,
           94
          ],
          [
           5.59,
           4.9053,
           99
          ],
          [
           3,
           4.3567,
           82
          ],
          [
           3.73,
           5.3471,
           105
          ],
          [
           4.42,
           4.585,
           103
          ],
          [
           5,
           5.0876,
           94
          ],
          [
           3.05,
           4.1109,
           91
          ],
          [
           6,
           4.7622,
           86
          ],
          [
           4,
           5.3660000000000005,
           103
          ],
          [
           5,
           5.0106,
           96
          ],
          [
           3.85,
           4.3175,
           105
          ],
          [
           3,
           3.7842,
           74
          ],
          [
           4,
           4.1589,
           81
          ],
          [
           3,
           4.1589,
           90
          ],
          [
           3,
           4.0943,
           60
          ],
          [
           3.8,
           5.1358,
           77
          ],
          [
           3,
           4.5218,
           69
          ],
          [
           7,
           5.3423,
           101
          ],
          [
           5,
           5.4116,
           93
          ],
          [
           4,
           5.4723,
           100
          ],
          [
           7,
           5.5683,
           101
          ],
          [
           5.45,
           4.5951,
           84
          ],
          [
           5,
           5.0239,
           108
          ],
          [
           6,
           5.9584,
           113
          ],
          [
           3,
           4.6052,
           93
          ],
          [
           5,
           4.9488,
           94
          ],
          [
           3,
           4.585,
           79
          ],
          [
           6.26,
           4.2341,
           105
          ],
          [
           4.21,
           4.1589,
           93
          ],
          [
           2,
           3.7612,
           87
          ],
          [
           2,
           4.4998,
           95
          ],
          [
           5,
           5.0239,
           92
          ],
          [
           3,
           3.8501,
           87
          ],
          [
           4,
           3.989,
           86
          ],
          [
           3.65,
           4.803999999999999,
           101
          ],
          [
           2,
           3.6889,
           92
          ],
          [
           5,
           4.8978,
           98
          ],
          [
           6,
           4.9628,
           109
          ],
          [
           2,
           4.5109,
           82
          ],
          [
           3,
           4.7362,
           95
          ],
          [
           4,
           4.4427,
           93
          ],
          [
           3.05,
           4.4427,
           69
          ],
          [
           6,
           5.8081,
           100
          ],
          [
           4,
           4.8122,
           95
          ],
          [
           4,
           4.7622,
           108
          ],
          [
           4,
           5.273,
           86
          ],
          [
           2,
           4.4067,
           95
          ],
          [
           5,
           4.654,
           99
          ],
          [
           3,
           4.4659,
           85
          ],
          [
           4,
           4.8203,
           87
          ],
          [
           4,
           4.9053,
           92
          ],
          [
           5,
           4.5433,
           98
          ],
          [
           3,
           3.8918,
           84
          ],
          [
           4,
           4.6728,
           78
          ],
          [
           7,
           5.2983,
           86
          ],
          [
           2,
           4.4308,
           90
          ],
          [
           5,
           4.9972,
           90
          ],
          [
           4,
           3.8712,
           87
          ],
          [
           6,
           5.3132,
           83
          ],
          [
           5,
           4.9698,
           102
          ],
          [
           4,
           5.2781,
           77
          ],
          [
           2.15,
           3.9512,
           82
          ],
          [
           4.08,
           4.0431,
           91
          ],
          [
           4,
           3.8286,
           83
          ],
          [
           3,
           4.8203,
           92
          ],
          [
           3,
           4.0254,
           77
          ],
          [
           3,
           3.9318,
           78
          ],
          [
           3,
           4.3041,
           88
          ],
          [
           4,
           4.3567,
           91
          ],
          [
           4.04,
           5.112,
           102
          ],
          [
           4,
           4.4067,
           100
          ],
          [
           4.31,
           4.9836,
           98
          ],
          [
           4,
           5.4510000000000005,
           86
          ],
          [
           6,
           4.3944,
           88
          ],
          [
           6,
           4.8363,
           75
          ],
          [
           3,
           4.2047,
           88
          ],
          [
           5,
           4.8978,
           111
          ],
          [
           2.19,
           3.9703,
           72
          ],
          [
           4,
           4.9345,
           111
          ],
          [
           4.09,
           4.4427,
           99
          ],
          [
           5.05,
           4.7791,
           97
          ],
          [
           3,
           4.2195,
           84
          ],
          [
           5,
           5.247000000000001,
           91
          ],
          [
           4,
           4.5109,
           82
          ],
          [
           3,
           4.5218,
           91
          ],
          [
           5,
           5.4638,
           101
          ],
          [
           4.96,
           4.9127,
           108
          ],
          [
           3,
           4.7449,
           99
          ],
          [
           3,
           4.9558,
           106
          ],
          [
           6,
           5.0039,
           92
          ],
          [
           7.9,
           5.7236,
           106
          ],
          [
           8.28,
           6.1048,
           111
          ],
          [
           7,
           6.0568,
           105
          ],
          [
           7,
           5.3660000000000005,
           96
          ],
          [
           6.37,
           5.5683,
           103
          ],
          [
           5,
           4.9698,
           98
          ],
          [
           4,
           4.6347,
           90
          ],
          [
           4,
           4.625,
           96
          ],
          [
           3,
           4.4543,
           102
          ],
          [
           6,
           4.382,
           95
          ],
          [
           4,
           4.1897,
           90
          ],
          [
           5,
           5.2679,
           100
          ],
          [
           5,
           4.9628,
           99
          ],
          [
           3,
           3.9512,
           78
          ],
          [
           3,
           4.0775,
           77
          ],
          [
           8,
           5.5294,
           104
          ],
          [
           5,
           4.7005,
           92
          ],
          [
           4,
           4.3944,
           77
          ],
          [
           4,
           5.118,
           95
          ],
          [
           3,
           4.2485,
           84
          ],
          [
           4,
           4.3694,
           87
          ],
          [
           4,
           4.382,
           97
          ],
          [
           3,
           4.0073,
           93
          ],
          [
           5,
           4.7185,
           84
          ],
          [
           5,
           4.6347,
           91
          ],
          [
           6,
           5.3279,
           95
          ],
          [
           4,
           4.6821,
           84
          ],
          [
           3,
           4.5218,
           91
          ],
          [
           5,
           3.9703,
           74
          ],
          [
           4,
           5.4116,
           124
          ],
          [
           3,
           4.0073,
           81
          ],
          [
           2,
           4.4188,
           82
          ],
          [
           5,
           6.0936,
           92
          ],
          [
           5,
           5.4553,
           106
          ],
          [
           4,
           4.2767,
           94
          ],
          [
           4,
           4.3307,
           73
          ],
          [
           4,
           5.1874,
           77
          ],
          [
           2.67,
           3.7377,
           80
          ],
          [
           5,
           4.803999999999999,
           106
          ],
          [
           4,
           4.7875,
           101
          ],
          [
           2,
           3.8501,
           97
          ],
          [
           4,
           4.6821,
           101
          ],
          [
           4.84,
           4.852,
           94
          ],
          [
           5,
           4.803999999999999,
           115
          ],
          [
           4,
           4.9836,
           115
          ],
          [
           6,
           5.4205,
           103
          ],
          [
           5,
           5.0106,
           99
          ],
          [
           5,
           5.5797,
           111
          ],
          [
           4.5,
           4.585,
           98
          ],
          [
           3,
           3.9703,
           73
          ],
          [
           5,
           5.9506,
           87
          ],
          [
           4,
           4.5218,
           86
          ],
          [
           3,
           4.1744,
           91
          ],
          [
           3,
           4.6347,
           72
          ],
          [
           4,
           4.9488,
           96
          ],
          [
           6.42,
           5.1475,
           91
          ],
          [
           6,
           4.7449,
           76
          ],
          [
           5,
           4.8903,
           82
          ],
          [
           2,
           4.1271,
           97
          ],
          [
           3.15,
           4.0775,
           85
          ],
          [
           4,
           4.4998,
           78
          ],
          [
           4,
           5.7838,
           100
          ],
          [
           3,
           4.4427,
           93
          ],
          [
           4,
           4.9053,
           82
          ],
          [
           3,
           4.3567,
           88
          ],
          [
           3,
           4.3041,
           92
          ],
          [
           4,
           3.4965,
           73
          ],
          [
           4,
           4.9345,
           82
          ],
          [
           3,
           4.1897,
           70
          ],
          [
           5,
           5.7746,
           109
          ],
          [
           3,
           3.6636,
           79
          ],
          [
           4,
           4.1897,
           107
          ],
          [
           3,
           4.2047,
           86
          ],
          [
           6,
           6.0684,
           93
          ],
          [
           4,
           4.9904,
           78
          ],
          [
           3,
           3.5835,
           83
          ],
          [
           3.37,
           5.037,
           97
          ],
          [
           4,
           5.1358,
           75
          ],
          [
           4,
           5.0752,
           96
          ],
          [
           3,
           4.2627,
           89
          ],
          [
           2,
           4.1744,
           101
          ],
          [
           6,
           4.8122,
           102
          ],
          [
           4,
           5.3181,
           101
          ],
          [
           3,
           4.3438,
           89
          ],
          [
           4,
           5.0434,
           84
          ],
          [
           3,
           4.0254,
           58
          ],
          [
           4.64,
           4.1109,
           96
          ],
          [
           4.71,
           5.2781,
           101
          ],
          [
           6,
           4.9767,
           90
          ],
          [
           5,
           5.3660000000000005,
           81
          ],
          [
           2,
           4.0775,
           85
          ],
          [
           4,
           4.7095,
           112
          ],
          [
           3,
           4.2485,
           96
          ],
          [
           6.56,
           5.2417,
           93
          ],
          [
           6,
           4.803999999999999,
           92
          ],
          [
           4.16,
           4.3175,
           100
          ],
          [
           3.49,
           4.1271,
           92
          ],
          [
           4,
           4.4067,
           93
          ],
          [
           3,
           3.8286,
           90
          ],
          [
           5,
           4.2767,
           106
          ],
          [
           6,
           5.1874,
           95
          ],
          [
           4,
           5.0876,
           89
          ],
          [
           7,
           4.8122,
           80
          ],
          [
           5,
           4.9053,
           97
          ],
          [
           2,
           4.4188,
           79
          ],
          [
           5.63,
           5.0304,
           112
          ],
          [
           3,
           4.1431,
           99
          ],
          [
           5,
           5.3660000000000005,
           123
          ],
          [
           3.4,
           4.3567,
           82
          ],
          [
           5,
           4.5326,
           87
          ],
          [
           3,
           4.4773,
           91
          ],
          [
           4.7,
           5.2523,
           117
          ],
          [
           3,
           4.0775,
           89
          ],
          [
           3,
           4.1431,
           99
          ],
          [
           4,
           4.2195,
           82
          ],
          [
           2,
           3.9703,
           80
          ],
          [
           4,
           4.9836,
           93
          ],
          [
           5,
           4.4427,
           102
          ],
          [
           3.77,
           4.1271,
           95
          ],
          [
           4.79,
           5.1299,
           85
          ],
          [
           3,
           4.5951,
           92
          ]
         ],
         "hovertemplate": "age=%{x}<br>bmi=%{y}<br>s4=%{customdata[0]}<br>s5=%{customdata[1]}<br>s6=%{customdata[2]}<extra></extra>",
         "legendgroup": "",
         "marker": {
          "color": "#636efa",
          "symbol": "circle"
         },
         "mode": "markers",
         "name": "",
         "orientation": "v",
         "showlegend": false,
         "type": "scatter",
         "x": [
          59,
          48,
          72,
          24,
          50,
          23,
          36,
          66,
          60,
          29,
          22,
          56,
          53,
          50,
          61,
          34,
          47,
          68,
          38,
          41,
          35,
          25,
          25,
          61,
          31,
          30,
          19,
          42,
          63,
          67,
          32,
          42,
          58,
          57,
          53,
          62,
          52,
          46,
          48,
          48,
          50,
          21,
          32,
          54,
          61,
          56,
          33,
          27,
          67,
          37,
          58,
          65,
          34,
          46,
          35,
          37,
          37,
          41,
          60,
          66,
          29,
          37,
          41,
          39,
          67,
          36,
          46,
          60,
          59,
          53,
          48,
          48,
          66,
          52,
          52,
          46,
          40,
          22,
          50,
          20,
          68,
          52,
          44,
          38,
          49,
          61,
          29,
          61,
          34,
          36,
          52,
          61,
          43,
          35,
          27,
          29,
          64,
          41,
          49,
          48,
          53,
          53,
          23,
          65,
          41,
          55,
          22,
          56,
          54,
          59,
          60,
          54,
          25,
          54,
          55,
          40,
          62,
          65,
          33,
          53,
          35,
          66,
          62,
          50,
          47,
          47,
          24,
          58,
          34,
          51,
          31,
          22,
          53,
          37,
          28,
          47,
          23,
          50,
          58,
          55,
          60,
          41,
          60,
          40,
          57,
          37,
          40,
          33,
          32,
          35,
          55,
          49,
          39,
          60,
          67,
          41,
          44,
          48,
          45,
          47,
          46,
          36,
          34,
          53,
          61,
          37,
          33,
          68,
          49,
          48,
          55,
          43,
          60,
          31,
          53,
          67,
          61,
          62,
          60,
          42,
          38,
          62,
          61,
          61,
          53,
          28,
          26,
          30,
          50,
          48,
          51,
          47,
          64,
          51,
          30,
          56,
          42,
          62,
          34,
          60,
          64,
          39,
          71,
          48,
          79,
          40,
          49,
          51,
          57,
          59,
          51,
          74,
          67,
          49,
          57,
          56,
          52,
          69,
          37,
          24,
          55,
          36,
          42,
          21,
          41,
          57,
          20,
          67,
          34,
          41,
          38,
          51,
          52,
          67,
          61,
          67,
          56,
          64,
          58,
          55,
          62,
          57,
          20,
          53,
          32,
          41,
          60,
          26,
          37,
          45,
          67,
          34,
          50,
          71,
          57,
          49,
          35,
          41,
          70,
          52,
          60,
          62,
          44,
          28,
          58,
          39,
          34,
          65,
          66,
          51,
          50,
          59,
          52,
          69,
          53,
          47,
          52,
          39,
          67,
          59,
          51,
          23,
          68,
          44,
          60,
          52,
          38,
          61,
          68,
          28,
          65,
          69,
          51,
          29,
          55,
          34,
          67,
          49,
          55,
          59,
          53,
          48,
          52,
          69,
          60,
          46,
          51,
          67,
          49,
          46,
          47,
          75,
          28,
          65,
          42,
          51,
          53,
          54,
          73,
          54,
          42,
          75,
          55,
          68,
          57,
          48,
          61,
          69,
          38,
          45,
          51,
          71,
          57,
          56,
          32,
          50,
          43,
          54,
          31,
          56,
          44,
          57,
          64,
          43,
          19,
          71,
          50,
          59,
          57,
          49,
          41,
          25,
          52,
          34,
          42,
          28,
          47,
          32,
          43,
          59,
          53,
          60,
          54,
          35,
          49,
          58,
          36,
          46,
          44,
          46,
          54,
          63,
          41,
          28,
          19,
          61,
          48,
          54,
          53,
          48,
          53,
          29,
          62,
          50,
          58,
          55,
          54,
          36,
          63,
          47,
          51,
          42,
          37,
          28,
          58,
          32,
          25,
          63,
          52,
          65,
          42,
          53,
          79,
          43,
          44,
          62,
          33,
          56,
          66,
          34,
          46,
          50,
          69,
          34,
          71,
          47,
          41,
          34,
          51,
          43,
          55,
          59,
          27,
          51,
          49,
          27,
          57,
          39,
          62,
          37,
          46,
          68,
          51,
          41,
          53,
          45,
          33,
          60,
          47,
          60,
          36,
          36
         ],
         "xaxis": "x",
         "y": [
          32.1,
          21.6,
          30.5,
          25.3,
          23,
          22.6,
          22,
          26.2,
          32.1,
          30,
          18.6,
          28,
          23.7,
          26.2,
          24,
          24.7,
          30.3,
          27.5,
          25.4,
          24.7,
          21.1,
          24.3,
          26,
          32,
          29.7,
          25.2,
          19.2,
          31.9,
          24.4,
          25.8,
          30.5,
          20.3,
          38,
          21.7,
          20.5,
          23.5,
          28.5,
          27.4,
          33,
          27.7,
          25.6,
          20.1,
          25.4,
          24.2,
          32.7,
          23.1,
          25.3,
          19.6,
          22.5,
          27.7,
          25.7,
          27.9,
          25.5,
          24.9,
          28.7,
          21.8,
          30.2,
          20.5,
          20.4,
          24,
          26,
          26.8,
          25.7,
          22.9,
          24,
          24.1,
          24.7,
          25,
          23.6,
          22.1,
          19.9,
          29.5,
          26,
          24.5,
          26.6,
          23.5,
          29,
          23,
          21,
          22.9,
          27.5,
          24.3,
          23.1,
          27.3,
          22.7,
          33,
          19.4,
          25.8,
          22.6,
          21.9,
          24,
          31.2,
          26.8,
          20.4,
          24.8,
          21,
          27.3,
          34.6,
          25.9,
          20.4,
          28,
          22.2,
          29,
          30.2,
          32.4,
          23.4,
          19.3,
          31,
          30.6,
          25.5,
          23.4,
          26.8,
          28.3,
          27.7,
          36.6,
          26.5,
          31.8,
          24.4,
          25.4,
          22,
          26.8,
          28,
          33.9,
          29.6,
          28.6,
          25.6,
          20.7,
          26.2,
          20.6,
          27.9,
          35.3,
          19.9,
          24.4,
          21.4,
          30.4,
          31.6,
          18.8,
          31,
          36.7,
          32.1,
          27.7,
          30.8,
          27.5,
          26.9,
          30.7,
          38.3,
          31.9,
          35,
          27.8,
          25.9,
          32.9,
          26,
          26.3,
          22.3,
          28.3,
          32,
          25.4,
          23.3,
          20.3,
          30.4,
          20.6,
          32.3,
          29.2,
          33.1,
          24.6,
          20.2,
          20.8,
          32.8,
          31.9,
          23.9,
          24.5,
          22.1,
          33,
          19,
          27.3,
          22.8,
          28.2,
          28.9,
          25.6,
          24.9,
          26.8,
          22.4,
          26.9,
          23.1,
          28.6,
          24.7,
          30.3,
          21.3,
          26.1,
          20.2,
          25.2,
          22.5,
          23.5,
          25.9,
          20.9,
          28.7,
          22.1,
          26.7,
          31.4,
          22.2,
          21,
          21.2,
          26.5,
          29.2,
          27,
          30.7,
          28.8,
          30.6,
          30.1,
          24.7,
          27.7,
          29.8,
          26.7,
          19.8,
          23.3,
          35.1,
          29.7,
          29.3,
          20.3,
          22.5,
          22.7,
          22.8,
          24,
          24.2,
          20.2,
          29.4,
          22.1,
          23.6,
          25.2,
          24.9,
          33,
          23.5,
          26.4,
          29.8,
          30,
          25,
          27,
          20,
          25.5,
          28.2,
          33.3,
          25.6,
          24.2,
          22.1,
          31.4,
          23.1,
          23.4,
          18.8,
          30.8,
          32,
          31.6,
          35.5,
          31.9,
          29.5,
          31.6,
          20.3,
          41.3,
          21.2,
          24.1,
          23,
          25.6,
          22.5,
          38.2,
          19.2,
          29,
          24,
          20.6,
          26.3,
          34.6,
          23.4,
          29.2,
          27.2,
          27,
          24.5,
          24.1,
          25.3,
          28.8,
          20.9,
          23,
          24.1,
          28.1,
          18,
          25.9,
          21.5,
          24.3,
          24.5,
          21.3,
          25.8,
          24.8,
          31.5,
          33.5,
          28.1,
          24.3,
          35,
          23.5,
          30,
          20.7,
          25.6,
          22.9,
          25.1,
          33.2,
          24.1,
          29.5,
          29.6,
          22.8,
          22.7,
          26.2,
          23.5,
          22.1,
          26.5,
          32.4,
          30.1,
          24.2,
          31.3,
          30.1,
          24.5,
          27.7,
          23.2,
          27,
          26.8,
          29.2,
          31.2,
          32.1,
          25.7,
          26.9,
          31.4,
          25.6,
          37,
          32.6,
          21.2,
          29.2,
          24,
          36.1,
          25.8,
          22,
          21.9,
          34.3,
          25.2,
          23.3,
          25.7,
          25.1,
          31.9,
          28.4,
          28.1,
          25.3,
          26.1,
          28,
          23.6,
          24.5,
          21,
          32,
          22.6,
          19.7,
          21.2,
          30.6,
          25.5,
          23.3,
          31,
          18.5,
          26.9,
          28.3,
          25.7,
          36.1,
          24.1,
          25.8,
          22.8,
          39.1,
          42.2,
          26.6,
          29.9,
          21,
          25.5,
          24.2,
          25.4,
          23.2,
          26.1,
          32.7,
          27.3,
          26.6,
          22.8,
          28.8,
          18.1,
          32,
          23.7,
          23.6,
          24.6,
          22.6,
          27.8,
          24.1,
          26.5,
          32.8,
          19.9,
          23.6,
          22.1,
          28.1,
          26.5,
          23.5,
          26,
          27.8,
          28.5,
          30.6,
          22.2,
          23.3,
          35.4,
          31.4,
          37.8,
          18.9,
          35,
          21.7,
          25.3,
          23.8,
          31.8,
          34.3,
          26.3,
          27,
          27.2,
          33.8,
          33,
          24.1,
          21.3,
          23,
          27.9,
          33.6,
          22.7,
          27.4,
          22.6,
          23.2,
          26.9,
          34.6,
          23.3,
          21.1,
          23.5,
          31.5,
          20.8,
          26.5,
          24.2,
          19.5,
          28.2,
          24.9,
          24.9,
          30,
          19.6
         ],
         "yaxis": "y"
        }
       ],
       "layout": {
        "legend": {
         "tracegroupgap": 0
        },
        "margin": {
         "t": 60
        },
        "template": {
         "data": {
          "bar": [
           {
            "error_x": {
             "color": "rgb(36,36,36)"
            },
            "error_y": {
             "color": "rgb(36,36,36)"
            },
            "marker": {
             "line": {
              "color": "white",
              "width": 0.5
             },
             "pattern": {
              "fillmode": "overlay",
              "size": 10,
              "solidity": 0.2
             }
            },
            "type": "bar"
           }
          ],
          "barpolar": [
           {
            "marker": {
             "line": {
              "color": "white",
              "width": 0.5
             },
             "pattern": {
              "fillmode": "overlay",
              "size": 10,
              "solidity": 0.2
             }
            },
            "type": "barpolar"
           }
          ],
          "carpet": [
           {
            "aaxis": {
             "endlinecolor": "rgb(36,36,36)",
             "gridcolor": "white",
             "linecolor": "white",
             "minorgridcolor": "white",
             "startlinecolor": "rgb(36,36,36)"
            },
            "baxis": {
             "endlinecolor": "rgb(36,36,36)",
             "gridcolor": "white",
             "linecolor": "white",
             "minorgridcolor": "white",
             "startlinecolor": "rgb(36,36,36)"
            },
            "type": "carpet"
           }
          ],
          "choropleth": [
           {
            "colorbar": {
             "outlinewidth": 1,
             "tickcolor": "rgb(36,36,36)",
             "ticks": "outside"
            },
            "type": "choropleth"
           }
          ],
          "contour": [
           {
            "colorbar": {
             "outlinewidth": 1,
             "tickcolor": "rgb(36,36,36)",
             "ticks": "outside"
            },
            "colorscale": [
             [
              0,
              "#440154"
             ],
             [
              0.1111111111111111,
              "#482878"
             ],
             [
              0.2222222222222222,
              "#3e4989"
             ],
             [
              0.3333333333333333,
              "#31688e"
             ],
             [
              0.4444444444444444,
              "#26828e"
             ],
             [
              0.5555555555555556,
              "#1f9e89"
             ],
             [
              0.6666666666666666,
              "#35b779"
             ],
             [
              0.7777777777777778,
              "#6ece58"
             ],
             [
              0.8888888888888888,
              "#b5de2b"
             ],
             [
              1,
              "#fde725"
             ]
            ],
            "type": "contour"
           }
          ],
          "contourcarpet": [
           {
            "colorbar": {
             "outlinewidth": 1,
             "tickcolor": "rgb(36,36,36)",
             "ticks": "outside"
            },
            "type": "contourcarpet"
           }
          ],
          "heatmap": [
           {
            "colorbar": {
             "outlinewidth": 1,
             "tickcolor": "rgb(36,36,36)",
             "ticks": "outside"
            },
            "colorscale": [
             [
              0,
              "#440154"
             ],
             [
              0.1111111111111111,
              "#482878"
             ],
             [
              0.2222222222222222,
              "#3e4989"
             ],
             [
              0.3333333333333333,
              "#31688e"
             ],
             [
              0.4444444444444444,
              "#26828e"
             ],
             [
              0.5555555555555556,
              "#1f9e89"
             ],
             [
              0.6666666666666666,
              "#35b779"
             ],
             [
              0.7777777777777778,
              "#6ece58"
             ],
             [
              0.8888888888888888,
              "#b5de2b"
             ],
             [
              1,
              "#fde725"
             ]
            ],
            "type": "heatmap"
           }
          ],
          "heatmapgl": [
           {
            "colorbar": {
             "outlinewidth": 1,
             "tickcolor": "rgb(36,36,36)",
             "ticks": "outside"
            },
            "colorscale": [
             [
              0,
              "#440154"
             ],
             [
              0.1111111111111111,
              "#482878"
             ],
             [
              0.2222222222222222,
              "#3e4989"
             ],
             [
              0.3333333333333333,
              "#31688e"
             ],
             [
              0.4444444444444444,
              "#26828e"
             ],
             [
              0.5555555555555556,
              "#1f9e89"
             ],
             [
              0.6666666666666666,
              "#35b779"
             ],
             [
              0.7777777777777778,
              "#6ece58"
             ],
             [
              0.8888888888888888,
              "#b5de2b"
             ],
             [
              1,
              "#fde725"
             ]
            ],
            "type": "heatmapgl"
           }
          ],
          "histogram": [
           {
            "marker": {
             "line": {
              "color": "white",
              "width": 0.6
             },
             "pattern": {
              "fillmode": "overlay",
              "size": 10,
              "solidity": 0.2
             }
            },
            "type": "histogram"
           }
          ],
          "histogram2d": [
           {
            "colorbar": {
             "outlinewidth": 1,
             "tickcolor": "rgb(36,36,36)",
             "ticks": "outside"
            },
            "colorscale": [
             [
              0,
              "#440154"
             ],
             [
              0.1111111111111111,
              "#482878"
             ],
             [
              0.2222222222222222,
              "#3e4989"
             ],
             [
              0.3333333333333333,
              "#31688e"
             ],
             [
              0.4444444444444444,
              "#26828e"
             ],
             [
              0.5555555555555556,
              "#1f9e89"
             ],
             [
              0.6666666666666666,
              "#35b779"
             ],
             [
              0.7777777777777778,
              "#6ece58"
             ],
             [
              0.8888888888888888,
              "#b5de2b"
             ],
             [
              1,
              "#fde725"
             ]
            ],
            "type": "histogram2d"
           }
          ],
          "histogram2dcontour": [
           {
            "colorbar": {
             "outlinewidth": 1,
             "tickcolor": "rgb(36,36,36)",
             "ticks": "outside"
            },
            "colorscale": [
             [
              0,
              "#440154"
             ],
             [
              0.1111111111111111,
              "#482878"
             ],
             [
              0.2222222222222222,
              "#3e4989"
             ],
             [
              0.3333333333333333,
              "#31688e"
             ],
             [
              0.4444444444444444,
              "#26828e"
             ],
             [
              0.5555555555555556,
              "#1f9e89"
             ],
             [
              0.6666666666666666,
              "#35b779"
             ],
             [
              0.7777777777777778,
              "#6ece58"
             ],
             [
              0.8888888888888888,
              "#b5de2b"
             ],
             [
              1,
              "#fde725"
             ]
            ],
            "type": "histogram2dcontour"
           }
          ],
          "mesh3d": [
           {
            "colorbar": {
             "outlinewidth": 1,
             "tickcolor": "rgb(36,36,36)",
             "ticks": "outside"
            },
            "type": "mesh3d"
           }
          ],
          "parcoords": [
           {
            "line": {
             "colorbar": {
              "outlinewidth": 1,
              "tickcolor": "rgb(36,36,36)",
              "ticks": "outside"
             }
            },
            "type": "parcoords"
           }
          ],
          "pie": [
           {
            "automargin": true,
            "type": "pie"
           }
          ],
          "scatter": [
           {
            "fillpattern": {
             "fillmode": "overlay",
             "size": 10,
             "solidity": 0.2
            },
            "type": "scatter"
           }
          ],
          "scatter3d": [
           {
            "line": {
             "colorbar": {
              "outlinewidth": 1,
              "tickcolor": "rgb(36,36,36)",
              "ticks": "outside"
             }
            },
            "marker": {
             "colorbar": {
              "outlinewidth": 1,
              "tickcolor": "rgb(36,36,36)",
              "ticks": "outside"
             }
            },
            "type": "scatter3d"
           }
          ],
          "scattercarpet": [
           {
            "marker": {
             "colorbar": {
              "outlinewidth": 1,
              "tickcolor": "rgb(36,36,36)",
              "ticks": "outside"
             }
            },
            "type": "scattercarpet"
           }
          ],
          "scattergeo": [
           {
            "marker": {
             "colorbar": {
              "outlinewidth": 1,
              "tickcolor": "rgb(36,36,36)",
              "ticks": "outside"
             }
            },
            "type": "scattergeo"
           }
          ],
          "scattergl": [
           {
            "marker": {
             "colorbar": {
              "outlinewidth": 1,
              "tickcolor": "rgb(36,36,36)",
              "ticks": "outside"
             }
            },
            "type": "scattergl"
           }
          ],
          "scattermapbox": [
           {
            "marker": {
             "colorbar": {
              "outlinewidth": 1,
              "tickcolor": "rgb(36,36,36)",
              "ticks": "outside"
             }
            },
            "type": "scattermapbox"
           }
          ],
          "scatterpolar": [
           {
            "marker": {
             "colorbar": {
              "outlinewidth": 1,
              "tickcolor": "rgb(36,36,36)",
              "ticks": "outside"
             }
            },
            "type": "scatterpolar"
           }
          ],
          "scatterpolargl": [
           {
            "marker": {
             "colorbar": {
              "outlinewidth": 1,
              "tickcolor": "rgb(36,36,36)",
              "ticks": "outside"
             }
            },
            "type": "scatterpolargl"
           }
          ],
          "scatterternary": [
           {
            "marker": {
             "colorbar": {
              "outlinewidth": 1,
              "tickcolor": "rgb(36,36,36)",
              "ticks": "outside"
             }
            },
            "type": "scatterternary"
           }
          ],
          "surface": [
           {
            "colorbar": {
             "outlinewidth": 1,
             "tickcolor": "rgb(36,36,36)",
             "ticks": "outside"
            },
            "colorscale": [
             [
              0,
              "#440154"
             ],
             [
              0.1111111111111111,
              "#482878"
             ],
             [
              0.2222222222222222,
              "#3e4989"
             ],
             [
              0.3333333333333333,
              "#31688e"
             ],
             [
              0.4444444444444444,
              "#26828e"
             ],
             [
              0.5555555555555556,
              "#1f9e89"
             ],
             [
              0.6666666666666666,
              "#35b779"
             ],
             [
              0.7777777777777778,
              "#6ece58"
             ],
             [
              0.8888888888888888,
              "#b5de2b"
             ],
             [
              1,
              "#fde725"
             ]
            ],
            "type": "surface"
           }
          ],
          "table": [
           {
            "cells": {
             "fill": {
              "color": "rgb(237,237,237)"
             },
             "line": {
              "color": "white"
             }
            },
            "header": {
             "fill": {
              "color": "rgb(217,217,217)"
             },
             "line": {
              "color": "white"
             }
            },
            "type": "table"
           }
          ]
         },
         "layout": {
          "annotationdefaults": {
           "arrowcolor": "#2a3f5f",
           "arrowhead": 0,
           "arrowwidth": 1
          },
          "autotypenumbers": "strict",
          "coloraxis": {
           "colorbar": {
            "outlinewidth": 1,
            "tickcolor": "rgb(36,36,36)",
            "ticks": "outside"
           }
          },
          "colorscale": {
           "diverging": [
            [
             0,
             "rgb(103,0,31)"
            ],
            [
             0.1,
             "rgb(178,24,43)"
            ],
            [
             0.2,
             "rgb(214,96,77)"
            ],
            [
             0.3,
             "rgb(244,165,130)"
            ],
            [
             0.4,
             "rgb(253,219,199)"
            ],
            [
             0.5,
             "rgb(247,247,247)"
            ],
            [
             0.6,
             "rgb(209,229,240)"
            ],
            [
             0.7,
             "rgb(146,197,222)"
            ],
            [
             0.8,
             "rgb(67,147,195)"
            ],
            [
             0.9,
             "rgb(33,102,172)"
            ],
            [
             1,
             "rgb(5,48,97)"
            ]
           ],
           "sequential": [
            [
             0,
             "#440154"
            ],
            [
             0.1111111111111111,
             "#482878"
            ],
            [
             0.2222222222222222,
             "#3e4989"
            ],
            [
             0.3333333333333333,
             "#31688e"
            ],
            [
             0.4444444444444444,
             "#26828e"
            ],
            [
             0.5555555555555556,
             "#1f9e89"
            ],
            [
             0.6666666666666666,
             "#35b779"
            ],
            [
             0.7777777777777778,
             "#6ece58"
            ],
            [
             0.8888888888888888,
             "#b5de2b"
            ],
            [
             1,
             "#fde725"
            ]
           ],
           "sequentialminus": [
            [
             0,
             "#440154"
            ],
            [
             0.1111111111111111,
             "#482878"
            ],
            [
             0.2222222222222222,
             "#3e4989"
            ],
            [
             0.3333333333333333,
             "#31688e"
            ],
            [
             0.4444444444444444,
             "#26828e"
            ],
            [
             0.5555555555555556,
             "#1f9e89"
            ],
            [
             0.6666666666666666,
             "#35b779"
            ],
            [
             0.7777777777777778,
             "#6ece58"
            ],
            [
             0.8888888888888888,
             "#b5de2b"
            ],
            [
             1,
             "#fde725"
            ]
           ]
          },
          "colorway": [
           "#1F77B4",
           "#FF7F0E",
           "#2CA02C",
           "#D62728",
           "#9467BD",
           "#8C564B",
           "#E377C2",
           "#7F7F7F",
           "#BCBD22",
           "#17BECF"
          ],
          "font": {
           "color": "rgb(36,36,36)"
          },
          "geo": {
           "bgcolor": "white",
           "lakecolor": "white",
           "landcolor": "white",
           "showlakes": true,
           "showland": true,
           "subunitcolor": "white"
          },
          "hoverlabel": {
           "align": "left"
          },
          "hovermode": "closest",
          "mapbox": {
           "style": "light"
          },
          "paper_bgcolor": "white",
          "plot_bgcolor": "white",
          "polar": {
           "angularaxis": {
            "gridcolor": "rgb(232,232,232)",
            "linecolor": "rgb(36,36,36)",
            "showgrid": false,
            "showline": true,
            "ticks": "outside"
           },
           "bgcolor": "white",
           "radialaxis": {
            "gridcolor": "rgb(232,232,232)",
            "linecolor": "rgb(36,36,36)",
            "showgrid": false,
            "showline": true,
            "ticks": "outside"
           }
          },
          "scene": {
           "xaxis": {
            "backgroundcolor": "white",
            "gridcolor": "rgb(232,232,232)",
            "gridwidth": 2,
            "linecolor": "rgb(36,36,36)",
            "showbackground": true,
            "showgrid": false,
            "showline": true,
            "ticks": "outside",
            "zeroline": false,
            "zerolinecolor": "rgb(36,36,36)"
           },
           "yaxis": {
            "backgroundcolor": "white",
            "gridcolor": "rgb(232,232,232)",
            "gridwidth": 2,
            "linecolor": "rgb(36,36,36)",
            "showbackground": true,
            "showgrid": false,
            "showline": true,
            "ticks": "outside",
            "zeroline": false,
            "zerolinecolor": "rgb(36,36,36)"
           },
           "zaxis": {
            "backgroundcolor": "white",
            "gridcolor": "rgb(232,232,232)",
            "gridwidth": 2,
            "linecolor": "rgb(36,36,36)",
            "showbackground": true,
            "showgrid": false,
            "showline": true,
            "ticks": "outside",
            "zeroline": false,
            "zerolinecolor": "rgb(36,36,36)"
           }
          },
          "shapedefaults": {
           "fillcolor": "black",
           "line": {
            "color": "#2a3f5f",
            "width": 0
           },
           "opacity": 0.3
          },
          "ternary": {
           "aaxis": {
            "gridcolor": "rgb(232,232,232)",
            "linecolor": "rgb(36,36,36)",
            "showgrid": false,
            "showline": true,
            "ticks": "outside"
           },
           "baxis": {
            "gridcolor": "rgb(232,232,232)",
            "linecolor": "rgb(36,36,36)",
            "showgrid": false,
            "showline": true,
            "ticks": "outside"
           },
           "bgcolor": "white",
           "caxis": {
            "gridcolor": "rgb(232,232,232)",
            "linecolor": "rgb(36,36,36)",
            "showgrid": false,
            "showline": true,
            "ticks": "outside"
           }
          },
          "title": {
           "x": 0.05
          },
          "xaxis": {
           "automargin": true,
           "gridcolor": "rgb(232,232,232)",
           "linecolor": "rgb(36,36,36)",
           "showgrid": false,
           "showline": true,
           "ticks": "outside",
           "title": {
            "standoff": 15
           },
           "zeroline": false,
           "zerolinecolor": "rgb(36,36,36)",
           "zerolinewidth": 2
          },
          "yaxis": {
           "automargin": true,
           "gridcolor": "rgb(232,232,232)",
           "linecolor": "rgb(36,36,36)",
           "showgrid": true,
           "showline": false,
           "ticks": "outside",
           "title": {
            "standoff": 15
           },
           "zeroline": false,
           "zerolinecolor": "rgb(36,36,36)",
           "zerolinewidth": 2
          }
         }
        },
        "title": {
         "text": "Diabetes dataset"
        },
        "xaxis": {
         "anchor": "y",
         "domain": [
          0,
          1
         ],
         "title": {
          "text": "age"
         }
        },
        "yaxis": {
         "anchor": "x",
         "domain": [
          0,
          1
         ],
         "title": {
          "text": "bmi"
         }
        }
       }
      }
     },
     "metadata": {},
     "output_type": "display_data"
    }
   ],
   "source": [
    "# Plotly ExpressでFigureを作成\n",
    "figure = px.scatter(\n",
    "    df,\n",
    "    x='age',\n",
    "    y='bmi',\n",
    "    hover_data=['s4', 's5', 's6']\n",
    ")\n",
    "\n",
    "# Layoutを更新\n",
    "figure.update_layout(layout)\n",
    "\n",
    "# figure.write_image('./figure/out_7_1_4.png', width=900, height=450, scale=2)\n",
    "figure"
   ]
  },
  {
   "cell_type": "code",
   "execution_count": 6,
   "metadata": {},
   "outputs": [
    {
     "data": {
      "application/vnd.plotly.v1+json": {
       "config": {
        "plotlyServerURL": "https://plot.ly"
       },
       "data": [
        {
         "customdata": [
          [
           4,
           4.8598,
           87
          ],
          [
           3,
           3.8918,
           69
          ],
          [
           4,
           4.6728,
           85
          ],
          [
           5,
           4.8903,
           89
          ],
          [
           4,
           4.2905,
           80
          ],
          [
           2,
           4.1897,
           68
          ],
          [
           3,
           3.9512,
           82
          ],
          [
           4.55,
           4.2485,
           92
          ],
          [
           4,
           4.4773,
           94
          ],
          [
           4,
           5.3845,
           88
          ],
          [
           2,
           3.9512,
           83
          ],
          [
           6,
           3.5835,
           77
          ],
          [
           3,
           4.3041,
           81
          ],
          [
           4,
           5.0626,
           88
          ],
          [
           3,
           4.2905,
           73
          ],
          [
           7,
           5.037,
           81
          ],
          [
           3,
           5.2149,
           98
          ],
          [
           5,
           4.9416,
           91
          ],
          [
           4,
           4.4427,
           87
          ],
          [
           3,
           4.5433,
           78
          ],
          [
           3,
           4.5109,
           95
          ],
          [
           3,
           3.8501,
           87
          ],
          [
           3,
           3.9703,
           88
          ],
          [
           6,
           6.107,
           124
          ],
          [
           4,
           4.3567,
           78
          ],
          [
           5,
           4.852,
           83
          ],
          [
           2,
           4.1744,
           90
          ],
          [
           3,
           4.4659,
           101
          ],
          [
           3,
           4.6347,
           78
          ],
          [
           2,
           5.2933,
           104
          ],
          [
           3,
           4.3438,
           89
          ],
          [
           2,
           4.2341,
           81
          ],
          [
           7,
           4.6444,
           98
          ],
          [
           2,
           4.4427,
           92
          ],
          [
           3,
           3.989,
           75
          ],
          [
           2.62,
           4.8752,
           96
          ],
          [
           3,
           5.2417,
           85
          ],
          [
           3,
           4.8283,
           90
          ],
          [
           6,
           5.425,
           97
          ],
          [
           4,
           4.852,
           92
          ],
          [
           5,
           4.7791,
           114
          ],
          [
           3,
           4.0943,
           89
          ],
          [
           4.5,
           4.5326,
           83
          ],
          [
           2,
           4.1744,
           109
          ],
          [
           6,
           4.9972,
           87
          ],
          [
           4,
           4.4773,
           79
          ],
          [
           3,
           4.5539,
           70
          ],
          [
           3,
           4.4427,
           71
          ],
          [
           3,
           3.989,
           86
          ],
          [
           6,
           5.0304,
           88
          ],
          [
           3,
           4.4067,
           93
          ],
          [
           4,
           4.6151,
           86
          ],
          [
           4,
           4.4427,
           88
          ],
          [
           4,
           4.2767,
           103
          ],
          [
           3,
           4.1897,
           93
          ],
          [
           3,
           3.912,
           93
          ],
          [
           4.15,
           5.0106,
           87
          ],
          [
           2,
           4.0254,
           75
          ],
          [
           2,
           4.6347,
           79
          ],
          [
           4,
           5.0626,
           96
          ],
          [
           2,
           4.0775,
           83
          ],
          [
           6,
           5.0434,
           96
          ],
          [
           3,
           3.7377,
           85
          ],
          [
           4,
           4.3041,
           74
          ],
          [
           3,
           4.4308,
           94
          ],
          [
           6,
           5.1059,
           95
          ],
          [
           6,
           4.6444,
           96
          ],
          [
           4.02,
           4.5109,
           92
          ],
          [
           4,
           4.4998,
           92
          ],
          [
           3,
           4.0775,
           96
          ],
          [
           3,
           3.9512,
           101
          ],
          [
           4,
           4.9345,
           106
          ],
          [
           4,
           5.5683,
           87
          ],
          [
           5,
           4.585,
           89
          ],
          [
           3,
           4.6821,
           109
          ],
          [
           4,
           4.7095,
           98
          ],
          [
           2.77,
           4.3041,
           95
          ],
          [
           3,
           3.8286,
           91
          ],
          [
           4,
           5.112,
           71
          ],
          [
           4,
           3.8918,
           85
          ],
          [
           4,
           4.92,
           90
          ],
          [
           5,
           4.5747,
           91
          ],
          [
           3,
           3.8712,
           72
          ],
          [
           3,
           4.4659,
           81
          ],
          [
           2.71,
           3.8918,
           60
          ],
          [
           3,
           4.1897,
           74
          ],
          [
           4,
           3.5835,
           83
          ],
          [
           3,
           5.112,
           82
          ],
          [
           3,
           4.2627,
           108
          ],
          [
           3,
           4.3694,
           96
          ],
          [
           2,
           3.8501,
           94
          ],
          [
           5,
           5.0499,
           96
          ],
          [
           3,
           4.7791,
           94
          ],
          [
           2.79,
           4.2767,
           78
          ],
          [
           3,
           4.1897,
           69
          ],
          [
           4,
           4.654,
           90
          ],
          [
           5,
           5.3083,
           99
          ],
          [
           5,
           4.6728,
           110
          ],
          [
           3,
           4.5747,
           75
          ],
          [
           5,
           4.7707,
           78
          ],
          [
           4,
           5.0499,
           91
          ],
          [
           3,
           4.3041,
           100
          ],
          [
           3,
           4.585,
           91
          ],
          [
           5,
           4.5218,
           84
          ],
          [
           3,
           3.9703,
           76
          ],
          [
           4,
           4.5218,
           96
          ],
          [
           3,
           3.989,
           71
          ],
          [
           5.5,
           4.0604,
           90
          ],
          [
           4.8,
           5.1417,
           101
          ],
          [
           5.43,
           4.3567,
           117
          ],
          [
           3,
           3.2581,
           95
          ],
          [
           3,
           4.382,
           80
          ],
          [
           4,
           4.382,
           92
          ],
          [
           5,
           5.1533,
           113
          ],
          [
           4.63,
           5.7301,
           97
          ],
          [
           7,
           5.5607,
           92
          ],
          [
           5,
           4.8828,
           98
          ],
          [
           6,
           5.5094,
           124
          ],
          [
           5,
           4.8675,
           105
          ],
          [
           3,
           4.9416,
           98
          ],
          [
           4,
           4.2047,
           86
          ],
          [
           5,
           4.8598,
           94
          ],
          [
           6,
           4.9972,
           103
          ],
          [
           9.09,
           4.8122,
           109
          ],
          [
           3,
           4.4659,
           88
          ],
          [
           4,
           5.5255,
           93
          ],
          [
           2,
           3.6109,
           78
          ],
          [
           3,
           4.6913,
           68
          ],
          [
           3,
           4.3041,
           74
          ],
          [
           5,
           5.0689,
           120
          ],
          [
           4,
           4.8903,
           109
          ],
          [
           3,
           4.1271,
           72
          ],
          [
           4,
           4.4998,
           97
          ],
          [
           3,
           3.8501,
           84
          ],
          [
           3,
           4.3438,
           80
          ],
          [
           5.1,
           5.1985,
           105
          ],
          [
           2,
           3.912,
           86
          ],
          [
           4,
           4.8283,
           88
          ],
          [
           4,
           4.9488,
           109
          ],
          [
           4,
           5.2417,
           90
          ],
          [
           4,
           4.2767,
           95
          ],
          [
           7.6,
           5.1358,
           123
          ],
          [
           4,
           5.1417,
           91
          ],
          [
           3,
           4.1897,
           81
          ],
          [
           6,
           4.7095,
           93
          ],
          [
           3,
           4.4659,
           79
          ],
          [
           5,
           4.803999999999999,
           93
          ],
          [
           4.76,
           4.9273,
           101
          ],
          [
           4,
           4.3041,
           91
          ],
          [
           6,
           5.3132,
           82
          ],
          [
           4,
           4.4308,
           89
          ],
          [
           3,
           4.5433,
           88
          ],
          [
           7,
           4.9345,
           109
          ],
          [
           4,
           4.2627,
           94
          ],
          [
           4,
           4.7362,
           92
          ],
          [
           5,
           5.0562,
           103
          ],
          [
           3,
           4.4067,
           83
          ],
          [
           4.61,
           4.7536,
           98
          ],
          [
           3.88,
           4.3041,
           79
          ],
          [
           4,
           5.1059,
           87
          ],
          [
           3,
           4.2485,
           80
          ],
          [
           7,
           5.4723,
           112
          ],
          [
           4,
           4.3041,
           91
          ],
          [
           4,
           4.382,
           106
          ],
          [
           3,
           4.8363,
           88
          ],
          [
           3,
           4.0254,
           88
          ],
          [
           3,
           3.7842,
           66
          ],
          [
           5.13,
           5.4931,
           117
          ],
          [
           7,
           5.3982,
           122
          ],
          [
           6,
           6.107,
           96
          ],
          [
           3,
           3.5835,
           87
          ],
          [
           3,
           4.0775,
           80
          ],
          [
           5,
           5.4467,
           112
          ],
          [
           3,
           4.4427,
           78
          ],
          [
           3,
           4.8283,
           93
          ],
          [
           3,
           4.3438,
           92
          ],
          [
           4,
           4.6052,
           96
          ],
          [
           6.24,
           5.4337,
           99
          ],
          [
           3,
           4.1109,
           84
          ],
          [
           5,
           4.7958,
           89
          ],
          [
           5,
           4.8203,
           91
          ],
          [
           4,
           4.3567,
           76
          ],
          [
           6,
           4.8122,
           89
          ],
          [
           4,
           4.8122,
           105
          ],
          [
           4,
           5.0499,
           99
          ],
          [
           5,
           5.3799,
           87
          ],
          [
           7,
           5.1591,
           82
          ],
          [
           2,
           3.6889,
           66
          ],
          [
           4,
           4.625,
           89
          ],
          [
           4,
           4.4188,
           85
          ],
          [
           5,
           4.8978,
           90
          ],
          [
           3,
           4.7536,
           89
          ],
          [
           3,
           4.3175,
           77
          ],
          [
           6,
           5.0752,
           96
          ],
          [
           3,
           4.6634,
           97
          ],
          [
           5,
           4.7274,
           97
          ],
          [
           4,
           4.2767,
           94
          ],
          [
           5,
           4.7875,
           100
          ],
          [
           3,
           3.8286,
           77
          ],
          [
           3.68,
           5.6276,
           93
          ],
          [
           3.49,
           4.3307,
           102
          ],
          [
           3,
           4.0604,
           98
          ],
          [
           5,
           5.5683,
           84
          ],
          [
           6,
           4.92,
           98
          ],
          [
           5,
           4.6634,
           110
          ],
          [
           4,
           5.3375,
           85
          ],
          [
           5,
           4.7449,
           92
          ],
          [
           3,
           5.1475,
           100
          ],
          [
           5,
           4.625,
           120
          ],
          [
           5,
           4.5109,
           88
          ],
          [
           3,
           4.2767,
           77
          ],
          [
           3,
           4.3944,
           86
          ],
          [
           3,
           4.6347,
           96
          ],
          [
           3,
           4.3944,
           93
          ],
          [
           2,
           4.2047,
           78
          ],
          [
           4,
           5.0434,
           117
          ],
          [
           8,
           5.1417,
           103
          ],
          [
           4,
           5.0106,
           102
          ],
          [
           5,
           4.7185,
           88
          ],
          [
           3,
           4.654,
           84
          ],
          [
           3,
           3.5264,
           75
          ],
          [
           4,
           4.654,
           82
          ],
          [
           3,
           4.654,
           96
          ],
          [
           3,
           4.4427,
           79
          ],
          [
           3,
           4.2485,
           89
          ],
          [
           5,
           5.3327,
           92
          ],
          [
           3,
           4.2047,
           78
          ],
          [
           2.7,
           4.2195,
           93
          ],
          [
           4,
           4.3438,
           79
          ],
          [
           3,
           4.382,
           94
          ],
          [
           6.02,
           5.193,
           108
          ],
          [
           4,
           4.7449,
           94
          ],
          [
           5.59,
           4.9053,
           99
          ],
          [
           3,
           4.3567,
           82
          ],
          [
           3.73,
           5.3471,
           105
          ],
          [
           4.42,
           4.585,
           103
          ],
          [
           5,
           5.0876,
           94
          ],
          [
           3.05,
           4.1109,
           91
          ],
          [
           6,
           4.7622,
           86
          ],
          [
           4,
           5.3660000000000005,
           103
          ],
          [
           5,
           5.0106,
           96
          ],
          [
           3.85,
           4.3175,
           105
          ],
          [
           3,
           3.7842,
           74
          ],
          [
           4,
           4.1589,
           81
          ],
          [
           3,
           4.1589,
           90
          ],
          [
           3,
           4.0943,
           60
          ],
          [
           3.8,
           5.1358,
           77
          ],
          [
           3,
           4.5218,
           69
          ],
          [
           7,
           5.3423,
           101
          ],
          [
           5,
           5.4116,
           93
          ],
          [
           4,
           5.4723,
           100
          ],
          [
           7,
           5.5683,
           101
          ],
          [
           5.45,
           4.5951,
           84
          ],
          [
           5,
           5.0239,
           108
          ],
          [
           6,
           5.9584,
           113
          ],
          [
           3,
           4.6052,
           93
          ],
          [
           5,
           4.9488,
           94
          ],
          [
           3,
           4.585,
           79
          ],
          [
           6.26,
           4.2341,
           105
          ],
          [
           4.21,
           4.1589,
           93
          ],
          [
           2,
           3.7612,
           87
          ],
          [
           2,
           4.4998,
           95
          ],
          [
           5,
           5.0239,
           92
          ],
          [
           3,
           3.8501,
           87
          ],
          [
           4,
           3.989,
           86
          ],
          [
           3.65,
           4.803999999999999,
           101
          ],
          [
           2,
           3.6889,
           92
          ],
          [
           5,
           4.8978,
           98
          ],
          [
           6,
           4.9628,
           109
          ],
          [
           2,
           4.5109,
           82
          ],
          [
           3,
           4.7362,
           95
          ],
          [
           4,
           4.4427,
           93
          ],
          [
           3.05,
           4.4427,
           69
          ],
          [
           6,
           5.8081,
           100
          ],
          [
           4,
           4.8122,
           95
          ],
          [
           4,
           4.7622,
           108
          ],
          [
           4,
           5.273,
           86
          ],
          [
           2,
           4.4067,
           95
          ],
          [
           5,
           4.654,
           99
          ],
          [
           3,
           4.4659,
           85
          ],
          [
           4,
           4.8203,
           87
          ],
          [
           4,
           4.9053,
           92
          ],
          [
           5,
           4.5433,
           98
          ],
          [
           3,
           3.8918,
           84
          ],
          [
           4,
           4.6728,
           78
          ],
          [
           7,
           5.2983,
           86
          ],
          [
           2,
           4.4308,
           90
          ],
          [
           5,
           4.9972,
           90
          ],
          [
           4,
           3.8712,
           87
          ],
          [
           6,
           5.3132,
           83
          ],
          [
           5,
           4.9698,
           102
          ],
          [
           4,
           5.2781,
           77
          ],
          [
           2.15,
           3.9512,
           82
          ],
          [
           4.08,
           4.0431,
           91
          ],
          [
           4,
           3.8286,
           83
          ],
          [
           3,
           4.8203,
           92
          ],
          [
           3,
           4.0254,
           77
          ],
          [
           3,
           3.9318,
           78
          ],
          [
           3,
           4.3041,
           88
          ],
          [
           4,
           4.3567,
           91
          ],
          [
           4.04,
           5.112,
           102
          ],
          [
           4,
           4.4067,
           100
          ],
          [
           4.31,
           4.9836,
           98
          ],
          [
           4,
           5.4510000000000005,
           86
          ],
          [
           6,
           4.3944,
           88
          ],
          [
           6,
           4.8363,
           75
          ],
          [
           3,
           4.2047,
           88
          ],
          [
           5,
           4.8978,
           111
          ],
          [
           2.19,
           3.9703,
           72
          ],
          [
           4,
           4.9345,
           111
          ],
          [
           4.09,
           4.4427,
           99
          ],
          [
           5.05,
           4.7791,
           97
          ],
          [
           3,
           4.2195,
           84
          ],
          [
           5,
           5.247000000000001,
           91
          ],
          [
           4,
           4.5109,
           82
          ],
          [
           3,
           4.5218,
           91
          ],
          [
           5,
           5.4638,
           101
          ],
          [
           4.96,
           4.9127,
           108
          ],
          [
           3,
           4.7449,
           99
          ],
          [
           3,
           4.9558,
           106
          ],
          [
           6,
           5.0039,
           92
          ],
          [
           7.9,
           5.7236,
           106
          ],
          [
           8.28,
           6.1048,
           111
          ],
          [
           7,
           6.0568,
           105
          ],
          [
           7,
           5.3660000000000005,
           96
          ],
          [
           6.37,
           5.5683,
           103
          ],
          [
           5,
           4.9698,
           98
          ],
          [
           4,
           4.6347,
           90
          ],
          [
           4,
           4.625,
           96
          ],
          [
           3,
           4.4543,
           102
          ],
          [
           6,
           4.382,
           95
          ],
          [
           4,
           4.1897,
           90
          ],
          [
           5,
           5.2679,
           100
          ],
          [
           5,
           4.9628,
           99
          ],
          [
           3,
           3.9512,
           78
          ],
          [
           3,
           4.0775,
           77
          ],
          [
           8,
           5.5294,
           104
          ],
          [
           5,
           4.7005,
           92
          ],
          [
           4,
           4.3944,
           77
          ],
          [
           4,
           5.118,
           95
          ],
          [
           3,
           4.2485,
           84
          ],
          [
           4,
           4.3694,
           87
          ],
          [
           4,
           4.382,
           97
          ],
          [
           3,
           4.0073,
           93
          ],
          [
           5,
           4.7185,
           84
          ],
          [
           5,
           4.6347,
           91
          ],
          [
           6,
           5.3279,
           95
          ],
          [
           4,
           4.6821,
           84
          ],
          [
           3,
           4.5218,
           91
          ],
          [
           5,
           3.9703,
           74
          ],
          [
           4,
           5.4116,
           124
          ],
          [
           3,
           4.0073,
           81
          ],
          [
           2,
           4.4188,
           82
          ],
          [
           5,
           6.0936,
           92
          ],
          [
           5,
           5.4553,
           106
          ],
          [
           4,
           4.2767,
           94
          ],
          [
           4,
           4.3307,
           73
          ],
          [
           4,
           5.1874,
           77
          ],
          [
           2.67,
           3.7377,
           80
          ],
          [
           5,
           4.803999999999999,
           106
          ],
          [
           4,
           4.7875,
           101
          ],
          [
           2,
           3.8501,
           97
          ],
          [
           4,
           4.6821,
           101
          ],
          [
           4.84,
           4.852,
           94
          ],
          [
           5,
           4.803999999999999,
           115
          ],
          [
           4,
           4.9836,
           115
          ],
          [
           6,
           5.4205,
           103
          ],
          [
           5,
           5.0106,
           99
          ],
          [
           5,
           5.5797,
           111
          ],
          [
           4.5,
           4.585,
           98
          ],
          [
           3,
           3.9703,
           73
          ],
          [
           5,
           5.9506,
           87
          ],
          [
           4,
           4.5218,
           86
          ],
          [
           3,
           4.1744,
           91
          ],
          [
           3,
           4.6347,
           72
          ],
          [
           4,
           4.9488,
           96
          ],
          [
           6.42,
           5.1475,
           91
          ],
          [
           6,
           4.7449,
           76
          ],
          [
           5,
           4.8903,
           82
          ],
          [
           2,
           4.1271,
           97
          ],
          [
           3.15,
           4.0775,
           85
          ],
          [
           4,
           4.4998,
           78
          ],
          [
           4,
           5.7838,
           100
          ],
          [
           3,
           4.4427,
           93
          ],
          [
           4,
           4.9053,
           82
          ],
          [
           3,
           4.3567,
           88
          ],
          [
           3,
           4.3041,
           92
          ],
          [
           4,
           3.4965,
           73
          ],
          [
           4,
           4.9345,
           82
          ],
          [
           3,
           4.1897,
           70
          ],
          [
           5,
           5.7746,
           109
          ],
          [
           3,
           3.6636,
           79
          ],
          [
           4,
           4.1897,
           107
          ],
          [
           3,
           4.2047,
           86
          ],
          [
           6,
           6.0684,
           93
          ],
          [
           4,
           4.9904,
           78
          ],
          [
           3,
           3.5835,
           83
          ],
          [
           3.37,
           5.037,
           97
          ],
          [
           4,
           5.1358,
           75
          ],
          [
           4,
           5.0752,
           96
          ],
          [
           3,
           4.2627,
           89
          ],
          [
           2,
           4.1744,
           101
          ],
          [
           6,
           4.8122,
           102
          ],
          [
           4,
           5.3181,
           101
          ],
          [
           3,
           4.3438,
           89
          ],
          [
           4,
           5.0434,
           84
          ],
          [
           3,
           4.0254,
           58
          ],
          [
           4.64,
           4.1109,
           96
          ],
          [
           4.71,
           5.2781,
           101
          ],
          [
           6,
           4.9767,
           90
          ],
          [
           5,
           5.3660000000000005,
           81
          ],
          [
           2,
           4.0775,
           85
          ],
          [
           4,
           4.7095,
           112
          ],
          [
           3,
           4.2485,
           96
          ],
          [
           6.56,
           5.2417,
           93
          ],
          [
           6,
           4.803999999999999,
           92
          ],
          [
           4.16,
           4.3175,
           100
          ],
          [
           3.49,
           4.1271,
           92
          ],
          [
           4,
           4.4067,
           93
          ],
          [
           3,
           3.8286,
           90
          ],
          [
           5,
           4.2767,
           106
          ],
          [
           6,
           5.1874,
           95
          ],
          [
           4,
           5.0876,
           89
          ],
          [
           7,
           4.8122,
           80
          ],
          [
           5,
           4.9053,
           97
          ],
          [
           2,
           4.4188,
           79
          ],
          [
           5.63,
           5.0304,
           112
          ],
          [
           3,
           4.1431,
           99
          ],
          [
           5,
           5.3660000000000005,
           123
          ],
          [
           3.4,
           4.3567,
           82
          ],
          [
           5,
           4.5326,
           87
          ],
          [
           3,
           4.4773,
           91
          ],
          [
           4.7,
           5.2523,
           117
          ],
          [
           3,
           4.0775,
           89
          ],
          [
           3,
           4.1431,
           99
          ],
          [
           4,
           4.2195,
           82
          ],
          [
           2,
           3.9703,
           80
          ],
          [
           4,
           4.9836,
           93
          ],
          [
           5,
           4.4427,
           102
          ],
          [
           3.77,
           4.1271,
           95
          ],
          [
           4.79,
           5.1299,
           85
          ],
          [
           3,
           4.5951,
           92
          ]
         ],
         "hovertemplate": "age=%{x}<br>bmi=%{y}<br>s4=%{customdata[0]}<br>s5=%{customdata[1]}<br>s6=%{customdata[2]}<extra></extra>",
         "legendgroup": "",
         "marker": {
          "color": "#636efa",
          "symbol": "circle"
         },
         "mode": "markers",
         "name": "",
         "orientation": "v",
         "showlegend": false,
         "type": "scatter",
         "x": [
          59,
          48,
          72,
          24,
          50,
          23,
          36,
          66,
          60,
          29,
          22,
          56,
          53,
          50,
          61,
          34,
          47,
          68,
          38,
          41,
          35,
          25,
          25,
          61,
          31,
          30,
          19,
          42,
          63,
          67,
          32,
          42,
          58,
          57,
          53,
          62,
          52,
          46,
          48,
          48,
          50,
          21,
          32,
          54,
          61,
          56,
          33,
          27,
          67,
          37,
          58,
          65,
          34,
          46,
          35,
          37,
          37,
          41,
          60,
          66,
          29,
          37,
          41,
          39,
          67,
          36,
          46,
          60,
          59,
          53,
          48,
          48,
          66,
          52,
          52,
          46,
          40,
          22,
          50,
          20,
          68,
          52,
          44,
          38,
          49,
          61,
          29,
          61,
          34,
          36,
          52,
          61,
          43,
          35,
          27,
          29,
          64,
          41,
          49,
          48,
          53,
          53,
          23,
          65,
          41,
          55,
          22,
          56,
          54,
          59,
          60,
          54,
          25,
          54,
          55,
          40,
          62,
          65,
          33,
          53,
          35,
          66,
          62,
          50,
          47,
          47,
          24,
          58,
          34,
          51,
          31,
          22,
          53,
          37,
          28,
          47,
          23,
          50,
          58,
          55,
          60,
          41,
          60,
          40,
          57,
          37,
          40,
          33,
          32,
          35,
          55,
          49,
          39,
          60,
          67,
          41,
          44,
          48,
          45,
          47,
          46,
          36,
          34,
          53,
          61,
          37,
          33,
          68,
          49,
          48,
          55,
          43,
          60,
          31,
          53,
          67,
          61,
          62,
          60,
          42,
          38,
          62,
          61,
          61,
          53,
          28,
          26,
          30,
          50,
          48,
          51,
          47,
          64,
          51,
          30,
          56,
          42,
          62,
          34,
          60,
          64,
          39,
          71,
          48,
          79,
          40,
          49,
          51,
          57,
          59,
          51,
          74,
          67,
          49,
          57,
          56,
          52,
          69,
          37,
          24,
          55,
          36,
          42,
          21,
          41,
          57,
          20,
          67,
          34,
          41,
          38,
          51,
          52,
          67,
          61,
          67,
          56,
          64,
          58,
          55,
          62,
          57,
          20,
          53,
          32,
          41,
          60,
          26,
          37,
          45,
          67,
          34,
          50,
          71,
          57,
          49,
          35,
          41,
          70,
          52,
          60,
          62,
          44,
          28,
          58,
          39,
          34,
          65,
          66,
          51,
          50,
          59,
          52,
          69,
          53,
          47,
          52,
          39,
          67,
          59,
          51,
          23,
          68,
          44,
          60,
          52,
          38,
          61,
          68,
          28,
          65,
          69,
          51,
          29,
          55,
          34,
          67,
          49,
          55,
          59,
          53,
          48,
          52,
          69,
          60,
          46,
          51,
          67,
          49,
          46,
          47,
          75,
          28,
          65,
          42,
          51,
          53,
          54,
          73,
          54,
          42,
          75,
          55,
          68,
          57,
          48,
          61,
          69,
          38,
          45,
          51,
          71,
          57,
          56,
          32,
          50,
          43,
          54,
          31,
          56,
          44,
          57,
          64,
          43,
          19,
          71,
          50,
          59,
          57,
          49,
          41,
          25,
          52,
          34,
          42,
          28,
          47,
          32,
          43,
          59,
          53,
          60,
          54,
          35,
          49,
          58,
          36,
          46,
          44,
          46,
          54,
          63,
          41,
          28,
          19,
          61,
          48,
          54,
          53,
          48,
          53,
          29,
          62,
          50,
          58,
          55,
          54,
          36,
          63,
          47,
          51,
          42,
          37,
          28,
          58,
          32,
          25,
          63,
          52,
          65,
          42,
          53,
          79,
          43,
          44,
          62,
          33,
          56,
          66,
          34,
          46,
          50,
          69,
          34,
          71,
          47,
          41,
          34,
          51,
          43,
          55,
          59,
          27,
          51,
          49,
          27,
          57,
          39,
          62,
          37,
          46,
          68,
          51,
          41,
          53,
          45,
          33,
          60,
          47,
          60,
          36,
          36
         ],
         "xaxis": "x",
         "y": [
          32.1,
          21.6,
          30.5,
          25.3,
          23,
          22.6,
          22,
          26.2,
          32.1,
          30,
          18.6,
          28,
          23.7,
          26.2,
          24,
          24.7,
          30.3,
          27.5,
          25.4,
          24.7,
          21.1,
          24.3,
          26,
          32,
          29.7,
          25.2,
          19.2,
          31.9,
          24.4,
          25.8,
          30.5,
          20.3,
          38,
          21.7,
          20.5,
          23.5,
          28.5,
          27.4,
          33,
          27.7,
          25.6,
          20.1,
          25.4,
          24.2,
          32.7,
          23.1,
          25.3,
          19.6,
          22.5,
          27.7,
          25.7,
          27.9,
          25.5,
          24.9,
          28.7,
          21.8,
          30.2,
          20.5,
          20.4,
          24,
          26,
          26.8,
          25.7,
          22.9,
          24,
          24.1,
          24.7,
          25,
          23.6,
          22.1,
          19.9,
          29.5,
          26,
          24.5,
          26.6,
          23.5,
          29,
          23,
          21,
          22.9,
          27.5,
          24.3,
          23.1,
          27.3,
          22.7,
          33,
          19.4,
          25.8,
          22.6,
          21.9,
          24,
          31.2,
          26.8,
          20.4,
          24.8,
          21,
          27.3,
          34.6,
          25.9,
          20.4,
          28,
          22.2,
          29,
          30.2,
          32.4,
          23.4,
          19.3,
          31,
          30.6,
          25.5,
          23.4,
          26.8,
          28.3,
          27.7,
          36.6,
          26.5,
          31.8,
          24.4,
          25.4,
          22,
          26.8,
          28,
          33.9,
          29.6,
          28.6,
          25.6,
          20.7,
          26.2,
          20.6,
          27.9,
          35.3,
          19.9,
          24.4,
          21.4,
          30.4,
          31.6,
          18.8,
          31,
          36.7,
          32.1,
          27.7,
          30.8,
          27.5,
          26.9,
          30.7,
          38.3,
          31.9,
          35,
          27.8,
          25.9,
          32.9,
          26,
          26.3,
          22.3,
          28.3,
          32,
          25.4,
          23.3,
          20.3,
          30.4,
          20.6,
          32.3,
          29.2,
          33.1,
          24.6,
          20.2,
          20.8,
          32.8,
          31.9,
          23.9,
          24.5,
          22.1,
          33,
          19,
          27.3,
          22.8,
          28.2,
          28.9,
          25.6,
          24.9,
          26.8,
          22.4,
          26.9,
          23.1,
          28.6,
          24.7,
          30.3,
          21.3,
          26.1,
          20.2,
          25.2,
          22.5,
          23.5,
          25.9,
          20.9,
          28.7,
          22.1,
          26.7,
          31.4,
          22.2,
          21,
          21.2,
          26.5,
          29.2,
          27,
          30.7,
          28.8,
          30.6,
          30.1,
          24.7,
          27.7,
          29.8,
          26.7,
          19.8,
          23.3,
          35.1,
          29.7,
          29.3,
          20.3,
          22.5,
          22.7,
          22.8,
          24,
          24.2,
          20.2,
          29.4,
          22.1,
          23.6,
          25.2,
          24.9,
          33,
          23.5,
          26.4,
          29.8,
          30,
          25,
          27,
          20,
          25.5,
          28.2,
          33.3,
          25.6,
          24.2,
          22.1,
          31.4,
          23.1,
          23.4,
          18.8,
          30.8,
          32,
          31.6,
          35.5,
          31.9,
          29.5,
          31.6,
          20.3,
          41.3,
          21.2,
          24.1,
          23,
          25.6,
          22.5,
          38.2,
          19.2,
          29,
          24,
          20.6,
          26.3,
          34.6,
          23.4,
          29.2,
          27.2,
          27,
          24.5,
          24.1,
          25.3,
          28.8,
          20.9,
          23,
          24.1,
          28.1,
          18,
          25.9,
          21.5,
          24.3,
          24.5,
          21.3,
          25.8,
          24.8,
          31.5,
          33.5,
          28.1,
          24.3,
          35,
          23.5,
          30,
          20.7,
          25.6,
          22.9,
          25.1,
          33.2,
          24.1,
          29.5,
          29.6,
          22.8,
          22.7,
          26.2,
          23.5,
          22.1,
          26.5,
          32.4,
          30.1,
          24.2,
          31.3,
          30.1,
          24.5,
          27.7,
          23.2,
          27,
          26.8,
          29.2,
          31.2,
          32.1,
          25.7,
          26.9,
          31.4,
          25.6,
          37,
          32.6,
          21.2,
          29.2,
          24,
          36.1,
          25.8,
          22,
          21.9,
          34.3,
          25.2,
          23.3,
          25.7,
          25.1,
          31.9,
          28.4,
          28.1,
          25.3,
          26.1,
          28,
          23.6,
          24.5,
          21,
          32,
          22.6,
          19.7,
          21.2,
          30.6,
          25.5,
          23.3,
          31,
          18.5,
          26.9,
          28.3,
          25.7,
          36.1,
          24.1,
          25.8,
          22.8,
          39.1,
          42.2,
          26.6,
          29.9,
          21,
          25.5,
          24.2,
          25.4,
          23.2,
          26.1,
          32.7,
          27.3,
          26.6,
          22.8,
          28.8,
          18.1,
          32,
          23.7,
          23.6,
          24.6,
          22.6,
          27.8,
          24.1,
          26.5,
          32.8,
          19.9,
          23.6,
          22.1,
          28.1,
          26.5,
          23.5,
          26,
          27.8,
          28.5,
          30.6,
          22.2,
          23.3,
          35.4,
          31.4,
          37.8,
          18.9,
          35,
          21.7,
          25.3,
          23.8,
          31.8,
          34.3,
          26.3,
          27,
          27.2,
          33.8,
          33,
          24.1,
          21.3,
          23,
          27.9,
          33.6,
          22.7,
          27.4,
          22.6,
          23.2,
          26.9,
          34.6,
          23.3,
          21.1,
          23.5,
          31.5,
          20.8,
          26.5,
          24.2,
          19.5,
          28.2,
          24.9,
          24.9,
          30,
          19.6
         ],
         "yaxis": "y"
        }
       ],
       "layout": {
        "legend": {
         "tracegroupgap": 0
        },
        "margin": {
         "t": 60
        },
        "template": {
         "data": {
          "bar": [
           {
            "error_x": {
             "color": "rgb(36,36,36)"
            },
            "error_y": {
             "color": "rgb(36,36,36)"
            },
            "marker": {
             "line": {
              "color": "white",
              "width": 0.5
             },
             "pattern": {
              "fillmode": "overlay",
              "size": 10,
              "solidity": 0.2
             }
            },
            "type": "bar"
           }
          ],
          "barpolar": [
           {
            "marker": {
             "line": {
              "color": "white",
              "width": 0.5
             },
             "pattern": {
              "fillmode": "overlay",
              "size": 10,
              "solidity": 0.2
             }
            },
            "type": "barpolar"
           }
          ],
          "carpet": [
           {
            "aaxis": {
             "endlinecolor": "rgb(36,36,36)",
             "gridcolor": "white",
             "linecolor": "white",
             "minorgridcolor": "white",
             "startlinecolor": "rgb(36,36,36)"
            },
            "baxis": {
             "endlinecolor": "rgb(36,36,36)",
             "gridcolor": "white",
             "linecolor": "white",
             "minorgridcolor": "white",
             "startlinecolor": "rgb(36,36,36)"
            },
            "type": "carpet"
           }
          ],
          "choropleth": [
           {
            "colorbar": {
             "outlinewidth": 1,
             "tickcolor": "rgb(36,36,36)",
             "ticks": "outside"
            },
            "type": "choropleth"
           }
          ],
          "contour": [
           {
            "colorbar": {
             "outlinewidth": 1,
             "tickcolor": "rgb(36,36,36)",
             "ticks": "outside"
            },
            "colorscale": [
             [
              0,
              "#440154"
             ],
             [
              0.1111111111111111,
              "#482878"
             ],
             [
              0.2222222222222222,
              "#3e4989"
             ],
             [
              0.3333333333333333,
              "#31688e"
             ],
             [
              0.4444444444444444,
              "#26828e"
             ],
             [
              0.5555555555555556,
              "#1f9e89"
             ],
             [
              0.6666666666666666,
              "#35b779"
             ],
             [
              0.7777777777777778,
              "#6ece58"
             ],
             [
              0.8888888888888888,
              "#b5de2b"
             ],
             [
              1,
              "#fde725"
             ]
            ],
            "type": "contour"
           }
          ],
          "contourcarpet": [
           {
            "colorbar": {
             "outlinewidth": 1,
             "tickcolor": "rgb(36,36,36)",
             "ticks": "outside"
            },
            "type": "contourcarpet"
           }
          ],
          "heatmap": [
           {
            "colorbar": {
             "outlinewidth": 1,
             "tickcolor": "rgb(36,36,36)",
             "ticks": "outside"
            },
            "colorscale": [
             [
              0,
              "#440154"
             ],
             [
              0.1111111111111111,
              "#482878"
             ],
             [
              0.2222222222222222,
              "#3e4989"
             ],
             [
              0.3333333333333333,
              "#31688e"
             ],
             [
              0.4444444444444444,
              "#26828e"
             ],
             [
              0.5555555555555556,
              "#1f9e89"
             ],
             [
              0.6666666666666666,
              "#35b779"
             ],
             [
              0.7777777777777778,
              "#6ece58"
             ],
             [
              0.8888888888888888,
              "#b5de2b"
             ],
             [
              1,
              "#fde725"
             ]
            ],
            "type": "heatmap"
           }
          ],
          "heatmapgl": [
           {
            "colorbar": {
             "outlinewidth": 1,
             "tickcolor": "rgb(36,36,36)",
             "ticks": "outside"
            },
            "colorscale": [
             [
              0,
              "#440154"
             ],
             [
              0.1111111111111111,
              "#482878"
             ],
             [
              0.2222222222222222,
              "#3e4989"
             ],
             [
              0.3333333333333333,
              "#31688e"
             ],
             [
              0.4444444444444444,
              "#26828e"
             ],
             [
              0.5555555555555556,
              "#1f9e89"
             ],
             [
              0.6666666666666666,
              "#35b779"
             ],
             [
              0.7777777777777778,
              "#6ece58"
             ],
             [
              0.8888888888888888,
              "#b5de2b"
             ],
             [
              1,
              "#fde725"
             ]
            ],
            "type": "heatmapgl"
           }
          ],
          "histogram": [
           {
            "marker": {
             "line": {
              "color": "white",
              "width": 0.6
             },
             "pattern": {
              "fillmode": "overlay",
              "size": 10,
              "solidity": 0.2
             }
            },
            "type": "histogram"
           }
          ],
          "histogram2d": [
           {
            "colorbar": {
             "outlinewidth": 1,
             "tickcolor": "rgb(36,36,36)",
             "ticks": "outside"
            },
            "colorscale": [
             [
              0,
              "#440154"
             ],
             [
              0.1111111111111111,
              "#482878"
             ],
             [
              0.2222222222222222,
              "#3e4989"
             ],
             [
              0.3333333333333333,
              "#31688e"
             ],
             [
              0.4444444444444444,
              "#26828e"
             ],
             [
              0.5555555555555556,
              "#1f9e89"
             ],
             [
              0.6666666666666666,
              "#35b779"
             ],
             [
              0.7777777777777778,
              "#6ece58"
             ],
             [
              0.8888888888888888,
              "#b5de2b"
             ],
             [
              1,
              "#fde725"
             ]
            ],
            "type": "histogram2d"
           }
          ],
          "histogram2dcontour": [
           {
            "colorbar": {
             "outlinewidth": 1,
             "tickcolor": "rgb(36,36,36)",
             "ticks": "outside"
            },
            "colorscale": [
             [
              0,
              "#440154"
             ],
             [
              0.1111111111111111,
              "#482878"
             ],
             [
              0.2222222222222222,
              "#3e4989"
             ],
             [
              0.3333333333333333,
              "#31688e"
             ],
             [
              0.4444444444444444,
              "#26828e"
             ],
             [
              0.5555555555555556,
              "#1f9e89"
             ],
             [
              0.6666666666666666,
              "#35b779"
             ],
             [
              0.7777777777777778,
              "#6ece58"
             ],
             [
              0.8888888888888888,
              "#b5de2b"
             ],
             [
              1,
              "#fde725"
             ]
            ],
            "type": "histogram2dcontour"
           }
          ],
          "mesh3d": [
           {
            "colorbar": {
             "outlinewidth": 1,
             "tickcolor": "rgb(36,36,36)",
             "ticks": "outside"
            },
            "type": "mesh3d"
           }
          ],
          "parcoords": [
           {
            "line": {
             "colorbar": {
              "outlinewidth": 1,
              "tickcolor": "rgb(36,36,36)",
              "ticks": "outside"
             }
            },
            "type": "parcoords"
           }
          ],
          "pie": [
           {
            "automargin": true,
            "type": "pie"
           }
          ],
          "scatter": [
           {
            "fillpattern": {
             "fillmode": "overlay",
             "size": 10,
             "solidity": 0.2
            },
            "type": "scatter"
           }
          ],
          "scatter3d": [
           {
            "line": {
             "colorbar": {
              "outlinewidth": 1,
              "tickcolor": "rgb(36,36,36)",
              "ticks": "outside"
             }
            },
            "marker": {
             "colorbar": {
              "outlinewidth": 1,
              "tickcolor": "rgb(36,36,36)",
              "ticks": "outside"
             }
            },
            "type": "scatter3d"
           }
          ],
          "scattercarpet": [
           {
            "marker": {
             "colorbar": {
              "outlinewidth": 1,
              "tickcolor": "rgb(36,36,36)",
              "ticks": "outside"
             }
            },
            "type": "scattercarpet"
           }
          ],
          "scattergeo": [
           {
            "marker": {
             "colorbar": {
              "outlinewidth": 1,
              "tickcolor": "rgb(36,36,36)",
              "ticks": "outside"
             }
            },
            "type": "scattergeo"
           }
          ],
          "scattergl": [
           {
            "marker": {
             "colorbar": {
              "outlinewidth": 1,
              "tickcolor": "rgb(36,36,36)",
              "ticks": "outside"
             }
            },
            "type": "scattergl"
           }
          ],
          "scattermapbox": [
           {
            "marker": {
             "colorbar": {
              "outlinewidth": 1,
              "tickcolor": "rgb(36,36,36)",
              "ticks": "outside"
             }
            },
            "type": "scattermapbox"
           }
          ],
          "scatterpolar": [
           {
            "marker": {
             "colorbar": {
              "outlinewidth": 1,
              "tickcolor": "rgb(36,36,36)",
              "ticks": "outside"
             }
            },
            "type": "scatterpolar"
           }
          ],
          "scatterpolargl": [
           {
            "marker": {
             "colorbar": {
              "outlinewidth": 1,
              "tickcolor": "rgb(36,36,36)",
              "ticks": "outside"
             }
            },
            "type": "scatterpolargl"
           }
          ],
          "scatterternary": [
           {
            "marker": {
             "colorbar": {
              "outlinewidth": 1,
              "tickcolor": "rgb(36,36,36)",
              "ticks": "outside"
             }
            },
            "type": "scatterternary"
           }
          ],
          "surface": [
           {
            "colorbar": {
             "outlinewidth": 1,
             "tickcolor": "rgb(36,36,36)",
             "ticks": "outside"
            },
            "colorscale": [
             [
              0,
              "#440154"
             ],
             [
              0.1111111111111111,
              "#482878"
             ],
             [
              0.2222222222222222,
              "#3e4989"
             ],
             [
              0.3333333333333333,
              "#31688e"
             ],
             [
              0.4444444444444444,
              "#26828e"
             ],
             [
              0.5555555555555556,
              "#1f9e89"
             ],
             [
              0.6666666666666666,
              "#35b779"
             ],
             [
              0.7777777777777778,
              "#6ece58"
             ],
             [
              0.8888888888888888,
              "#b5de2b"
             ],
             [
              1,
              "#fde725"
             ]
            ],
            "type": "surface"
           }
          ],
          "table": [
           {
            "cells": {
             "fill": {
              "color": "rgb(237,237,237)"
             },
             "line": {
              "color": "white"
             }
            },
            "header": {
             "fill": {
              "color": "rgb(217,217,217)"
             },
             "line": {
              "color": "white"
             }
            },
            "type": "table"
           }
          ]
         },
         "layout": {
          "annotationdefaults": {
           "arrowcolor": "#2a3f5f",
           "arrowhead": 0,
           "arrowwidth": 1
          },
          "autotypenumbers": "strict",
          "coloraxis": {
           "colorbar": {
            "outlinewidth": 1,
            "tickcolor": "rgb(36,36,36)",
            "ticks": "outside"
           }
          },
          "colorscale": {
           "diverging": [
            [
             0,
             "rgb(103,0,31)"
            ],
            [
             0.1,
             "rgb(178,24,43)"
            ],
            [
             0.2,
             "rgb(214,96,77)"
            ],
            [
             0.3,
             "rgb(244,165,130)"
            ],
            [
             0.4,
             "rgb(253,219,199)"
            ],
            [
             0.5,
             "rgb(247,247,247)"
            ],
            [
             0.6,
             "rgb(209,229,240)"
            ],
            [
             0.7,
             "rgb(146,197,222)"
            ],
            [
             0.8,
             "rgb(67,147,195)"
            ],
            [
             0.9,
             "rgb(33,102,172)"
            ],
            [
             1,
             "rgb(5,48,97)"
            ]
           ],
           "sequential": [
            [
             0,
             "#440154"
            ],
            [
             0.1111111111111111,
             "#482878"
            ],
            [
             0.2222222222222222,
             "#3e4989"
            ],
            [
             0.3333333333333333,
             "#31688e"
            ],
            [
             0.4444444444444444,
             "#26828e"
            ],
            [
             0.5555555555555556,
             "#1f9e89"
            ],
            [
             0.6666666666666666,
             "#35b779"
            ],
            [
             0.7777777777777778,
             "#6ece58"
            ],
            [
             0.8888888888888888,
             "#b5de2b"
            ],
            [
             1,
             "#fde725"
            ]
           ],
           "sequentialminus": [
            [
             0,
             "#440154"
            ],
            [
             0.1111111111111111,
             "#482878"
            ],
            [
             0.2222222222222222,
             "#3e4989"
            ],
            [
             0.3333333333333333,
             "#31688e"
            ],
            [
             0.4444444444444444,
             "#26828e"
            ],
            [
             0.5555555555555556,
             "#1f9e89"
            ],
            [
             0.6666666666666666,
             "#35b779"
            ],
            [
             0.7777777777777778,
             "#6ece58"
            ],
            [
             0.8888888888888888,
             "#b5de2b"
            ],
            [
             1,
             "#fde725"
            ]
           ]
          },
          "colorway": [
           "#1F77B4",
           "#FF7F0E",
           "#2CA02C",
           "#D62728",
           "#9467BD",
           "#8C564B",
           "#E377C2",
           "#7F7F7F",
           "#BCBD22",
           "#17BECF"
          ],
          "font": {
           "color": "rgb(36,36,36)"
          },
          "geo": {
           "bgcolor": "white",
           "lakecolor": "white",
           "landcolor": "white",
           "showlakes": true,
           "showland": true,
           "subunitcolor": "white"
          },
          "hoverlabel": {
           "align": "left"
          },
          "hovermode": "closest",
          "mapbox": {
           "style": "light"
          },
          "paper_bgcolor": "white",
          "plot_bgcolor": "white",
          "polar": {
           "angularaxis": {
            "gridcolor": "rgb(232,232,232)",
            "linecolor": "rgb(36,36,36)",
            "showgrid": false,
            "showline": true,
            "ticks": "outside"
           },
           "bgcolor": "white",
           "radialaxis": {
            "gridcolor": "rgb(232,232,232)",
            "linecolor": "rgb(36,36,36)",
            "showgrid": false,
            "showline": true,
            "ticks": "outside"
           }
          },
          "scene": {
           "xaxis": {
            "backgroundcolor": "white",
            "gridcolor": "rgb(232,232,232)",
            "gridwidth": 2,
            "linecolor": "rgb(36,36,36)",
            "showbackground": true,
            "showgrid": false,
            "showline": true,
            "ticks": "outside",
            "zeroline": false,
            "zerolinecolor": "rgb(36,36,36)"
           },
           "yaxis": {
            "backgroundcolor": "white",
            "gridcolor": "rgb(232,232,232)",
            "gridwidth": 2,
            "linecolor": "rgb(36,36,36)",
            "showbackground": true,
            "showgrid": false,
            "showline": true,
            "ticks": "outside",
            "zeroline": false,
            "zerolinecolor": "rgb(36,36,36)"
           },
           "zaxis": {
            "backgroundcolor": "white",
            "gridcolor": "rgb(232,232,232)",
            "gridwidth": 2,
            "linecolor": "rgb(36,36,36)",
            "showbackground": true,
            "showgrid": false,
            "showline": true,
            "ticks": "outside",
            "zeroline": false,
            "zerolinecolor": "rgb(36,36,36)"
           }
          },
          "shapedefaults": {
           "fillcolor": "black",
           "line": {
            "color": "#2a3f5f",
            "width": 0
           },
           "opacity": 0.3
          },
          "ternary": {
           "aaxis": {
            "gridcolor": "rgb(232,232,232)",
            "linecolor": "rgb(36,36,36)",
            "showgrid": false,
            "showline": true,
            "ticks": "outside"
           },
           "baxis": {
            "gridcolor": "rgb(232,232,232)",
            "linecolor": "rgb(36,36,36)",
            "showgrid": false,
            "showline": true,
            "ticks": "outside"
           },
           "bgcolor": "white",
           "caxis": {
            "gridcolor": "rgb(232,232,232)",
            "linecolor": "rgb(36,36,36)",
            "showgrid": false,
            "showline": true,
            "ticks": "outside"
           }
          },
          "title": {
           "x": 0.05
          },
          "xaxis": {
           "automargin": true,
           "gridcolor": "rgb(232,232,232)",
           "linecolor": "rgb(36,36,36)",
           "showgrid": false,
           "showline": true,
           "ticks": "outside",
           "title": {
            "standoff": 15
           },
           "zeroline": false,
           "zerolinecolor": "rgb(36,36,36)",
           "zerolinewidth": 2
          },
          "yaxis": {
           "automargin": true,
           "gridcolor": "rgb(232,232,232)",
           "linecolor": "rgb(36,36,36)",
           "showgrid": true,
           "showline": false,
           "ticks": "outside",
           "title": {
            "standoff": 15
           },
           "zeroline": false,
           "zerolinecolor": "rgb(36,36,36)",
           "zerolinewidth": 2
          }
         }
        },
        "title": {
         "text": "Diabetes dataset"
        },
        "xaxis": {
         "anchor": "y",
         "domain": [
          0,
          1
         ],
         "rangeslider": {
          "visible": true
         },
         "title": {
          "text": "age"
         }
        },
        "yaxis": {
         "anchor": "x",
         "domain": [
          0,
          1
         ],
         "title": {
          "text": "bmi"
         }
        }
       }
      }
     },
     "metadata": {},
     "output_type": "display_data"
    }
   ],
   "source": [
    "# Layoutを更新\n",
    "figure.update_layout(\n",
    "    xaxis={\n",
    "        'rangeslider': {\n",
    "            'visible': True     # x軸にレンジスライダーを表示\n",
    "        }\n",
    "    }\n",
    ")\n",
    "\n",
    "# figure.write_image('./figure/out_7_1_5.png', width=900, height=450, scale=2)\n",
    "figure"
   ]
  }
 ],
 "metadata": {
  "kernelspec": {
   "display_name": "pandas-plotly-handbook-XgTgJsv2",
   "language": "python",
   "name": "python3"
  },
  "language_info": {
   "codemirror_mode": {
    "name": "ipython",
    "version": 3
   },
   "file_extension": ".py",
   "mimetype": "text/x-python",
   "name": "python",
   "nbconvert_exporter": "python",
   "pygments_lexer": "ipython3",
   "version": "3.9.4"
  },
  "orig_nbformat": 4
 },
 "nbformat": 4,
 "nbformat_minor": 2
}
