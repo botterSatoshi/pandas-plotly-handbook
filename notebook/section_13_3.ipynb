{
 "cells": [
  {
   "attachments": {},
   "cell_type": "markdown",
   "metadata": {},
   "source": [
    "## 13.3 時間と空間を表現するグラフ"
   ]
  },
  {
   "cell_type": "code",
   "execution_count": null,
   "metadata": {},
   "outputs": [],
   "source": [
    "import pandas as pd\n",
    "import json\n",
    "from plotly import express as px\n",
    "from plotly import graph_objects as go\n",
    "from plotly.graph_objs.layout import Template\n",
    "\n",
    "# 都道府県別新規陽性者数のDataFrameを読み込み\n",
    "df = pd.read_csv('newly_confirmed_cases_daily.csv', index_col=0, parse_dates=True)\n",
    "\n",
    "df.info()"
   ]
  },
  {
   "cell_type": "code",
   "execution_count": null,
   "metadata": {},
   "outputs": [],
   "source": [
    "df.index"
   ]
  },
  {
   "cell_type": "code",
   "execution_count": null,
   "metadata": {},
   "outputs": [],
   "source": [
    "# 都道府県のGeoJsonを読み込み\n",
    "with open('todofuken.geojson') as file:\n",
    "    geojson = json.load(file)"
   ]
  },
  {
   "cell_type": "code",
   "execution_count": null,
   "metadata": {},
   "outputs": [],
   "source": [
    "# 都道府県のローマ字と漢字のdictを作成\n",
    "todofuken_dict = {}\n",
    "for feature, todofuken in zip(geojson['features'], list(df.columns)[1:]):\n",
    "    todofuken_dict[todofuken] = feature['properties']['N03_001']\n",
    "\n",
    "todofuken_dict"
   ]
  },
  {
   "cell_type": "code",
   "execution_count": null,
   "metadata": {},
   "outputs": [],
   "source": [
    "# DataFrameの列名を漢字表記に変更\n",
    "df = df.rename(columns=todofuken_dict)\n",
    "df = df.iloc[:, 1:]     # 先頭列の「ALL」は除外する\n",
    "\n",
    "df.info()"
   ]
  },
  {
   "cell_type": "code",
   "execution_count": null,
   "metadata": {},
   "outputs": [],
   "source": [
    "# 新規陽性者数を年間合計\n",
    "df_year = df.resample('Y').sum()\n",
    "\n",
    "df_year.shape"
   ]
  },
  {
   "cell_type": "code",
   "execution_count": null,
   "metadata": {},
   "outputs": [],
   "source": [
    "# メルトするために行インデックスを列として追加\n",
    "df_year['Date'] = df_year.index\n",
    "\n",
    "# 年間新規陽性者数を縦に並べるようDataFrameをメルト\n",
    "df_melt = df_year.melt(id_vars=['Date'], var_name='都道府県', value_name='年間新規陽性者数')\n",
    "df_melt['Date'] = df_melt['Date'].astype(str)\n",
    "\n",
    "df_melt"
   ]
  },
  {
   "cell_type": "code",
   "execution_count": null,
   "metadata": {},
   "outputs": [],
   "source": [
    "# 年でグループ化\n",
    "gb = df_melt.groupby('Date')\n",
    "\n",
    "# Frameのlistを作成\n",
    "frames = []\n",
    "max_value = df_melt['年間新規陽性者数'].max()\n",
    "for group, df_subset in gb:\n",
    "    trace = go.Choropleth(\n",
    "        locations=df_subset['都道府県'],\n",
    "        z=df_subset['年間新規陽性者数'],\n",
    "        geojson=geojson,\n",
    "        featureidkey='properties.N03_001',\n",
    "        colorscale='Reds',\n",
    "        zmin=0,\n",
    "        zmax=max_value\n",
    "    )   # コロプレスマップ\n",
    "    frame = go.Frame(\n",
    "        data=trace,\n",
    "        name=group, \n",
    "        layout={\n",
    "            'title': {'text': f'新型コロナウイルス年間新規陽性者数 {group}'}\n",
    "        }\n",
    "    )\n",
    "    frames.append(frame)"
   ]
  },
  {
   "cell_type": "code",
   "execution_count": null,
   "metadata": {},
   "outputs": [],
   "source": [
    "# ステップを作成\n",
    "steps = []\n",
    "for date in list(gb.groups.keys()):\n",
    "    steps.append({\n",
    "        'args': [\n",
    "            [date],\n",
    "        ],\n",
    "        'label': date,\n",
    "        'method': 'animate'\n",
    "    })\n",
    "\n",
    "# スライダーを作成\n",
    "sliders = [{\n",
    "    'len': 0.95,    # スライダー長さ\n",
    "    'x': 0.05,      # スライダー左位置\n",
    "    'steps': steps\n",
    "}]\n",
    "\n",
    "# 再生ボタン\n",
    "play_button = {\n",
    "    'args': [\n",
    "        None,\n",
    "        {'fromcurrent': True}    # 現在位置から再生再開する\n",
    "    ],\n",
    "    'label': 'Play',\n",
    "    'method': 'animate'\n",
    "}\n",
    "\n",
    "# 一時停止ボタン\n",
    "pause_button = {\n",
    "    'args': [\n",
    "        [None],\n",
    "        {'mode': 'immediate'}   # 停止するために必要\n",
    "    ],\n",
    "    'label': 'Pause',\n",
    "    'method': 'animate'\n",
    "}\n",
    "\n",
    "# ボタンメニューを作成\n",
    "button_menu = {\n",
    "    'buttons': [play_button, pause_button],\n",
    "    'direction': 'left',    # 2つのボタンを並べる方向\n",
    "    'xanchor': 'left',      # xアンカー位置\n",
    "    'yanchor': 'top',       # yアンカー位置\n",
    "    'x': -0.1,              # x位置\n",
    "    'y': -0.15,             # y位置\n",
    "    'type': 'buttons'\n",
    "}"
   ]
  },
  {
   "cell_type": "code",
   "execution_count": null,
   "metadata": {},
   "outputs": [],
   "source": [
    "# 独自テンプレートを読み込む\n",
    "with open('custom_white.json') as f:\n",
    "    custom_white_dict = json.load(f)\n",
    "    template = Template(custom_white_dict, _validate=False)\n",
    "\n",
    "# Layoutを作成\n",
    "layout = go.Layout(\n",
    "    template=template,\n",
    "    margin={\n",
    "        'r': 20,\n",
    "        't': 30,\n",
    "        'l': 20,\n",
    "        'b': 30\n",
    "    },\n",
    "    geo={\n",
    "        'fitbounds': 'locations',\n",
    "        'visible': False,\n",
    "    },\n",
    "    updatemenus=[button_menu],\n",
    "    sliders=sliders,  \n",
    ")\n",
    "\n",
    "# Figureを作成\n",
    "figure = go.Figure(\n",
    "    data=frames[0]['data'],     # 最初に表示するグラフ\n",
    "    frames=frames,\n",
    "    layout=layout\n",
    ")\n",
    "\n",
    "# figure.write_image('./figure/out_13_3_1.png', width=900, height=450, scale=2)\n",
    "figure"
   ]
  }
 ],
 "metadata": {
  "kernelspec": {
   "display_name": "pandas-plotly-handbook-XgTgJsv2",
   "language": "python",
   "name": "python3"
  },
  "language_info": {
   "codemirror_mode": {
    "name": "ipython",
    "version": 3
   },
   "file_extension": ".py",
   "mimetype": "text/x-python",
   "name": "python",
   "nbconvert_exporter": "python",
   "pygments_lexer": "ipython3",
   "version": "3.9.4"
  },
  "orig_nbformat": 4
 },
 "nbformat": 4,
 "nbformat_minor": 2
}
