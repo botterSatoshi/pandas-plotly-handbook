{
 "cells": [
  {
   "attachments": {},
   "cell_type": "markdown",
   "metadata": {},
   "source": [
    "## 7.2 アニメーショングラフ"
   ]
  },
  {
   "cell_type": "code",
   "execution_count": 1,
   "metadata": {},
   "outputs": [
    {
     "data": {
      "text/html": [
       "<div>\n",
       "<style scoped>\n",
       "    .dataframe tbody tr th:only-of-type {\n",
       "        vertical-align: middle;\n",
       "    }\n",
       "\n",
       "    .dataframe tbody tr th {\n",
       "        vertical-align: top;\n",
       "    }\n",
       "\n",
       "    .dataframe thead th {\n",
       "        text-align: right;\n",
       "    }\n",
       "</style>\n",
       "<table border=\"1\" class=\"dataframe\">\n",
       "  <thead>\n",
       "    <tr style=\"text-align: right;\">\n",
       "      <th></th>\n",
       "      <th>age</th>\n",
       "      <th>sex</th>\n",
       "      <th>bmi</th>\n",
       "      <th>bp</th>\n",
       "      <th>s1</th>\n",
       "      <th>s2</th>\n",
       "      <th>s3</th>\n",
       "      <th>s4</th>\n",
       "      <th>s5</th>\n",
       "      <th>s6</th>\n",
       "      <th>target</th>\n",
       "    </tr>\n",
       "  </thead>\n",
       "  <tbody>\n",
       "    <tr>\n",
       "      <th>0</th>\n",
       "      <td>59.0</td>\n",
       "      <td>2.0</td>\n",
       "      <td>32.1</td>\n",
       "      <td>101.00</td>\n",
       "      <td>157.0</td>\n",
       "      <td>93.2</td>\n",
       "      <td>38.0</td>\n",
       "      <td>4.00</td>\n",
       "      <td>4.8598</td>\n",
       "      <td>87.0</td>\n",
       "      <td>151.0</td>\n",
       "    </tr>\n",
       "    <tr>\n",
       "      <th>1</th>\n",
       "      <td>48.0</td>\n",
       "      <td>1.0</td>\n",
       "      <td>21.6</td>\n",
       "      <td>87.00</td>\n",
       "      <td>183.0</td>\n",
       "      <td>103.2</td>\n",
       "      <td>70.0</td>\n",
       "      <td>3.00</td>\n",
       "      <td>3.8918</td>\n",
       "      <td>69.0</td>\n",
       "      <td>75.0</td>\n",
       "    </tr>\n",
       "    <tr>\n",
       "      <th>2</th>\n",
       "      <td>72.0</td>\n",
       "      <td>2.0</td>\n",
       "      <td>30.5</td>\n",
       "      <td>93.00</td>\n",
       "      <td>156.0</td>\n",
       "      <td>93.6</td>\n",
       "      <td>41.0</td>\n",
       "      <td>4.00</td>\n",
       "      <td>4.6728</td>\n",
       "      <td>85.0</td>\n",
       "      <td>141.0</td>\n",
       "    </tr>\n",
       "    <tr>\n",
       "      <th>3</th>\n",
       "      <td>24.0</td>\n",
       "      <td>1.0</td>\n",
       "      <td>25.3</td>\n",
       "      <td>84.00</td>\n",
       "      <td>198.0</td>\n",
       "      <td>131.4</td>\n",
       "      <td>40.0</td>\n",
       "      <td>5.00</td>\n",
       "      <td>4.8903</td>\n",
       "      <td>89.0</td>\n",
       "      <td>206.0</td>\n",
       "    </tr>\n",
       "    <tr>\n",
       "      <th>4</th>\n",
       "      <td>50.0</td>\n",
       "      <td>1.0</td>\n",
       "      <td>23.0</td>\n",
       "      <td>101.00</td>\n",
       "      <td>192.0</td>\n",
       "      <td>125.4</td>\n",
       "      <td>52.0</td>\n",
       "      <td>4.00</td>\n",
       "      <td>4.2905</td>\n",
       "      <td>80.0</td>\n",
       "      <td>135.0</td>\n",
       "    </tr>\n",
       "    <tr>\n",
       "      <th>...</th>\n",
       "      <td>...</td>\n",
       "      <td>...</td>\n",
       "      <td>...</td>\n",
       "      <td>...</td>\n",
       "      <td>...</td>\n",
       "      <td>...</td>\n",
       "      <td>...</td>\n",
       "      <td>...</td>\n",
       "      <td>...</td>\n",
       "      <td>...</td>\n",
       "      <td>...</td>\n",
       "    </tr>\n",
       "    <tr>\n",
       "      <th>437</th>\n",
       "      <td>60.0</td>\n",
       "      <td>2.0</td>\n",
       "      <td>28.2</td>\n",
       "      <td>112.00</td>\n",
       "      <td>185.0</td>\n",
       "      <td>113.8</td>\n",
       "      <td>42.0</td>\n",
       "      <td>4.00</td>\n",
       "      <td>4.9836</td>\n",
       "      <td>93.0</td>\n",
       "      <td>178.0</td>\n",
       "    </tr>\n",
       "    <tr>\n",
       "      <th>438</th>\n",
       "      <td>47.0</td>\n",
       "      <td>2.0</td>\n",
       "      <td>24.9</td>\n",
       "      <td>75.00</td>\n",
       "      <td>225.0</td>\n",
       "      <td>166.0</td>\n",
       "      <td>42.0</td>\n",
       "      <td>5.00</td>\n",
       "      <td>4.4427</td>\n",
       "      <td>102.0</td>\n",
       "      <td>104.0</td>\n",
       "    </tr>\n",
       "    <tr>\n",
       "      <th>439</th>\n",
       "      <td>60.0</td>\n",
       "      <td>2.0</td>\n",
       "      <td>24.9</td>\n",
       "      <td>99.67</td>\n",
       "      <td>162.0</td>\n",
       "      <td>106.6</td>\n",
       "      <td>43.0</td>\n",
       "      <td>3.77</td>\n",
       "      <td>4.1271</td>\n",
       "      <td>95.0</td>\n",
       "      <td>132.0</td>\n",
       "    </tr>\n",
       "    <tr>\n",
       "      <th>440</th>\n",
       "      <td>36.0</td>\n",
       "      <td>1.0</td>\n",
       "      <td>30.0</td>\n",
       "      <td>95.00</td>\n",
       "      <td>201.0</td>\n",
       "      <td>125.2</td>\n",
       "      <td>42.0</td>\n",
       "      <td>4.79</td>\n",
       "      <td>5.1299</td>\n",
       "      <td>85.0</td>\n",
       "      <td>220.0</td>\n",
       "    </tr>\n",
       "    <tr>\n",
       "      <th>441</th>\n",
       "      <td>36.0</td>\n",
       "      <td>1.0</td>\n",
       "      <td>19.6</td>\n",
       "      <td>71.00</td>\n",
       "      <td>250.0</td>\n",
       "      <td>133.2</td>\n",
       "      <td>97.0</td>\n",
       "      <td>3.00</td>\n",
       "      <td>4.5951</td>\n",
       "      <td>92.0</td>\n",
       "      <td>57.0</td>\n",
       "    </tr>\n",
       "  </tbody>\n",
       "</table>\n",
       "<p>442 rows × 11 columns</p>\n",
       "</div>"
      ],
      "text/plain": [
       "      age  sex   bmi      bp     s1     s2    s3    s4      s5     s6  target\n",
       "0    59.0  2.0  32.1  101.00  157.0   93.2  38.0  4.00  4.8598   87.0   151.0\n",
       "1    48.0  1.0  21.6   87.00  183.0  103.2  70.0  3.00  3.8918   69.0    75.0\n",
       "2    72.0  2.0  30.5   93.00  156.0   93.6  41.0  4.00  4.6728   85.0   141.0\n",
       "3    24.0  1.0  25.3   84.00  198.0  131.4  40.0  5.00  4.8903   89.0   206.0\n",
       "4    50.0  1.0  23.0  101.00  192.0  125.4  52.0  4.00  4.2905   80.0   135.0\n",
       "..    ...  ...   ...     ...    ...    ...   ...   ...     ...    ...     ...\n",
       "437  60.0  2.0  28.2  112.00  185.0  113.8  42.0  4.00  4.9836   93.0   178.0\n",
       "438  47.0  2.0  24.9   75.00  225.0  166.0  42.0  5.00  4.4427  102.0   104.0\n",
       "439  60.0  2.0  24.9   99.67  162.0  106.6  43.0  3.77  4.1271   95.0   132.0\n",
       "440  36.0  1.0  30.0   95.00  201.0  125.2  42.0  4.79  5.1299   85.0   220.0\n",
       "441  36.0  1.0  19.6   71.00  250.0  133.2  97.0  3.00  4.5951   92.0    57.0\n",
       "\n",
       "[442 rows x 11 columns]"
      ]
     },
     "execution_count": 1,
     "metadata": {},
     "output_type": "execute_result"
    }
   ],
   "source": [
    "import json\n",
    "import pandas as pd\n",
    "from sklearn.datasets import load_diabetes\n",
    "\n",
    "from plotly import graph_objects as go\n",
    "from plotly import express as px\n",
    "from plotly.graph_objs.layout import Template\n",
    "\n",
    "# DiabetesデータセットのDataFrameを読み込み\n",
    "df_X, df_y = load_diabetes(return_X_y=True, as_frame=True, scaled=False)\n",
    "df = pd.concat([df_X, df_y], axis=1)\n",
    "\n",
    "df"
   ]
  },
  {
   "cell_type": "code",
   "execution_count": 2,
   "metadata": {},
   "outputs": [
    {
     "data": {
      "text/html": [
       "<div>\n",
       "<style scoped>\n",
       "    .dataframe tbody tr th:only-of-type {\n",
       "        vertical-align: middle;\n",
       "    }\n",
       "\n",
       "    .dataframe tbody tr th {\n",
       "        vertical-align: top;\n",
       "    }\n",
       "\n",
       "    .dataframe thead th {\n",
       "        text-align: right;\n",
       "    }\n",
       "</style>\n",
       "<table border=\"1\" class=\"dataframe\">\n",
       "  <thead>\n",
       "    <tr style=\"text-align: right;\">\n",
       "      <th></th>\n",
       "      <th>age</th>\n",
       "      <th>sex</th>\n",
       "      <th>bmi</th>\n",
       "      <th>bp</th>\n",
       "      <th>s1</th>\n",
       "      <th>s2</th>\n",
       "      <th>s3</th>\n",
       "      <th>s4</th>\n",
       "      <th>s5</th>\n",
       "      <th>s6</th>\n",
       "      <th>target</th>\n",
       "      <th>generation</th>\n",
       "    </tr>\n",
       "  </thead>\n",
       "  <tbody>\n",
       "    <tr>\n",
       "      <th>26</th>\n",
       "      <td>19.0</td>\n",
       "      <td>1.0</td>\n",
       "      <td>19.2</td>\n",
       "      <td>87.00</td>\n",
       "      <td>124.0</td>\n",
       "      <td>54.0</td>\n",
       "      <td>57.0</td>\n",
       "      <td>2.00</td>\n",
       "      <td>4.1744</td>\n",
       "      <td>90.0</td>\n",
       "      <td>137.0</td>\n",
       "      <td>under20</td>\n",
       "    </tr>\n",
       "    <tr>\n",
       "      <th>374</th>\n",
       "      <td>19.0</td>\n",
       "      <td>1.0</td>\n",
       "      <td>23.2</td>\n",
       "      <td>75.00</td>\n",
       "      <td>143.0</td>\n",
       "      <td>70.4</td>\n",
       "      <td>52.0</td>\n",
       "      <td>3.00</td>\n",
       "      <td>4.6347</td>\n",
       "      <td>72.0</td>\n",
       "      <td>140.0</td>\n",
       "      <td>under20</td>\n",
       "    </tr>\n",
       "    <tr>\n",
       "      <th>344</th>\n",
       "      <td>19.0</td>\n",
       "      <td>1.0</td>\n",
       "      <td>25.3</td>\n",
       "      <td>83.00</td>\n",
       "      <td>225.0</td>\n",
       "      <td>156.6</td>\n",
       "      <td>46.0</td>\n",
       "      <td>5.00</td>\n",
       "      <td>4.7185</td>\n",
       "      <td>84.0</td>\n",
       "      <td>200.0</td>\n",
       "      <td>under20</td>\n",
       "    </tr>\n",
       "    <tr>\n",
       "      <th>79</th>\n",
       "      <td>20.0</td>\n",
       "      <td>1.0</td>\n",
       "      <td>22.9</td>\n",
       "      <td>87.00</td>\n",
       "      <td>191.0</td>\n",
       "      <td>128.2</td>\n",
       "      <td>53.0</td>\n",
       "      <td>4.00</td>\n",
       "      <td>3.8918</td>\n",
       "      <td>85.0</td>\n",
       "      <td>113.0</td>\n",
       "      <td>under40</td>\n",
       "    </tr>\n",
       "    <tr>\n",
       "      <th>226</th>\n",
       "      <td>20.0</td>\n",
       "      <td>2.0</td>\n",
       "      <td>22.1</td>\n",
       "      <td>87.00</td>\n",
       "      <td>171.0</td>\n",
       "      <td>99.6</td>\n",
       "      <td>58.0</td>\n",
       "      <td>3.00</td>\n",
       "      <td>4.2047</td>\n",
       "      <td>78.0</td>\n",
       "      <td>77.0</td>\n",
       "      <td>under40</td>\n",
       "    </tr>\n",
       "    <tr>\n",
       "      <th>...</th>\n",
       "      <td>...</td>\n",
       "      <td>...</td>\n",
       "      <td>...</td>\n",
       "      <td>...</td>\n",
       "      <td>...</td>\n",
       "      <td>...</td>\n",
       "      <td>...</td>\n",
       "      <td>...</td>\n",
       "      <td>...</td>\n",
       "      <td>...</td>\n",
       "      <td>...</td>\n",
       "      <td>...</td>\n",
       "    </tr>\n",
       "    <tr>\n",
       "      <th>211</th>\n",
       "      <td>74.0</td>\n",
       "      <td>1.0</td>\n",
       "      <td>29.8</td>\n",
       "      <td>101.00</td>\n",
       "      <td>171.0</td>\n",
       "      <td>104.8</td>\n",
       "      <td>50.0</td>\n",
       "      <td>3.00</td>\n",
       "      <td>4.3944</td>\n",
       "      <td>86.0</td>\n",
       "      <td>70.0</td>\n",
       "      <td>over60</td>\n",
       "    </tr>\n",
       "    <tr>\n",
       "      <th>311</th>\n",
       "      <td>75.0</td>\n",
       "      <td>1.0</td>\n",
       "      <td>30.1</td>\n",
       "      <td>78.00</td>\n",
       "      <td>222.0</td>\n",
       "      <td>154.2</td>\n",
       "      <td>44.0</td>\n",
       "      <td>5.05</td>\n",
       "      <td>4.7791</td>\n",
       "      <td>97.0</td>\n",
       "      <td>180.0</td>\n",
       "      <td>over60</td>\n",
       "    </tr>\n",
       "    <tr>\n",
       "      <th>321</th>\n",
       "      <td>75.0</td>\n",
       "      <td>1.0</td>\n",
       "      <td>31.2</td>\n",
       "      <td>117.67</td>\n",
       "      <td>229.0</td>\n",
       "      <td>138.8</td>\n",
       "      <td>29.0</td>\n",
       "      <td>7.90</td>\n",
       "      <td>5.7236</td>\n",
       "      <td>106.0</td>\n",
       "      <td>230.0</td>\n",
       "      <td>over60</td>\n",
       "    </tr>\n",
       "    <tr>\n",
       "      <th>402</th>\n",
       "      <td>79.0</td>\n",
       "      <td>2.0</td>\n",
       "      <td>23.3</td>\n",
       "      <td>88.00</td>\n",
       "      <td>186.0</td>\n",
       "      <td>128.4</td>\n",
       "      <td>33.0</td>\n",
       "      <td>6.00</td>\n",
       "      <td>4.8122</td>\n",
       "      <td>102.0</td>\n",
       "      <td>168.0</td>\n",
       "      <td>over60</td>\n",
       "    </tr>\n",
       "    <tr>\n",
       "      <th>204</th>\n",
       "      <td>79.0</td>\n",
       "      <td>2.0</td>\n",
       "      <td>27.0</td>\n",
       "      <td>103.00</td>\n",
       "      <td>169.0</td>\n",
       "      <td>110.8</td>\n",
       "      <td>37.0</td>\n",
       "      <td>5.00</td>\n",
       "      <td>4.6634</td>\n",
       "      <td>110.0</td>\n",
       "      <td>277.0</td>\n",
       "      <td>over60</td>\n",
       "    </tr>\n",
       "  </tbody>\n",
       "</table>\n",
       "<p>442 rows × 12 columns</p>\n",
       "</div>"
      ],
      "text/plain": [
       "      age  sex   bmi      bp     s1     s2    s3    s4      s5     s6  target  \\\n",
       "26   19.0  1.0  19.2   87.00  124.0   54.0  57.0  2.00  4.1744   90.0   137.0   \n",
       "374  19.0  1.0  23.2   75.00  143.0   70.4  52.0  3.00  4.6347   72.0   140.0   \n",
       "344  19.0  1.0  25.3   83.00  225.0  156.6  46.0  5.00  4.7185   84.0   200.0   \n",
       "79   20.0  1.0  22.9   87.00  191.0  128.2  53.0  4.00  3.8918   85.0   113.0   \n",
       "226  20.0  2.0  22.1   87.00  171.0   99.6  58.0  3.00  4.2047   78.0    77.0   \n",
       "..    ...  ...   ...     ...    ...    ...   ...   ...     ...    ...     ...   \n",
       "211  74.0  1.0  29.8  101.00  171.0  104.8  50.0  3.00  4.3944   86.0    70.0   \n",
       "311  75.0  1.0  30.1   78.00  222.0  154.2  44.0  5.05  4.7791   97.0   180.0   \n",
       "321  75.0  1.0  31.2  117.67  229.0  138.8  29.0  7.90  5.7236  106.0   230.0   \n",
       "402  79.0  2.0  23.3   88.00  186.0  128.4  33.0  6.00  4.8122  102.0   168.0   \n",
       "204  79.0  2.0  27.0  103.00  169.0  110.8  37.0  5.00  4.6634  110.0   277.0   \n",
       "\n",
       "    generation  \n",
       "26     under20  \n",
       "374    under20  \n",
       "344    under20  \n",
       "79     under40  \n",
       "226    under40  \n",
       "..         ...  \n",
       "211     over60  \n",
       "311     over60  \n",
       "321     over60  \n",
       "402     over60  \n",
       "204     over60  \n",
       "\n",
       "[442 rows x 12 columns]"
      ]
     },
     "execution_count": 2,
     "metadata": {},
     "output_type": "execute_result"
    }
   ],
   "source": [
    "def age_to_gen(age:int) -> str:\n",
    "    \"\"\"年齢を世代に変換する\n",
    "\n",
    "    Args:\n",
    "        age (int): 年齢\n",
    "\n",
    "    Returns:\n",
    "        str: 世代を表す文字列\n",
    "    \"\"\"\n",
    "    if age < 20:\n",
    "        gen = 'under20' # 20歳未満\n",
    "    elif age < 40:\n",
    "        gen = 'under40' # 20歳以上40歳未満\n",
    "    elif age < 60:\n",
    "        gen = 'under60' # 40歳以上60歳未満\n",
    "    else:\n",
    "        gen = 'over60'  # 60歳以上\n",
    "    return gen\n",
    "\n",
    "# 列「age」から変換した年代で列「generation」を追加\n",
    "df['generation'] = df['age'].map(age_to_gen)\n",
    "df = df.sort_values('age')  # 列「age」で昇順ソート\n",
    "\n",
    "df"
   ]
  },
  {
   "cell_type": "code",
   "execution_count": 3,
   "metadata": {},
   "outputs": [
    {
     "data": {
      "application/vnd.plotly.v1+json": {
       "config": {
        "plotlyServerURL": "https://plot.ly"
       },
       "data": [
        {
         "alignmentgroup": "True",
         "bingroup": "x",
         "hovertemplate": "generation=under20<br>bmi=%{x}<br>count=%{y}<extra></extra>",
         "legendgroup": "",
         "marker": {
          "color": "#636efa",
          "pattern": {
           "shape": ""
          }
         },
         "name": "",
         "offsetgroup": "",
         "orientation": "v",
         "showlegend": false,
         "type": "histogram",
         "x": [
          19.2,
          23.2,
          25.3
         ],
         "xaxis": "x",
         "xbins": {
          "size": 2,
          "start": 10
         },
         "yaxis": "y"
        }
       ],
       "frames": [
        {
         "data": [
          {
           "alignmentgroup": "True",
           "bingroup": "x",
           "hovertemplate": "generation=under20<br>bmi=%{x}<br>count=%{y}<extra></extra>",
           "legendgroup": "",
           "marker": {
            "color": "#636efa",
            "pattern": {
             "shape": ""
            }
           },
           "name": "",
           "offsetgroup": "",
           "orientation": "v",
           "showlegend": false,
           "type": "histogram",
           "x": [
            19.2,
            23.2,
            25.3
           ],
           "xaxis": "x",
           "yaxis": "y"
          }
         ],
         "name": "under20"
        },
        {
         "data": [
          {
           "alignmentgroup": "True",
           "bingroup": "x",
           "hovertemplate": "generation=under40<br>bmi=%{x}<br>count=%{y}<extra></extra>",
           "legendgroup": "",
           "marker": {
            "color": "#636efa",
            "pattern": {
             "shape": ""
            }
           },
           "name": "",
           "offsetgroup": "",
           "orientation": "v",
           "showlegend": false,
           "type": "histogram",
           "x": [
            22.9,
            22.1,
            24.2,
            20.1,
            24.2,
            18.6,
            23,
            19.9,
            19.3,
            22.6,
            18,
            18.8,
            29,
            20.7,
            25.3,
            22.5,
            22.6,
            23.5,
            26,
            24.3,
            28.3,
            18.8,
            30.3,
            19.6,
            24.8,
            22.6,
            33.6,
            25.4,
            19.2,
            24.7,
            22.1,
            30.4,
            25.5,
            31.5,
            24.2,
            35,
            19.4,
            30,
            18.1,
            21,
            26,
            20.9,
            21.3,
            25.2,
            19,
            23.3,
            29.7,
            35.3,
            25.4,
            26.5,
            31,
            22,
            31.4,
            30.5,
            27.8,
            18.9,
            25.3,
            25.4,
            19.5,
            20.8,
            35,
            20.6,
            24.7,
            35.5,
            22.6,
            20.6,
            30,
            25.3,
            31.4,
            26.3,
            21.2,
            33,
            29.2,
            25.5,
            25.2,
            25.9,
            20.4,
            41.3,
            28.7,
            26.8,
            21.1,
            24.1,
            27.8,
            39.1,
            30,
            22.8,
            21.9,
            32.3,
            22,
            24.1,
            19.6,
            20.2,
            30.8,
            23.6,
            20.3,
            21.4,
            38.3,
            26.8,
            23.3,
            30.2,
            21.8,
            27.7,
            33,
            25.4,
            26.8,
            32.6,
            27.3,
            21.3,
            22.9,
            26.9,
            21.2,
            20.9,
            26.3,
            24
           ],
           "xaxis": "x",
           "yaxis": "y"
          }
         ],
         "name": "under40"
        },
        {
         "data": [
          {
           "alignmentgroup": "True",
           "bingroup": "x",
           "hovertemplate": "generation=under60<br>bmi=%{x}<br>count=%{y}<extra></extra>",
           "legendgroup": "",
           "marker": {
            "color": "#636efa",
            "pattern": {
             "shape": ""
            }
           },
           "name": "",
           "offsetgroup": "",
           "orientation": "v",
           "showlegend": false,
           "type": "histogram",
           "x": [
            29,
            26.9,
            26.5,
            31.9,
            30.7,
            25.7,
            23.1,
            24.9,
            33.8,
            30.8,
            32,
            24.2,
            32.4,
            21.2,
            20.5,
            34.6,
            24.7,
            20.2,
            32,
            20.8,
            30.1,
            31.9,
            29.2,
            22.1,
            20.3,
            30.6,
            24,
            24.9,
            19.9,
            30.6,
            26.8,
            34.3,
            22.1,
            28.1,
            18.5,
            21.3,
            35.4,
            23.1,
            26.6,
            31.4,
            38.2,
            21.5,
            25.4,
            25.1,
            24.2,
            21.2,
            32,
            20.3,
            21.1,
            42.2,
            23.8,
            26.5,
            29.9,
            24.7,
            27.4,
            23.5,
            24.9,
            20.6,
            22.7,
            26.5,
            24.9,
            23.3,
            22.5,
            27.2,
            30.4,
            25.6,
            25.3,
            32.4,
            28.6,
            30.3,
            31.6,
            21.6,
            24.1,
            29.5,
            32.7,
            23.3,
            33,
            29.2,
            27.7,
            19.9,
            20.4,
            31.4,
            23.9,
            22.8,
            20.2,
            25.9,
            25.8,
            27.4,
            22.1,
            26,
            22.7,
            21,
            19.8,
            25.6,
            28.8,
            31.9,
            20.3,
            29.2,
            23,
            31.8,
            25.6,
            26.2,
            26.1,
            31,
            31.9,
            21.9,
            23.7,
            21,
            28,
            29.6,
            31.5,
            24.5,
            29.2,
            23.5,
            24.3,
            25.2,
            22.7,
            27.7,
            30.6,
            28.1,
            26.2,
            25.9,
            27.9,
            24.1,
            23.4,
            32.8,
            24.3,
            26.4,
            24,
            27.8,
            24.5,
            26.6,
            23,
            28.8,
            29.5,
            27,
            19.7,
            29.7,
            28.5,
            24.5,
            33.2,
            26.5,
            24.1,
            28,
            27.7,
            22.2,
            22.2,
            22,
            24.4,
            28.8,
            26.6,
            23.7,
            33.1,
            27.3,
            22.1,
            28.3,
            28.6,
            20.5,
            22.1,
            23.2,
            30.6,
            26.8,
            26.8,
            27.7,
            22.6,
            25.2,
            24.2,
            27.3,
            21,
            36.1,
            22.9,
            24.6,
            32.1,
            23.5,
            23,
            22.7,
            32.1,
            24.5,
            32.9,
            23.4,
            28.2,
            36.6,
            25.8,
            35.1,
            25.7,
            35,
            27,
            28,
            28.7,
            31,
            23.1,
            25.6,
            26.9,
            29.4,
            31.6,
            31.9,
            36.1,
            23.2,
            21.7,
            23.3,
            30.1,
            30.7,
            24.5,
            28.1,
            22.8,
            36.7,
            26.2,
            23.6,
            38,
            29,
            25.7,
            25.5,
            23.6,
            24.7,
            26.9,
            32.1,
            27.2,
            25.1,
            24.1,
            23.6,
            25.5,
            27.9
           ],
           "xaxis": "x",
           "yaxis": "y"
          }
         ],
         "name": "under60"
        },
        {
         "data": [
          {
           "alignmentgroup": "True",
           "bingroup": "x",
           "hovertemplate": "generation=over60<br>bmi=%{x}<br>count=%{y}<extra></extra>",
           "legendgroup": "",
           "marker": {
            "color": "#636efa",
            "pattern": {
             "shape": ""
            }
           },
           "name": "",
           "offsetgroup": "",
           "orientation": "v",
           "showlegend": false,
           "type": "histogram",
           "x": [
            22.3,
            24.3,
            28.2,
            22.8,
            27.5,
            27.7,
            25.6,
            24.9,
            25.6,
            20.4,
            25,
            23.4,
            33,
            25.7,
            23.4,
            32.1,
            22.2,
            31.2,
            26.1,
            24,
            32.7,
            33,
            25.8,
            24.6,
            32,
            28.2,
            26.9,
            25.8,
            23.1,
            25.6,
            30,
            34.6,
            23.5,
            22.5,
            37.8,
            22.4,
            31.8,
            33.9,
            32,
            33.3,
            28.9,
            26.7,
            25.5,
            24.4,
            24.1,
            26,
            20,
            28.4,
            23.5,
            27.3,
            21,
            27.9,
            31.3,
            28.5,
            30.2,
            26.3,
            33.5,
            24.4,
            34.6,
            28,
            26.2,
            24,
            21.7,
            26,
            22.8,
            23.5,
            25.8,
            22.5,
            23,
            20.7,
            24,
            26.7,
            31.6,
            23.6,
            29.8,
            25,
            28.3,
            24.8,
            25.9,
            27.5,
            27.5,
            32.8,
            23.5,
            25.7,
            29.3,
            24.5,
            28.1,
            29.6,
            37,
            34.3,
            24.1,
            26.5,
            24,
            27,
            26.1,
            29.5,
            30.5,
            27,
            29.8,
            30.1,
            31.2,
            23.3,
            27
           ],
           "xaxis": "x",
           "yaxis": "y"
          }
         ],
         "name": "over60"
        }
       ],
       "layout": {
        "barmode": "relative",
        "legend": {
         "tracegroupgap": 0
        },
        "margin": {
         "t": 60
        },
        "sliders": [
         {
          "active": 0,
          "currentvalue": {
           "prefix": "generation="
          },
          "len": 0.9,
          "pad": {
           "b": 10,
           "t": 60
          },
          "steps": [
           {
            "args": [
             [
              "under20"
             ],
             {
              "frame": {
               "duration": 0,
               "redraw": true
              },
              "fromcurrent": true,
              "mode": "immediate",
              "transition": {
               "duration": 0,
               "easing": "linear"
              }
             }
            ],
            "label": "under20",
            "method": "animate"
           },
           {
            "args": [
             [
              "under40"
             ],
             {
              "frame": {
               "duration": 0,
               "redraw": true
              },
              "fromcurrent": true,
              "mode": "immediate",
              "transition": {
               "duration": 0,
               "easing": "linear"
              }
             }
            ],
            "label": "under40",
            "method": "animate"
           },
           {
            "args": [
             [
              "under60"
             ],
             {
              "frame": {
               "duration": 0,
               "redraw": true
              },
              "fromcurrent": true,
              "mode": "immediate",
              "transition": {
               "duration": 0,
               "easing": "linear"
              }
             }
            ],
            "label": "under60",
            "method": "animate"
           },
           {
            "args": [
             [
              "over60"
             ],
             {
              "frame": {
               "duration": 0,
               "redraw": true
              },
              "fromcurrent": true,
              "mode": "immediate",
              "transition": {
               "duration": 0,
               "easing": "linear"
              }
             }
            ],
            "label": "over60",
            "method": "animate"
           }
          ],
          "x": 0.1,
          "xanchor": "left",
          "y": 0,
          "yanchor": "top"
         }
        ],
        "template": {
         "data": {
          "bar": [
           {
            "error_x": {
             "color": "rgb(36,36,36)"
            },
            "error_y": {
             "color": "rgb(36,36,36)"
            },
            "marker": {
             "line": {
              "color": "white",
              "width": 0.5
             },
             "pattern": {
              "fillmode": "overlay",
              "size": 10,
              "solidity": 0.2
             }
            },
            "type": "bar"
           }
          ],
          "barpolar": [
           {
            "marker": {
             "line": {
              "color": "white",
              "width": 0.5
             },
             "pattern": {
              "fillmode": "overlay",
              "size": 10,
              "solidity": 0.2
             }
            },
            "type": "barpolar"
           }
          ],
          "carpet": [
           {
            "aaxis": {
             "endlinecolor": "rgb(36,36,36)",
             "gridcolor": "white",
             "linecolor": "white",
             "minorgridcolor": "white",
             "startlinecolor": "rgb(36,36,36)"
            },
            "baxis": {
             "endlinecolor": "rgb(36,36,36)",
             "gridcolor": "white",
             "linecolor": "white",
             "minorgridcolor": "white",
             "startlinecolor": "rgb(36,36,36)"
            },
            "type": "carpet"
           }
          ],
          "choropleth": [
           {
            "colorbar": {
             "outlinewidth": 1,
             "tickcolor": "rgb(36,36,36)",
             "ticks": "outside"
            },
            "type": "choropleth"
           }
          ],
          "contour": [
           {
            "colorbar": {
             "outlinewidth": 1,
             "tickcolor": "rgb(36,36,36)",
             "ticks": "outside"
            },
            "colorscale": [
             [
              0,
              "#440154"
             ],
             [
              0.1111111111111111,
              "#482878"
             ],
             [
              0.2222222222222222,
              "#3e4989"
             ],
             [
              0.3333333333333333,
              "#31688e"
             ],
             [
              0.4444444444444444,
              "#26828e"
             ],
             [
              0.5555555555555556,
              "#1f9e89"
             ],
             [
              0.6666666666666666,
              "#35b779"
             ],
             [
              0.7777777777777778,
              "#6ece58"
             ],
             [
              0.8888888888888888,
              "#b5de2b"
             ],
             [
              1,
              "#fde725"
             ]
            ],
            "type": "contour"
           }
          ],
          "contourcarpet": [
           {
            "colorbar": {
             "outlinewidth": 1,
             "tickcolor": "rgb(36,36,36)",
             "ticks": "outside"
            },
            "type": "contourcarpet"
           }
          ],
          "heatmap": [
           {
            "colorbar": {
             "outlinewidth": 1,
             "tickcolor": "rgb(36,36,36)",
             "ticks": "outside"
            },
            "colorscale": [
             [
              0,
              "#440154"
             ],
             [
              0.1111111111111111,
              "#482878"
             ],
             [
              0.2222222222222222,
              "#3e4989"
             ],
             [
              0.3333333333333333,
              "#31688e"
             ],
             [
              0.4444444444444444,
              "#26828e"
             ],
             [
              0.5555555555555556,
              "#1f9e89"
             ],
             [
              0.6666666666666666,
              "#35b779"
             ],
             [
              0.7777777777777778,
              "#6ece58"
             ],
             [
              0.8888888888888888,
              "#b5de2b"
             ],
             [
              1,
              "#fde725"
             ]
            ],
            "type": "heatmap"
           }
          ],
          "heatmapgl": [
           {
            "colorbar": {
             "outlinewidth": 1,
             "tickcolor": "rgb(36,36,36)",
             "ticks": "outside"
            },
            "colorscale": [
             [
              0,
              "#440154"
             ],
             [
              0.1111111111111111,
              "#482878"
             ],
             [
              0.2222222222222222,
              "#3e4989"
             ],
             [
              0.3333333333333333,
              "#31688e"
             ],
             [
              0.4444444444444444,
              "#26828e"
             ],
             [
              0.5555555555555556,
              "#1f9e89"
             ],
             [
              0.6666666666666666,
              "#35b779"
             ],
             [
              0.7777777777777778,
              "#6ece58"
             ],
             [
              0.8888888888888888,
              "#b5de2b"
             ],
             [
              1,
              "#fde725"
             ]
            ],
            "type": "heatmapgl"
           }
          ],
          "histogram": [
           {
            "marker": {
             "line": {
              "color": "white",
              "width": 0.6
             },
             "pattern": {
              "fillmode": "overlay",
              "size": 10,
              "solidity": 0.2
             }
            },
            "type": "histogram"
           }
          ],
          "histogram2d": [
           {
            "colorbar": {
             "outlinewidth": 1,
             "tickcolor": "rgb(36,36,36)",
             "ticks": "outside"
            },
            "colorscale": [
             [
              0,
              "#440154"
             ],
             [
              0.1111111111111111,
              "#482878"
             ],
             [
              0.2222222222222222,
              "#3e4989"
             ],
             [
              0.3333333333333333,
              "#31688e"
             ],
             [
              0.4444444444444444,
              "#26828e"
             ],
             [
              0.5555555555555556,
              "#1f9e89"
             ],
             [
              0.6666666666666666,
              "#35b779"
             ],
             [
              0.7777777777777778,
              "#6ece58"
             ],
             [
              0.8888888888888888,
              "#b5de2b"
             ],
             [
              1,
              "#fde725"
             ]
            ],
            "type": "histogram2d"
           }
          ],
          "histogram2dcontour": [
           {
            "colorbar": {
             "outlinewidth": 1,
             "tickcolor": "rgb(36,36,36)",
             "ticks": "outside"
            },
            "colorscale": [
             [
              0,
              "#440154"
             ],
             [
              0.1111111111111111,
              "#482878"
             ],
             [
              0.2222222222222222,
              "#3e4989"
             ],
             [
              0.3333333333333333,
              "#31688e"
             ],
             [
              0.4444444444444444,
              "#26828e"
             ],
             [
              0.5555555555555556,
              "#1f9e89"
             ],
             [
              0.6666666666666666,
              "#35b779"
             ],
             [
              0.7777777777777778,
              "#6ece58"
             ],
             [
              0.8888888888888888,
              "#b5de2b"
             ],
             [
              1,
              "#fde725"
             ]
            ],
            "type": "histogram2dcontour"
           }
          ],
          "mesh3d": [
           {
            "colorbar": {
             "outlinewidth": 1,
             "tickcolor": "rgb(36,36,36)",
             "ticks": "outside"
            },
            "type": "mesh3d"
           }
          ],
          "parcoords": [
           {
            "line": {
             "colorbar": {
              "outlinewidth": 1,
              "tickcolor": "rgb(36,36,36)",
              "ticks": "outside"
             }
            },
            "type": "parcoords"
           }
          ],
          "pie": [
           {
            "automargin": true,
            "type": "pie"
           }
          ],
          "scatter": [
           {
            "fillpattern": {
             "fillmode": "overlay",
             "size": 10,
             "solidity": 0.2
            },
            "type": "scatter"
           }
          ],
          "scatter3d": [
           {
            "line": {
             "colorbar": {
              "outlinewidth": 1,
              "tickcolor": "rgb(36,36,36)",
              "ticks": "outside"
             }
            },
            "marker": {
             "colorbar": {
              "outlinewidth": 1,
              "tickcolor": "rgb(36,36,36)",
              "ticks": "outside"
             }
            },
            "type": "scatter3d"
           }
          ],
          "scattercarpet": [
           {
            "marker": {
             "colorbar": {
              "outlinewidth": 1,
              "tickcolor": "rgb(36,36,36)",
              "ticks": "outside"
             }
            },
            "type": "scattercarpet"
           }
          ],
          "scattergeo": [
           {
            "marker": {
             "colorbar": {
              "outlinewidth": 1,
              "tickcolor": "rgb(36,36,36)",
              "ticks": "outside"
             }
            },
            "type": "scattergeo"
           }
          ],
          "scattergl": [
           {
            "marker": {
             "colorbar": {
              "outlinewidth": 1,
              "tickcolor": "rgb(36,36,36)",
              "ticks": "outside"
             }
            },
            "type": "scattergl"
           }
          ],
          "scattermapbox": [
           {
            "marker": {
             "colorbar": {
              "outlinewidth": 1,
              "tickcolor": "rgb(36,36,36)",
              "ticks": "outside"
             }
            },
            "type": "scattermapbox"
           }
          ],
          "scatterpolar": [
           {
            "marker": {
             "colorbar": {
              "outlinewidth": 1,
              "tickcolor": "rgb(36,36,36)",
              "ticks": "outside"
             }
            },
            "type": "scatterpolar"
           }
          ],
          "scatterpolargl": [
           {
            "marker": {
             "colorbar": {
              "outlinewidth": 1,
              "tickcolor": "rgb(36,36,36)",
              "ticks": "outside"
             }
            },
            "type": "scatterpolargl"
           }
          ],
          "scatterternary": [
           {
            "marker": {
             "colorbar": {
              "outlinewidth": 1,
              "tickcolor": "rgb(36,36,36)",
              "ticks": "outside"
             }
            },
            "type": "scatterternary"
           }
          ],
          "surface": [
           {
            "colorbar": {
             "outlinewidth": 1,
             "tickcolor": "rgb(36,36,36)",
             "ticks": "outside"
            },
            "colorscale": [
             [
              0,
              "#440154"
             ],
             [
              0.1111111111111111,
              "#482878"
             ],
             [
              0.2222222222222222,
              "#3e4989"
             ],
             [
              0.3333333333333333,
              "#31688e"
             ],
             [
              0.4444444444444444,
              "#26828e"
             ],
             [
              0.5555555555555556,
              "#1f9e89"
             ],
             [
              0.6666666666666666,
              "#35b779"
             ],
             [
              0.7777777777777778,
              "#6ece58"
             ],
             [
              0.8888888888888888,
              "#b5de2b"
             ],
             [
              1,
              "#fde725"
             ]
            ],
            "type": "surface"
           }
          ],
          "table": [
           {
            "cells": {
             "fill": {
              "color": "rgb(237,237,237)"
             },
             "line": {
              "color": "white"
             }
            },
            "header": {
             "fill": {
              "color": "rgb(217,217,217)"
             },
             "line": {
              "color": "white"
             }
            },
            "type": "table"
           }
          ]
         },
         "layout": {
          "annotationdefaults": {
           "arrowcolor": "#2a3f5f",
           "arrowhead": 0,
           "arrowwidth": 1
          },
          "autotypenumbers": "strict",
          "coloraxis": {
           "colorbar": {
            "outlinewidth": 1,
            "tickcolor": "rgb(36,36,36)",
            "ticks": "outside"
           }
          },
          "colorscale": {
           "diverging": [
            [
             0,
             "rgb(103,0,31)"
            ],
            [
             0.1,
             "rgb(178,24,43)"
            ],
            [
             0.2,
             "rgb(214,96,77)"
            ],
            [
             0.3,
             "rgb(244,165,130)"
            ],
            [
             0.4,
             "rgb(253,219,199)"
            ],
            [
             0.5,
             "rgb(247,247,247)"
            ],
            [
             0.6,
             "rgb(209,229,240)"
            ],
            [
             0.7,
             "rgb(146,197,222)"
            ],
            [
             0.8,
             "rgb(67,147,195)"
            ],
            [
             0.9,
             "rgb(33,102,172)"
            ],
            [
             1,
             "rgb(5,48,97)"
            ]
           ],
           "sequential": [
            [
             0,
             "#440154"
            ],
            [
             0.1111111111111111,
             "#482878"
            ],
            [
             0.2222222222222222,
             "#3e4989"
            ],
            [
             0.3333333333333333,
             "#31688e"
            ],
            [
             0.4444444444444444,
             "#26828e"
            ],
            [
             0.5555555555555556,
             "#1f9e89"
            ],
            [
             0.6666666666666666,
             "#35b779"
            ],
            [
             0.7777777777777778,
             "#6ece58"
            ],
            [
             0.8888888888888888,
             "#b5de2b"
            ],
            [
             1,
             "#fde725"
            ]
           ],
           "sequentialminus": [
            [
             0,
             "#440154"
            ],
            [
             0.1111111111111111,
             "#482878"
            ],
            [
             0.2222222222222222,
             "#3e4989"
            ],
            [
             0.3333333333333333,
             "#31688e"
            ],
            [
             0.4444444444444444,
             "#26828e"
            ],
            [
             0.5555555555555556,
             "#1f9e89"
            ],
            [
             0.6666666666666666,
             "#35b779"
            ],
            [
             0.7777777777777778,
             "#6ece58"
            ],
            [
             0.8888888888888888,
             "#b5de2b"
            ],
            [
             1,
             "#fde725"
            ]
           ]
          },
          "colorway": [
           "#1F77B4",
           "#FF7F0E",
           "#2CA02C",
           "#D62728",
           "#9467BD",
           "#8C564B",
           "#E377C2",
           "#7F7F7F",
           "#BCBD22",
           "#17BECF"
          ],
          "font": {
           "color": "rgb(36,36,36)"
          },
          "geo": {
           "bgcolor": "white",
           "lakecolor": "white",
           "landcolor": "white",
           "showlakes": true,
           "showland": true,
           "subunitcolor": "white"
          },
          "hoverlabel": {
           "align": "left"
          },
          "hovermode": "closest",
          "mapbox": {
           "style": "light"
          },
          "paper_bgcolor": "white",
          "plot_bgcolor": "white",
          "polar": {
           "angularaxis": {
            "gridcolor": "rgb(232,232,232)",
            "linecolor": "rgb(36,36,36)",
            "showgrid": false,
            "showline": true,
            "ticks": "outside"
           },
           "bgcolor": "white",
           "radialaxis": {
            "gridcolor": "rgb(232,232,232)",
            "linecolor": "rgb(36,36,36)",
            "showgrid": false,
            "showline": true,
            "ticks": "outside"
           }
          },
          "scene": {
           "xaxis": {
            "backgroundcolor": "white",
            "gridcolor": "rgb(232,232,232)",
            "gridwidth": 2,
            "linecolor": "rgb(36,36,36)",
            "showbackground": true,
            "showgrid": false,
            "showline": true,
            "ticks": "outside",
            "zeroline": false,
            "zerolinecolor": "rgb(36,36,36)"
           },
           "yaxis": {
            "backgroundcolor": "white",
            "gridcolor": "rgb(232,232,232)",
            "gridwidth": 2,
            "linecolor": "rgb(36,36,36)",
            "showbackground": true,
            "showgrid": false,
            "showline": true,
            "ticks": "outside",
            "zeroline": false,
            "zerolinecolor": "rgb(36,36,36)"
           },
           "zaxis": {
            "backgroundcolor": "white",
            "gridcolor": "rgb(232,232,232)",
            "gridwidth": 2,
            "linecolor": "rgb(36,36,36)",
            "showbackground": true,
            "showgrid": false,
            "showline": true,
            "ticks": "outside",
            "zeroline": false,
            "zerolinecolor": "rgb(36,36,36)"
           }
          },
          "shapedefaults": {
           "fillcolor": "black",
           "line": {
            "color": "#2a3f5f",
            "width": 0
           },
           "opacity": 0.3
          },
          "ternary": {
           "aaxis": {
            "gridcolor": "rgb(232,232,232)",
            "linecolor": "rgb(36,36,36)",
            "showgrid": false,
            "showline": true,
            "ticks": "outside"
           },
           "baxis": {
            "gridcolor": "rgb(232,232,232)",
            "linecolor": "rgb(36,36,36)",
            "showgrid": false,
            "showline": true,
            "ticks": "outside"
           },
           "bgcolor": "white",
           "caxis": {
            "gridcolor": "rgb(232,232,232)",
            "linecolor": "rgb(36,36,36)",
            "showgrid": false,
            "showline": true,
            "ticks": "outside"
           }
          },
          "title": {
           "x": 0.05
          },
          "xaxis": {
           "automargin": true,
           "gridcolor": "rgb(232,232,232)",
           "linecolor": "rgb(36,36,36)",
           "showgrid": false,
           "showline": true,
           "ticks": "outside",
           "title": {
            "standoff": 15
           },
           "zeroline": false,
           "zerolinecolor": "rgb(36,36,36)",
           "zerolinewidth": 2
          },
          "yaxis": {
           "automargin": true,
           "gridcolor": "rgb(232,232,232)",
           "linecolor": "rgb(36,36,36)",
           "showgrid": true,
           "showline": false,
           "ticks": "outside",
           "title": {
            "standoff": 15
           },
           "zeroline": false,
           "zerolinecolor": "rgb(36,36,36)",
           "zerolinewidth": 2
          }
         }
        },
        "title": {
         "text": "Diabetes dataset"
        },
        "updatemenus": [
         {
          "buttons": [
           {
            "args": [
             null,
             {
              "frame": {
               "duration": 500,
               "redraw": true
              },
              "fromcurrent": true,
              "mode": "immediate",
              "transition": {
               "duration": 500,
               "easing": "linear"
              }
             }
            ],
            "label": "&#9654;",
            "method": "animate"
           },
           {
            "args": [
             [
              null
             ],
             {
              "frame": {
               "duration": 0,
               "redraw": true
              },
              "fromcurrent": true,
              "mode": "immediate",
              "transition": {
               "duration": 0,
               "easing": "linear"
              }
             }
            ],
            "label": "&#9724;",
            "method": "animate"
           }
          ],
          "direction": "left",
          "pad": {
           "r": 10,
           "t": 70
          },
          "showactive": false,
          "type": "buttons",
          "x": 0.1,
          "xanchor": "right",
          "y": 0,
          "yanchor": "top"
         }
        ],
        "xaxis": {
         "anchor": "y",
         "domain": [
          0,
          1
         ],
         "range": [
          10,
          50
         ],
         "title": {
          "text": "bmi"
         }
        },
        "yaxis": {
         "anchor": "x",
         "domain": [
          0,
          1
         ],
         "range": [
          0,
          50
         ],
         "title": {
          "text": "count"
         }
        }
       }
      }
     },
     "metadata": {},
     "output_type": "display_data"
    }
   ],
   "source": [
    "# Plotly ExpressからヒストグラムのFigureを作成\n",
    "figure = px.histogram(\n",
    "    df,\n",
    "    x='bmi',                        # 分布を表示する変数\n",
    "    animation_frame='generation'    # アニメーションに使用する変数\n",
    ")   # BMIのヒストグラム\n",
    "\n",
    "# Traceの更新\n",
    "figure.update_traces({\n",
    "    'xbins': {\n",
    "        'start': 10.,   # スタート位置10\n",
    "        'size': 2.      # ビン幅2\n",
    "    }   # ヒストグラムのビン\n",
    "})\n",
    "\n",
    "# 独自テンプレートの読み込み\n",
    "with open('custom_white.json') as f:\n",
    "    custom_white_dict = json.load(f)\n",
    "    template = Template(custom_white_dict)\n",
    "\n",
    "# Layoutの作成と更新\n",
    "layout = go.Layout(\n",
    "    template=template,\n",
    "    title='Diabetes dataset',   # グラフタイトル\n",
    "    xaxis={\n",
    "        'range': [10, 50]       # x軸範囲\n",
    "    },\n",
    "    yaxis={\n",
    "        'range': [0, 50]        # y軸範囲\n",
    "    }\n",
    ")\n",
    "figure.update_layout(layout)\n",
    "\n",
    "figure"
   ]
  },
  {
   "cell_type": "code",
   "execution_count": 4,
   "metadata": {},
   "outputs": [
    {
     "data": {
      "application/vnd.plotly.v1+json": {
       "config": {
        "plotlyServerURL": "https://plot.ly"
       },
       "data": [
        {
         "alignmentgroup": "True",
         "bingroup": "x",
         "hovertemplate": "generation=under20<br>bmi=%{x}<br>count=%{y}<extra></extra>",
         "legendgroup": "",
         "marker": {
          "color": "#636efa",
          "pattern": {
           "shape": ""
          }
         },
         "name": "",
         "offsetgroup": "",
         "orientation": "v",
         "showlegend": false,
         "type": "histogram",
         "x": [
          19.2,
          23.2,
          25.3
         ],
         "xaxis": "x",
         "xbins": {
          "size": 2,
          "start": 10
         },
         "yaxis": "y"
        }
       ],
       "frames": [
        {
         "data": [
          {
           "alignmentgroup": "True",
           "bingroup": "x",
           "hovertemplate": "generation=under20<br>bmi=%{x}<br>count=%{y}<extra></extra>",
           "legendgroup": "",
           "marker": {
            "color": "#636efa",
            "pattern": {
             "shape": ""
            }
           },
           "name": "",
           "offsetgroup": "",
           "orientation": "v",
           "showlegend": false,
           "type": "histogram",
           "x": [
            19.2,
            23.2,
            25.3
           ],
           "xaxis": "x",
           "yaxis": "y"
          }
         ],
         "name": "under20"
        },
        {
         "data": [
          {
           "alignmentgroup": "True",
           "bingroup": "x",
           "hovertemplate": "generation=under40<br>bmi=%{x}<br>count=%{y}<extra></extra>",
           "legendgroup": "",
           "marker": {
            "color": "#636efa",
            "pattern": {
             "shape": ""
            }
           },
           "name": "",
           "offsetgroup": "",
           "orientation": "v",
           "showlegend": false,
           "type": "histogram",
           "x": [
            22.9,
            22.1,
            24.2,
            20.1,
            24.2,
            18.6,
            23,
            19.9,
            19.3,
            22.6,
            18,
            18.8,
            29,
            20.7,
            25.3,
            22.5,
            22.6,
            23.5,
            26,
            24.3,
            28.3,
            18.8,
            30.3,
            19.6,
            24.8,
            22.6,
            33.6,
            25.4,
            19.2,
            24.7,
            22.1,
            30.4,
            25.5,
            31.5,
            24.2,
            35,
            19.4,
            30,
            18.1,
            21,
            26,
            20.9,
            21.3,
            25.2,
            19,
            23.3,
            29.7,
            35.3,
            25.4,
            26.5,
            31,
            22,
            31.4,
            30.5,
            27.8,
            18.9,
            25.3,
            25.4,
            19.5,
            20.8,
            35,
            20.6,
            24.7,
            35.5,
            22.6,
            20.6,
            30,
            25.3,
            31.4,
            26.3,
            21.2,
            33,
            29.2,
            25.5,
            25.2,
            25.9,
            20.4,
            41.3,
            28.7,
            26.8,
            21.1,
            24.1,
            27.8,
            39.1,
            30,
            22.8,
            21.9,
            32.3,
            22,
            24.1,
            19.6,
            20.2,
            30.8,
            23.6,
            20.3,
            21.4,
            38.3,
            26.8,
            23.3,
            30.2,
            21.8,
            27.7,
            33,
            25.4,
            26.8,
            32.6,
            27.3,
            21.3,
            22.9,
            26.9,
            21.2,
            20.9,
            26.3,
            24
           ],
           "xaxis": "x",
           "yaxis": "y"
          }
         ],
         "name": "under40"
        },
        {
         "data": [
          {
           "alignmentgroup": "True",
           "bingroup": "x",
           "hovertemplate": "generation=under60<br>bmi=%{x}<br>count=%{y}<extra></extra>",
           "legendgroup": "",
           "marker": {
            "color": "#636efa",
            "pattern": {
             "shape": ""
            }
           },
           "name": "",
           "offsetgroup": "",
           "orientation": "v",
           "showlegend": false,
           "type": "histogram",
           "x": [
            29,
            26.9,
            26.5,
            31.9,
            30.7,
            25.7,
            23.1,
            24.9,
            33.8,
            30.8,
            32,
            24.2,
            32.4,
            21.2,
            20.5,
            34.6,
            24.7,
            20.2,
            32,
            20.8,
            30.1,
            31.9,
            29.2,
            22.1,
            20.3,
            30.6,
            24,
            24.9,
            19.9,
            30.6,
            26.8,
            34.3,
            22.1,
            28.1,
            18.5,
            21.3,
            35.4,
            23.1,
            26.6,
            31.4,
            38.2,
            21.5,
            25.4,
            25.1,
            24.2,
            21.2,
            32,
            20.3,
            21.1,
            42.2,
            23.8,
            26.5,
            29.9,
            24.7,
            27.4,
            23.5,
            24.9,
            20.6,
            22.7,
            26.5,
            24.9,
            23.3,
            22.5,
            27.2,
            30.4,
            25.6,
            25.3,
            32.4,
            28.6,
            30.3,
            31.6,
            21.6,
            24.1,
            29.5,
            32.7,
            23.3,
            33,
            29.2,
            27.7,
            19.9,
            20.4,
            31.4,
            23.9,
            22.8,
            20.2,
            25.9,
            25.8,
            27.4,
            22.1,
            26,
            22.7,
            21,
            19.8,
            25.6,
            28.8,
            31.9,
            20.3,
            29.2,
            23,
            31.8,
            25.6,
            26.2,
            26.1,
            31,
            31.9,
            21.9,
            23.7,
            21,
            28,
            29.6,
            31.5,
            24.5,
            29.2,
            23.5,
            24.3,
            25.2,
            22.7,
            27.7,
            30.6,
            28.1,
            26.2,
            25.9,
            27.9,
            24.1,
            23.4,
            32.8,
            24.3,
            26.4,
            24,
            27.8,
            24.5,
            26.6,
            23,
            28.8,
            29.5,
            27,
            19.7,
            29.7,
            28.5,
            24.5,
            33.2,
            26.5,
            24.1,
            28,
            27.7,
            22.2,
            22.2,
            22,
            24.4,
            28.8,
            26.6,
            23.7,
            33.1,
            27.3,
            22.1,
            28.3,
            28.6,
            20.5,
            22.1,
            23.2,
            30.6,
            26.8,
            26.8,
            27.7,
            22.6,
            25.2,
            24.2,
            27.3,
            21,
            36.1,
            22.9,
            24.6,
            32.1,
            23.5,
            23,
            22.7,
            32.1,
            24.5,
            32.9,
            23.4,
            28.2,
            36.6,
            25.8,
            35.1,
            25.7,
            35,
            27,
            28,
            28.7,
            31,
            23.1,
            25.6,
            26.9,
            29.4,
            31.6,
            31.9,
            36.1,
            23.2,
            21.7,
            23.3,
            30.1,
            30.7,
            24.5,
            28.1,
            22.8,
            36.7,
            26.2,
            23.6,
            38,
            29,
            25.7,
            25.5,
            23.6,
            24.7,
            26.9,
            32.1,
            27.2,
            25.1,
            24.1,
            23.6,
            25.5,
            27.9
           ],
           "xaxis": "x",
           "yaxis": "y"
          }
         ],
         "name": "under60"
        },
        {
         "data": [
          {
           "alignmentgroup": "True",
           "bingroup": "x",
           "hovertemplate": "generation=over60<br>bmi=%{x}<br>count=%{y}<extra></extra>",
           "legendgroup": "",
           "marker": {
            "color": "#636efa",
            "pattern": {
             "shape": ""
            }
           },
           "name": "",
           "offsetgroup": "",
           "orientation": "v",
           "showlegend": false,
           "type": "histogram",
           "x": [
            22.3,
            24.3,
            28.2,
            22.8,
            27.5,
            27.7,
            25.6,
            24.9,
            25.6,
            20.4,
            25,
            23.4,
            33,
            25.7,
            23.4,
            32.1,
            22.2,
            31.2,
            26.1,
            24,
            32.7,
            33,
            25.8,
            24.6,
            32,
            28.2,
            26.9,
            25.8,
            23.1,
            25.6,
            30,
            34.6,
            23.5,
            22.5,
            37.8,
            22.4,
            31.8,
            33.9,
            32,
            33.3,
            28.9,
            26.7,
            25.5,
            24.4,
            24.1,
            26,
            20,
            28.4,
            23.5,
            27.3,
            21,
            27.9,
            31.3,
            28.5,
            30.2,
            26.3,
            33.5,
            24.4,
            34.6,
            28,
            26.2,
            24,
            21.7,
            26,
            22.8,
            23.5,
            25.8,
            22.5,
            23,
            20.7,
            24,
            26.7,
            31.6,
            23.6,
            29.8,
            25,
            28.3,
            24.8,
            25.9,
            27.5,
            27.5,
            32.8,
            23.5,
            25.7,
            29.3,
            24.5,
            28.1,
            29.6,
            37,
            34.3,
            24.1,
            26.5,
            24,
            27,
            26.1,
            29.5,
            30.5,
            27,
            29.8,
            30.1,
            31.2,
            23.3,
            27
           ],
           "xaxis": "x",
           "yaxis": "y"
          }
         ],
         "name": "over60"
        }
       ],
       "layout": {
        "barmode": "relative",
        "legend": {
         "tracegroupgap": 0
        },
        "margin": {
         "t": 60
        },
        "sliders": [
         {
          "active": 0,
          "currentvalue": {
           "prefix": "generation="
          },
          "len": 0.9,
          "pad": {
           "b": 10,
           "t": 60
          },
          "steps": [
           {
            "args": [
             [
              "under20"
             ],
             {
              "frame": {
               "duration": 0,
               "redraw": true
              },
              "fromcurrent": true,
              "mode": "immediate",
              "transition": {
               "duration": 0,
               "easing": "linear"
              }
             }
            ],
            "label": "under20",
            "method": "animate"
           },
           {
            "args": [
             [
              "under40"
             ],
             {
              "frame": {
               "duration": 0,
               "redraw": true
              },
              "fromcurrent": true,
              "mode": "immediate",
              "transition": {
               "duration": 0,
               "easing": "linear"
              }
             }
            ],
            "label": "under40",
            "method": "animate"
           },
           {
            "args": [
             [
              "under60"
             ],
             {
              "frame": {
               "duration": 0,
               "redraw": true
              },
              "fromcurrent": true,
              "mode": "immediate",
              "transition": {
               "duration": 0,
               "easing": "linear"
              }
             }
            ],
            "label": "under60",
            "method": "animate"
           },
           {
            "args": [
             [
              "over60"
             ],
             {
              "frame": {
               "duration": 0,
               "redraw": true
              },
              "fromcurrent": true,
              "mode": "immediate",
              "transition": {
               "duration": 0,
               "easing": "linear"
              }
             }
            ],
            "label": "over60",
            "method": "animate"
           }
          ],
          "x": 0.1,
          "xanchor": "left",
          "y": 0,
          "yanchor": "top"
         }
        ],
        "template": {
         "data": {
          "bar": [
           {
            "error_x": {
             "color": "rgb(36,36,36)"
            },
            "error_y": {
             "color": "rgb(36,36,36)"
            },
            "marker": {
             "line": {
              "color": "white",
              "width": 0.5
             },
             "pattern": {
              "fillmode": "overlay",
              "size": 10,
              "solidity": 0.2
             }
            },
            "type": "bar"
           }
          ],
          "barpolar": [
           {
            "marker": {
             "line": {
              "color": "white",
              "width": 0.5
             },
             "pattern": {
              "fillmode": "overlay",
              "size": 10,
              "solidity": 0.2
             }
            },
            "type": "barpolar"
           }
          ],
          "carpet": [
           {
            "aaxis": {
             "endlinecolor": "rgb(36,36,36)",
             "gridcolor": "white",
             "linecolor": "white",
             "minorgridcolor": "white",
             "startlinecolor": "rgb(36,36,36)"
            },
            "baxis": {
             "endlinecolor": "rgb(36,36,36)",
             "gridcolor": "white",
             "linecolor": "white",
             "minorgridcolor": "white",
             "startlinecolor": "rgb(36,36,36)"
            },
            "type": "carpet"
           }
          ],
          "choropleth": [
           {
            "colorbar": {
             "outlinewidth": 1,
             "tickcolor": "rgb(36,36,36)",
             "ticks": "outside"
            },
            "type": "choropleth"
           }
          ],
          "contour": [
           {
            "colorbar": {
             "outlinewidth": 1,
             "tickcolor": "rgb(36,36,36)",
             "ticks": "outside"
            },
            "colorscale": [
             [
              0,
              "#440154"
             ],
             [
              0.1111111111111111,
              "#482878"
             ],
             [
              0.2222222222222222,
              "#3e4989"
             ],
             [
              0.3333333333333333,
              "#31688e"
             ],
             [
              0.4444444444444444,
              "#26828e"
             ],
             [
              0.5555555555555556,
              "#1f9e89"
             ],
             [
              0.6666666666666666,
              "#35b779"
             ],
             [
              0.7777777777777778,
              "#6ece58"
             ],
             [
              0.8888888888888888,
              "#b5de2b"
             ],
             [
              1,
              "#fde725"
             ]
            ],
            "type": "contour"
           }
          ],
          "contourcarpet": [
           {
            "colorbar": {
             "outlinewidth": 1,
             "tickcolor": "rgb(36,36,36)",
             "ticks": "outside"
            },
            "type": "contourcarpet"
           }
          ],
          "heatmap": [
           {
            "colorbar": {
             "outlinewidth": 1,
             "tickcolor": "rgb(36,36,36)",
             "ticks": "outside"
            },
            "colorscale": [
             [
              0,
              "#440154"
             ],
             [
              0.1111111111111111,
              "#482878"
             ],
             [
              0.2222222222222222,
              "#3e4989"
             ],
             [
              0.3333333333333333,
              "#31688e"
             ],
             [
              0.4444444444444444,
              "#26828e"
             ],
             [
              0.5555555555555556,
              "#1f9e89"
             ],
             [
              0.6666666666666666,
              "#35b779"
             ],
             [
              0.7777777777777778,
              "#6ece58"
             ],
             [
              0.8888888888888888,
              "#b5de2b"
             ],
             [
              1,
              "#fde725"
             ]
            ],
            "type": "heatmap"
           }
          ],
          "heatmapgl": [
           {
            "colorbar": {
             "outlinewidth": 1,
             "tickcolor": "rgb(36,36,36)",
             "ticks": "outside"
            },
            "colorscale": [
             [
              0,
              "#440154"
             ],
             [
              0.1111111111111111,
              "#482878"
             ],
             [
              0.2222222222222222,
              "#3e4989"
             ],
             [
              0.3333333333333333,
              "#31688e"
             ],
             [
              0.4444444444444444,
              "#26828e"
             ],
             [
              0.5555555555555556,
              "#1f9e89"
             ],
             [
              0.6666666666666666,
              "#35b779"
             ],
             [
              0.7777777777777778,
              "#6ece58"
             ],
             [
              0.8888888888888888,
              "#b5de2b"
             ],
             [
              1,
              "#fde725"
             ]
            ],
            "type": "heatmapgl"
           }
          ],
          "histogram": [
           {
            "marker": {
             "line": {
              "color": "white",
              "width": 0.6
             },
             "pattern": {
              "fillmode": "overlay",
              "size": 10,
              "solidity": 0.2
             }
            },
            "type": "histogram"
           }
          ],
          "histogram2d": [
           {
            "colorbar": {
             "outlinewidth": 1,
             "tickcolor": "rgb(36,36,36)",
             "ticks": "outside"
            },
            "colorscale": [
             [
              0,
              "#440154"
             ],
             [
              0.1111111111111111,
              "#482878"
             ],
             [
              0.2222222222222222,
              "#3e4989"
             ],
             [
              0.3333333333333333,
              "#31688e"
             ],
             [
              0.4444444444444444,
              "#26828e"
             ],
             [
              0.5555555555555556,
              "#1f9e89"
             ],
             [
              0.6666666666666666,
              "#35b779"
             ],
             [
              0.7777777777777778,
              "#6ece58"
             ],
             [
              0.8888888888888888,
              "#b5de2b"
             ],
             [
              1,
              "#fde725"
             ]
            ],
            "type": "histogram2d"
           }
          ],
          "histogram2dcontour": [
           {
            "colorbar": {
             "outlinewidth": 1,
             "tickcolor": "rgb(36,36,36)",
             "ticks": "outside"
            },
            "colorscale": [
             [
              0,
              "#440154"
             ],
             [
              0.1111111111111111,
              "#482878"
             ],
             [
              0.2222222222222222,
              "#3e4989"
             ],
             [
              0.3333333333333333,
              "#31688e"
             ],
             [
              0.4444444444444444,
              "#26828e"
             ],
             [
              0.5555555555555556,
              "#1f9e89"
             ],
             [
              0.6666666666666666,
              "#35b779"
             ],
             [
              0.7777777777777778,
              "#6ece58"
             ],
             [
              0.8888888888888888,
              "#b5de2b"
             ],
             [
              1,
              "#fde725"
             ]
            ],
            "type": "histogram2dcontour"
           }
          ],
          "mesh3d": [
           {
            "colorbar": {
             "outlinewidth": 1,
             "tickcolor": "rgb(36,36,36)",
             "ticks": "outside"
            },
            "type": "mesh3d"
           }
          ],
          "parcoords": [
           {
            "line": {
             "colorbar": {
              "outlinewidth": 1,
              "tickcolor": "rgb(36,36,36)",
              "ticks": "outside"
             }
            },
            "type": "parcoords"
           }
          ],
          "pie": [
           {
            "automargin": true,
            "type": "pie"
           }
          ],
          "scatter": [
           {
            "fillpattern": {
             "fillmode": "overlay",
             "size": 10,
             "solidity": 0.2
            },
            "type": "scatter"
           }
          ],
          "scatter3d": [
           {
            "line": {
             "colorbar": {
              "outlinewidth": 1,
              "tickcolor": "rgb(36,36,36)",
              "ticks": "outside"
             }
            },
            "marker": {
             "colorbar": {
              "outlinewidth": 1,
              "tickcolor": "rgb(36,36,36)",
              "ticks": "outside"
             }
            },
            "type": "scatter3d"
           }
          ],
          "scattercarpet": [
           {
            "marker": {
             "colorbar": {
              "outlinewidth": 1,
              "tickcolor": "rgb(36,36,36)",
              "ticks": "outside"
             }
            },
            "type": "scattercarpet"
           }
          ],
          "scattergeo": [
           {
            "marker": {
             "colorbar": {
              "outlinewidth": 1,
              "tickcolor": "rgb(36,36,36)",
              "ticks": "outside"
             }
            },
            "type": "scattergeo"
           }
          ],
          "scattergl": [
           {
            "marker": {
             "colorbar": {
              "outlinewidth": 1,
              "tickcolor": "rgb(36,36,36)",
              "ticks": "outside"
             }
            },
            "type": "scattergl"
           }
          ],
          "scattermapbox": [
           {
            "marker": {
             "colorbar": {
              "outlinewidth": 1,
              "tickcolor": "rgb(36,36,36)",
              "ticks": "outside"
             }
            },
            "type": "scattermapbox"
           }
          ],
          "scatterpolar": [
           {
            "marker": {
             "colorbar": {
              "outlinewidth": 1,
              "tickcolor": "rgb(36,36,36)",
              "ticks": "outside"
             }
            },
            "type": "scatterpolar"
           }
          ],
          "scatterpolargl": [
           {
            "marker": {
             "colorbar": {
              "outlinewidth": 1,
              "tickcolor": "rgb(36,36,36)",
              "ticks": "outside"
             }
            },
            "type": "scatterpolargl"
           }
          ],
          "scatterternary": [
           {
            "marker": {
             "colorbar": {
              "outlinewidth": 1,
              "tickcolor": "rgb(36,36,36)",
              "ticks": "outside"
             }
            },
            "type": "scatterternary"
           }
          ],
          "surface": [
           {
            "colorbar": {
             "outlinewidth": 1,
             "tickcolor": "rgb(36,36,36)",
             "ticks": "outside"
            },
            "colorscale": [
             [
              0,
              "#440154"
             ],
             [
              0.1111111111111111,
              "#482878"
             ],
             [
              0.2222222222222222,
              "#3e4989"
             ],
             [
              0.3333333333333333,
              "#31688e"
             ],
             [
              0.4444444444444444,
              "#26828e"
             ],
             [
              0.5555555555555556,
              "#1f9e89"
             ],
             [
              0.6666666666666666,
              "#35b779"
             ],
             [
              0.7777777777777778,
              "#6ece58"
             ],
             [
              0.8888888888888888,
              "#b5de2b"
             ],
             [
              1,
              "#fde725"
             ]
            ],
            "type": "surface"
           }
          ],
          "table": [
           {
            "cells": {
             "fill": {
              "color": "rgb(237,237,237)"
             },
             "line": {
              "color": "white"
             }
            },
            "header": {
             "fill": {
              "color": "rgb(217,217,217)"
             },
             "line": {
              "color": "white"
             }
            },
            "type": "table"
           }
          ]
         },
         "layout": {
          "annotationdefaults": {
           "arrowcolor": "#2a3f5f",
           "arrowhead": 0,
           "arrowwidth": 1
          },
          "autotypenumbers": "strict",
          "coloraxis": {
           "colorbar": {
            "outlinewidth": 1,
            "tickcolor": "rgb(36,36,36)",
            "ticks": "outside"
           }
          },
          "colorscale": {
           "diverging": [
            [
             0,
             "rgb(103,0,31)"
            ],
            [
             0.1,
             "rgb(178,24,43)"
            ],
            [
             0.2,
             "rgb(214,96,77)"
            ],
            [
             0.3,
             "rgb(244,165,130)"
            ],
            [
             0.4,
             "rgb(253,219,199)"
            ],
            [
             0.5,
             "rgb(247,247,247)"
            ],
            [
             0.6,
             "rgb(209,229,240)"
            ],
            [
             0.7,
             "rgb(146,197,222)"
            ],
            [
             0.8,
             "rgb(67,147,195)"
            ],
            [
             0.9,
             "rgb(33,102,172)"
            ],
            [
             1,
             "rgb(5,48,97)"
            ]
           ],
           "sequential": [
            [
             0,
             "#440154"
            ],
            [
             0.1111111111111111,
             "#482878"
            ],
            [
             0.2222222222222222,
             "#3e4989"
            ],
            [
             0.3333333333333333,
             "#31688e"
            ],
            [
             0.4444444444444444,
             "#26828e"
            ],
            [
             0.5555555555555556,
             "#1f9e89"
            ],
            [
             0.6666666666666666,
             "#35b779"
            ],
            [
             0.7777777777777778,
             "#6ece58"
            ],
            [
             0.8888888888888888,
             "#b5de2b"
            ],
            [
             1,
             "#fde725"
            ]
           ],
           "sequentialminus": [
            [
             0,
             "#440154"
            ],
            [
             0.1111111111111111,
             "#482878"
            ],
            [
             0.2222222222222222,
             "#3e4989"
            ],
            [
             0.3333333333333333,
             "#31688e"
            ],
            [
             0.4444444444444444,
             "#26828e"
            ],
            [
             0.5555555555555556,
             "#1f9e89"
            ],
            [
             0.6666666666666666,
             "#35b779"
            ],
            [
             0.7777777777777778,
             "#6ece58"
            ],
            [
             0.8888888888888888,
             "#b5de2b"
            ],
            [
             1,
             "#fde725"
            ]
           ]
          },
          "colorway": [
           "#1F77B4",
           "#FF7F0E",
           "#2CA02C",
           "#D62728",
           "#9467BD",
           "#8C564B",
           "#E377C2",
           "#7F7F7F",
           "#BCBD22",
           "#17BECF"
          ],
          "font": {
           "color": "rgb(36,36,36)"
          },
          "geo": {
           "bgcolor": "white",
           "lakecolor": "white",
           "landcolor": "white",
           "showlakes": true,
           "showland": true,
           "subunitcolor": "white"
          },
          "hoverlabel": {
           "align": "left"
          },
          "hovermode": "closest",
          "mapbox": {
           "style": "light"
          },
          "paper_bgcolor": "white",
          "plot_bgcolor": "white",
          "polar": {
           "angularaxis": {
            "gridcolor": "rgb(232,232,232)",
            "linecolor": "rgb(36,36,36)",
            "showgrid": false,
            "showline": true,
            "ticks": "outside"
           },
           "bgcolor": "white",
           "radialaxis": {
            "gridcolor": "rgb(232,232,232)",
            "linecolor": "rgb(36,36,36)",
            "showgrid": false,
            "showline": true,
            "ticks": "outside"
           }
          },
          "scene": {
           "xaxis": {
            "backgroundcolor": "white",
            "gridcolor": "rgb(232,232,232)",
            "gridwidth": 2,
            "linecolor": "rgb(36,36,36)",
            "showbackground": true,
            "showgrid": false,
            "showline": true,
            "ticks": "outside",
            "zeroline": false,
            "zerolinecolor": "rgb(36,36,36)"
           },
           "yaxis": {
            "backgroundcolor": "white",
            "gridcolor": "rgb(232,232,232)",
            "gridwidth": 2,
            "linecolor": "rgb(36,36,36)",
            "showbackground": true,
            "showgrid": false,
            "showline": true,
            "ticks": "outside",
            "zeroline": false,
            "zerolinecolor": "rgb(36,36,36)"
           },
           "zaxis": {
            "backgroundcolor": "white",
            "gridcolor": "rgb(232,232,232)",
            "gridwidth": 2,
            "linecolor": "rgb(36,36,36)",
            "showbackground": true,
            "showgrid": false,
            "showline": true,
            "ticks": "outside",
            "zeroline": false,
            "zerolinecolor": "rgb(36,36,36)"
           }
          },
          "shapedefaults": {
           "fillcolor": "black",
           "line": {
            "color": "#2a3f5f",
            "width": 0
           },
           "opacity": 0.3
          },
          "ternary": {
           "aaxis": {
            "gridcolor": "rgb(232,232,232)",
            "linecolor": "rgb(36,36,36)",
            "showgrid": false,
            "showline": true,
            "ticks": "outside"
           },
           "baxis": {
            "gridcolor": "rgb(232,232,232)",
            "linecolor": "rgb(36,36,36)",
            "showgrid": false,
            "showline": true,
            "ticks": "outside"
           },
           "bgcolor": "white",
           "caxis": {
            "gridcolor": "rgb(232,232,232)",
            "linecolor": "rgb(36,36,36)",
            "showgrid": false,
            "showline": true,
            "ticks": "outside"
           }
          },
          "title": {
           "x": 0.05
          },
          "xaxis": {
           "automargin": true,
           "gridcolor": "rgb(232,232,232)",
           "linecolor": "rgb(36,36,36)",
           "showgrid": false,
           "showline": true,
           "ticks": "outside",
           "title": {
            "standoff": 15
           },
           "zeroline": false,
           "zerolinecolor": "rgb(36,36,36)",
           "zerolinewidth": 2
          },
          "yaxis": {
           "automargin": true,
           "gridcolor": "rgb(232,232,232)",
           "linecolor": "rgb(36,36,36)",
           "showgrid": true,
           "showline": false,
           "ticks": "outside",
           "title": {
            "standoff": 15
           },
           "zeroline": false,
           "zerolinecolor": "rgb(36,36,36)",
           "zerolinewidth": 2
          }
         }
        },
        "title": {
         "text": "Diabetes dataset"
        },
        "xaxis": {
         "anchor": "y",
         "domain": [
          0,
          1
         ],
         "range": [
          10,
          50
         ],
         "title": {
          "text": "bmi"
         }
        },
        "yaxis": {
         "anchor": "x",
         "domain": [
          0,
          1
         ],
         "range": [
          0,
          50
         ],
         "title": {
          "text": "count"
         }
        }
       }
      }
     },
     "metadata": {},
     "output_type": "display_data"
    }
   ],
   "source": [
    "# スライダー左のボタンを消去\n",
    "figure['layout'].pop('updatemenus')\n",
    "\n",
    "figure"
   ]
  },
  {
   "cell_type": "code",
   "execution_count": 5,
   "metadata": {},
   "outputs": [
    {
     "data": {
      "text/plain": [
       "[Frame({\n",
       "     'data': [{'type': 'histogram', 'x': array([19.2, 23.2, 25.3]), 'xbins': {'size': 2.0, 'start': 10.0}}],\n",
       "     'layout': {'title': {'text': '~ 19 years old'}},\n",
       "     'name': 'under20'\n",
       " }),\n",
       " Frame({\n",
       "     'data': [{'type': 'histogram',\n",
       "               'x': array([22.9, 22.1, 24.2, 20.1, 24.2, 18.6, 23. , 19.9, 19.3, 22.6, 18. , 18.8,\n",
       "                           29. , 20.7, 25.3, 22.5, 22.6, 23.5, 26. , 24.3, 28.3, 18.8, 30.3, 19.6,\n",
       "                           24.8, 22.6, 33.6, 25.4, 19.2, 24.7, 22.1, 30.4, 25.5, 31.5, 24.2, 35. ,\n",
       "                           19.4, 30. , 18.1, 21. , 26. , 20.9, 21.3, 25.2, 19. , 23.3, 29.7, 35.3,\n",
       "                           25.4, 26.5, 31. , 22. , 31.4, 30.5, 27.8, 18.9, 25.3, 25.4, 19.5, 20.8,\n",
       "                           35. , 20.6, 24.7, 35.5, 22.6, 20.6, 30. , 25.3, 31.4, 26.3, 21.2, 33. ,\n",
       "                           29.2, 25.5, 25.2, 25.9, 20.4, 41.3, 28.7, 26.8, 21.1, 24.1, 27.8, 39.1,\n",
       "                           30. , 22.8, 21.9, 32.3, 22. , 24.1, 19.6, 20.2, 30.8, 23.6, 20.3, 21.4,\n",
       "                           38.3, 26.8, 23.3, 30.2, 21.8, 27.7, 33. , 25.4, 26.8, 32.6, 27.3, 21.3,\n",
       "                           22.9, 26.9, 21.2, 20.9, 26.3, 24. ]),\n",
       "               'xbins': {'size': 2.0, 'start': 10.0}}],\n",
       "     'layout': {'title': {'text': '20 ~ 39 years old'}},\n",
       "     'name': 'under40'\n",
       " }),\n",
       " Frame({\n",
       "     'data': [{'type': 'histogram',\n",
       "               'x': array([29. , 26.9, 26.5, ..., 23.6, 25.5, 27.9]),\n",
       "               'xbins': {'size': 2.0, 'start': 10.0}}],\n",
       "     'layout': {'title': {'text': '40 ~ 59 years old'}},\n",
       "     'name': 'under60'\n",
       " }),\n",
       " Frame({\n",
       "     'data': [{'type': 'histogram',\n",
       "               'x': array([22.3, 24.3, 28.2, 22.8, 27.5, 27.7, 25.6, 24.9, 25.6, 20.4, 25. , 23.4,\n",
       "                           33. , 25.7, 23.4, 32.1, 22.2, 31.2, 26.1, 24. , 32.7, 33. , 25.8, 24.6,\n",
       "                           32. , 28.2, 26.9, 25.8, 23.1, 25.6, 30. , 34.6, 23.5, 22.5, 37.8, 22.4,\n",
       "                           31.8, 33.9, 32. , 33.3, 28.9, 26.7, 25.5, 24.4, 24.1, 26. , 20. , 28.4,\n",
       "                           23.5, 27.3, 21. , 27.9, 31.3, 28.5, 30.2, 26.3, 33.5, 24.4, 34.6, 28. ,\n",
       "                           26.2, 24. , 21.7, 26. , 22.8, 23.5, 25.8, 22.5, 23. , 20.7, 24. , 26.7,\n",
       "                           31.6, 23.6, 29.8, 25. , 28.3, 24.8, 25.9, 27.5, 27.5, 32.8, 23.5, 25.7,\n",
       "                           29.3, 24.5, 28.1, 29.6, 37. , 34.3, 24.1, 26.5, 24. , 27. , 26.1, 29.5,\n",
       "                           30.5, 27. , 29.8, 30.1, 31.2, 23.3, 27. ]),\n",
       "               'xbins': {'size': 2.0, 'start': 10.0}}],\n",
       "     'layout': {'title': {'text': '60 years old ~'}},\n",
       "     'name': 'over60'\n",
       " })]"
      ]
     },
     "execution_count": 5,
     "metadata": {},
     "output_type": "execute_result"
    }
   ],
   "source": [
    "generations = {\n",
    "    'under20': '~ 19 years old',\n",
    "    'under40': '20 ~ 39 years old',\n",
    "    'under60': '40 ~ 59 years old',\n",
    "    'over60': '60 years old ~'\n",
    "}\n",
    "\n",
    "# Frameのlistを作成\n",
    "frames = []\n",
    "for key, value in generations.items():\n",
    "    # Frameに追加するTraceの作成\n",
    "    trace = go.Histogram(\n",
    "        x=df[df['generation'] == key]['bmi'],\n",
    "        xbins={\n",
    "            'start': 10.,\n",
    "            'size': 2.\n",
    "        }\n",
    "    )   # 世代別のBMIのヒストグラム\n",
    "    \n",
    "    # Frameの作成\n",
    "    frame = go.Frame(\n",
    "        data=trace, \n",
    "        name=key, \n",
    "        layout={'title': value}\n",
    "    )\n",
    "\n",
    "    frames.append(frame)    # Frameを追加 \n",
    "\n",
    "frames"
   ]
  },
  {
   "cell_type": "code",
   "execution_count": 6,
   "metadata": {},
   "outputs": [
    {
     "data": {
      "application/vnd.plotly.v1+json": {
       "config": {
        "plotlyServerURL": "https://plot.ly"
       },
       "data": [
        {
         "type": "histogram",
         "x": [
          19.2,
          23.2,
          25.3
         ],
         "xbins": {
          "size": 2,
          "start": 10
         }
        }
       ],
       "frames": [
        {
         "data": [
          {
           "type": "histogram",
           "x": [
            19.2,
            23.2,
            25.3
           ],
           "xbins": {
            "size": 2,
            "start": 10
           }
          }
         ],
         "layout": {
          "title": {
           "text": "~ 19 years old"
          }
         },
         "name": "under20"
        },
        {
         "data": [
          {
           "type": "histogram",
           "x": [
            22.9,
            22.1,
            24.2,
            20.1,
            24.2,
            18.6,
            23,
            19.9,
            19.3,
            22.6,
            18,
            18.8,
            29,
            20.7,
            25.3,
            22.5,
            22.6,
            23.5,
            26,
            24.3,
            28.3,
            18.8,
            30.3,
            19.6,
            24.8,
            22.6,
            33.6,
            25.4,
            19.2,
            24.7,
            22.1,
            30.4,
            25.5,
            31.5,
            24.2,
            35,
            19.4,
            30,
            18.1,
            21,
            26,
            20.9,
            21.3,
            25.2,
            19,
            23.3,
            29.7,
            35.3,
            25.4,
            26.5,
            31,
            22,
            31.4,
            30.5,
            27.8,
            18.9,
            25.3,
            25.4,
            19.5,
            20.8,
            35,
            20.6,
            24.7,
            35.5,
            22.6,
            20.6,
            30,
            25.3,
            31.4,
            26.3,
            21.2,
            33,
            29.2,
            25.5,
            25.2,
            25.9,
            20.4,
            41.3,
            28.7,
            26.8,
            21.1,
            24.1,
            27.8,
            39.1,
            30,
            22.8,
            21.9,
            32.3,
            22,
            24.1,
            19.6,
            20.2,
            30.8,
            23.6,
            20.3,
            21.4,
            38.3,
            26.8,
            23.3,
            30.2,
            21.8,
            27.7,
            33,
            25.4,
            26.8,
            32.6,
            27.3,
            21.3,
            22.9,
            26.9,
            21.2,
            20.9,
            26.3,
            24
           ],
           "xbins": {
            "size": 2,
            "start": 10
           }
          }
         ],
         "layout": {
          "title": {
           "text": "20 ~ 39 years old"
          }
         },
         "name": "under40"
        },
        {
         "data": [
          {
           "type": "histogram",
           "x": [
            29,
            26.9,
            26.5,
            31.9,
            30.7,
            25.7,
            23.1,
            24.9,
            33.8,
            30.8,
            32,
            24.2,
            32.4,
            21.2,
            20.5,
            34.6,
            24.7,
            20.2,
            32,
            20.8,
            30.1,
            31.9,
            29.2,
            22.1,
            20.3,
            30.6,
            24,
            24.9,
            19.9,
            30.6,
            26.8,
            34.3,
            22.1,
            28.1,
            18.5,
            21.3,
            35.4,
            23.1,
            26.6,
            31.4,
            38.2,
            21.5,
            25.4,
            25.1,
            24.2,
            21.2,
            32,
            20.3,
            21.1,
            42.2,
            23.8,
            26.5,
            29.9,
            24.7,
            27.4,
            23.5,
            24.9,
            20.6,
            22.7,
            26.5,
            24.9,
            23.3,
            22.5,
            27.2,
            30.4,
            25.6,
            25.3,
            32.4,
            28.6,
            30.3,
            31.6,
            21.6,
            24.1,
            29.5,
            32.7,
            23.3,
            33,
            29.2,
            27.7,
            19.9,
            20.4,
            31.4,
            23.9,
            22.8,
            20.2,
            25.9,
            25.8,
            27.4,
            22.1,
            26,
            22.7,
            21,
            19.8,
            25.6,
            28.8,
            31.9,
            20.3,
            29.2,
            23,
            31.8,
            25.6,
            26.2,
            26.1,
            31,
            31.9,
            21.9,
            23.7,
            21,
            28,
            29.6,
            31.5,
            24.5,
            29.2,
            23.5,
            24.3,
            25.2,
            22.7,
            27.7,
            30.6,
            28.1,
            26.2,
            25.9,
            27.9,
            24.1,
            23.4,
            32.8,
            24.3,
            26.4,
            24,
            27.8,
            24.5,
            26.6,
            23,
            28.8,
            29.5,
            27,
            19.7,
            29.7,
            28.5,
            24.5,
            33.2,
            26.5,
            24.1,
            28,
            27.7,
            22.2,
            22.2,
            22,
            24.4,
            28.8,
            26.6,
            23.7,
            33.1,
            27.3,
            22.1,
            28.3,
            28.6,
            20.5,
            22.1,
            23.2,
            30.6,
            26.8,
            26.8,
            27.7,
            22.6,
            25.2,
            24.2,
            27.3,
            21,
            36.1,
            22.9,
            24.6,
            32.1,
            23.5,
            23,
            22.7,
            32.1,
            24.5,
            32.9,
            23.4,
            28.2,
            36.6,
            25.8,
            35.1,
            25.7,
            35,
            27,
            28,
            28.7,
            31,
            23.1,
            25.6,
            26.9,
            29.4,
            31.6,
            31.9,
            36.1,
            23.2,
            21.7,
            23.3,
            30.1,
            30.7,
            24.5,
            28.1,
            22.8,
            36.7,
            26.2,
            23.6,
            38,
            29,
            25.7,
            25.5,
            23.6,
            24.7,
            26.9,
            32.1,
            27.2,
            25.1,
            24.1,
            23.6,
            25.5,
            27.9
           ],
           "xbins": {
            "size": 2,
            "start": 10
           }
          }
         ],
         "layout": {
          "title": {
           "text": "40 ~ 59 years old"
          }
         },
         "name": "under60"
        },
        {
         "data": [
          {
           "type": "histogram",
           "x": [
            22.3,
            24.3,
            28.2,
            22.8,
            27.5,
            27.7,
            25.6,
            24.9,
            25.6,
            20.4,
            25,
            23.4,
            33,
            25.7,
            23.4,
            32.1,
            22.2,
            31.2,
            26.1,
            24,
            32.7,
            33,
            25.8,
            24.6,
            32,
            28.2,
            26.9,
            25.8,
            23.1,
            25.6,
            30,
            34.6,
            23.5,
            22.5,
            37.8,
            22.4,
            31.8,
            33.9,
            32,
            33.3,
            28.9,
            26.7,
            25.5,
            24.4,
            24.1,
            26,
            20,
            28.4,
            23.5,
            27.3,
            21,
            27.9,
            31.3,
            28.5,
            30.2,
            26.3,
            33.5,
            24.4,
            34.6,
            28,
            26.2,
            24,
            21.7,
            26,
            22.8,
            23.5,
            25.8,
            22.5,
            23,
            20.7,
            24,
            26.7,
            31.6,
            23.6,
            29.8,
            25,
            28.3,
            24.8,
            25.9,
            27.5,
            27.5,
            32.8,
            23.5,
            25.7,
            29.3,
            24.5,
            28.1,
            29.6,
            37,
            34.3,
            24.1,
            26.5,
            24,
            27,
            26.1,
            29.5,
            30.5,
            27,
            29.8,
            30.1,
            31.2,
            23.3,
            27
           ],
           "xbins": {
            "size": 2,
            "start": 10
           }
          }
         ],
         "layout": {
          "title": {
           "text": "60 years old ~"
          }
         },
         "name": "over60"
        }
       ],
       "layout": {
        "template": {
         "data": {
          "bar": [
           {
            "error_x": {
             "color": "rgb(36,36,36)"
            },
            "error_y": {
             "color": "rgb(36,36,36)"
            },
            "marker": {
             "line": {
              "color": "white",
              "width": 0.5
             },
             "pattern": {
              "fillmode": "overlay",
              "size": 10,
              "solidity": 0.2
             }
            },
            "type": "bar"
           }
          ],
          "barpolar": [
           {
            "marker": {
             "line": {
              "color": "white",
              "width": 0.5
             },
             "pattern": {
              "fillmode": "overlay",
              "size": 10,
              "solidity": 0.2
             }
            },
            "type": "barpolar"
           }
          ],
          "carpet": [
           {
            "aaxis": {
             "endlinecolor": "rgb(36,36,36)",
             "gridcolor": "white",
             "linecolor": "white",
             "minorgridcolor": "white",
             "startlinecolor": "rgb(36,36,36)"
            },
            "baxis": {
             "endlinecolor": "rgb(36,36,36)",
             "gridcolor": "white",
             "linecolor": "white",
             "minorgridcolor": "white",
             "startlinecolor": "rgb(36,36,36)"
            },
            "type": "carpet"
           }
          ],
          "choropleth": [
           {
            "colorbar": {
             "outlinewidth": 1,
             "tickcolor": "rgb(36,36,36)",
             "ticks": "outside"
            },
            "type": "choropleth"
           }
          ],
          "contour": [
           {
            "colorbar": {
             "outlinewidth": 1,
             "tickcolor": "rgb(36,36,36)",
             "ticks": "outside"
            },
            "colorscale": [
             [
              0,
              "#440154"
             ],
             [
              0.1111111111111111,
              "#482878"
             ],
             [
              0.2222222222222222,
              "#3e4989"
             ],
             [
              0.3333333333333333,
              "#31688e"
             ],
             [
              0.4444444444444444,
              "#26828e"
             ],
             [
              0.5555555555555556,
              "#1f9e89"
             ],
             [
              0.6666666666666666,
              "#35b779"
             ],
             [
              0.7777777777777778,
              "#6ece58"
             ],
             [
              0.8888888888888888,
              "#b5de2b"
             ],
             [
              1,
              "#fde725"
             ]
            ],
            "type": "contour"
           }
          ],
          "contourcarpet": [
           {
            "colorbar": {
             "outlinewidth": 1,
             "tickcolor": "rgb(36,36,36)",
             "ticks": "outside"
            },
            "type": "contourcarpet"
           }
          ],
          "heatmap": [
           {
            "colorbar": {
             "outlinewidth": 1,
             "tickcolor": "rgb(36,36,36)",
             "ticks": "outside"
            },
            "colorscale": [
             [
              0,
              "#440154"
             ],
             [
              0.1111111111111111,
              "#482878"
             ],
             [
              0.2222222222222222,
              "#3e4989"
             ],
             [
              0.3333333333333333,
              "#31688e"
             ],
             [
              0.4444444444444444,
              "#26828e"
             ],
             [
              0.5555555555555556,
              "#1f9e89"
             ],
             [
              0.6666666666666666,
              "#35b779"
             ],
             [
              0.7777777777777778,
              "#6ece58"
             ],
             [
              0.8888888888888888,
              "#b5de2b"
             ],
             [
              1,
              "#fde725"
             ]
            ],
            "type": "heatmap"
           }
          ],
          "heatmapgl": [
           {
            "colorbar": {
             "outlinewidth": 1,
             "tickcolor": "rgb(36,36,36)",
             "ticks": "outside"
            },
            "colorscale": [
             [
              0,
              "#440154"
             ],
             [
              0.1111111111111111,
              "#482878"
             ],
             [
              0.2222222222222222,
              "#3e4989"
             ],
             [
              0.3333333333333333,
              "#31688e"
             ],
             [
              0.4444444444444444,
              "#26828e"
             ],
             [
              0.5555555555555556,
              "#1f9e89"
             ],
             [
              0.6666666666666666,
              "#35b779"
             ],
             [
              0.7777777777777778,
              "#6ece58"
             ],
             [
              0.8888888888888888,
              "#b5de2b"
             ],
             [
              1,
              "#fde725"
             ]
            ],
            "type": "heatmapgl"
           }
          ],
          "histogram": [
           {
            "marker": {
             "line": {
              "color": "white",
              "width": 0.6
             }
            },
            "type": "histogram"
           }
          ],
          "histogram2d": [
           {
            "colorbar": {
             "outlinewidth": 1,
             "tickcolor": "rgb(36,36,36)",
             "ticks": "outside"
            },
            "colorscale": [
             [
              0,
              "#440154"
             ],
             [
              0.1111111111111111,
              "#482878"
             ],
             [
              0.2222222222222222,
              "#3e4989"
             ],
             [
              0.3333333333333333,
              "#31688e"
             ],
             [
              0.4444444444444444,
              "#26828e"
             ],
             [
              0.5555555555555556,
              "#1f9e89"
             ],
             [
              0.6666666666666666,
              "#35b779"
             ],
             [
              0.7777777777777778,
              "#6ece58"
             ],
             [
              0.8888888888888888,
              "#b5de2b"
             ],
             [
              1,
              "#fde725"
             ]
            ],
            "type": "histogram2d"
           }
          ],
          "histogram2dcontour": [
           {
            "colorbar": {
             "outlinewidth": 1,
             "tickcolor": "rgb(36,36,36)",
             "ticks": "outside"
            },
            "colorscale": [
             [
              0,
              "#440154"
             ],
             [
              0.1111111111111111,
              "#482878"
             ],
             [
              0.2222222222222222,
              "#3e4989"
             ],
             [
              0.3333333333333333,
              "#31688e"
             ],
             [
              0.4444444444444444,
              "#26828e"
             ],
             [
              0.5555555555555556,
              "#1f9e89"
             ],
             [
              0.6666666666666666,
              "#35b779"
             ],
             [
              0.7777777777777778,
              "#6ece58"
             ],
             [
              0.8888888888888888,
              "#b5de2b"
             ],
             [
              1,
              "#fde725"
             ]
            ],
            "type": "histogram2dcontour"
           }
          ],
          "mesh3d": [
           {
            "colorbar": {
             "outlinewidth": 1,
             "tickcolor": "rgb(36,36,36)",
             "ticks": "outside"
            },
            "type": "mesh3d"
           }
          ],
          "parcoords": [
           {
            "line": {
             "colorbar": {
              "outlinewidth": 1,
              "tickcolor": "rgb(36,36,36)",
              "ticks": "outside"
             }
            },
            "type": "parcoords"
           }
          ],
          "pie": [
           {
            "automargin": true,
            "type": "pie"
           }
          ],
          "scatter": [
           {
            "fillpattern": {
             "fillmode": "overlay",
             "size": 10,
             "solidity": 0.2
            },
            "type": "scatter"
           }
          ],
          "scatter3d": [
           {
            "line": {
             "colorbar": {
              "outlinewidth": 1,
              "tickcolor": "rgb(36,36,36)",
              "ticks": "outside"
             }
            },
            "marker": {
             "colorbar": {
              "outlinewidth": 1,
              "tickcolor": "rgb(36,36,36)",
              "ticks": "outside"
             }
            },
            "type": "scatter3d"
           }
          ],
          "scattercarpet": [
           {
            "marker": {
             "colorbar": {
              "outlinewidth": 1,
              "tickcolor": "rgb(36,36,36)",
              "ticks": "outside"
             }
            },
            "type": "scattercarpet"
           }
          ],
          "scattergeo": [
           {
            "marker": {
             "colorbar": {
              "outlinewidth": 1,
              "tickcolor": "rgb(36,36,36)",
              "ticks": "outside"
             }
            },
            "type": "scattergeo"
           }
          ],
          "scattergl": [
           {
            "marker": {
             "colorbar": {
              "outlinewidth": 1,
              "tickcolor": "rgb(36,36,36)",
              "ticks": "outside"
             }
            },
            "type": "scattergl"
           }
          ],
          "scattermapbox": [
           {
            "marker": {
             "colorbar": {
              "outlinewidth": 1,
              "tickcolor": "rgb(36,36,36)",
              "ticks": "outside"
             }
            },
            "type": "scattermapbox"
           }
          ],
          "scatterpolar": [
           {
            "marker": {
             "colorbar": {
              "outlinewidth": 1,
              "tickcolor": "rgb(36,36,36)",
              "ticks": "outside"
             }
            },
            "type": "scatterpolar"
           }
          ],
          "scatterpolargl": [
           {
            "marker": {
             "colorbar": {
              "outlinewidth": 1,
              "tickcolor": "rgb(36,36,36)",
              "ticks": "outside"
             }
            },
            "type": "scatterpolargl"
           }
          ],
          "scatterternary": [
           {
            "marker": {
             "colorbar": {
              "outlinewidth": 1,
              "tickcolor": "rgb(36,36,36)",
              "ticks": "outside"
             }
            },
            "type": "scatterternary"
           }
          ],
          "surface": [
           {
            "colorbar": {
             "outlinewidth": 1,
             "tickcolor": "rgb(36,36,36)",
             "ticks": "outside"
            },
            "colorscale": [
             [
              0,
              "#440154"
             ],
             [
              0.1111111111111111,
              "#482878"
             ],
             [
              0.2222222222222222,
              "#3e4989"
             ],
             [
              0.3333333333333333,
              "#31688e"
             ],
             [
              0.4444444444444444,
              "#26828e"
             ],
             [
              0.5555555555555556,
              "#1f9e89"
             ],
             [
              0.6666666666666666,
              "#35b779"
             ],
             [
              0.7777777777777778,
              "#6ece58"
             ],
             [
              0.8888888888888888,
              "#b5de2b"
             ],
             [
              1,
              "#fde725"
             ]
            ],
            "type": "surface"
           }
          ],
          "table": [
           {
            "cells": {
             "fill": {
              "color": "rgb(237,237,237)"
             },
             "line": {
              "color": "white"
             }
            },
            "header": {
             "fill": {
              "color": "rgb(217,217,217)"
             },
             "line": {
              "color": "white"
             }
            },
            "type": "table"
           }
          ]
         },
         "layout": {
          "annotationdefaults": {
           "arrowhead": 0,
           "arrowwidth": 1
          },
          "autotypenumbers": "strict",
          "coloraxis": {
           "colorbar": {
            "outlinewidth": 1,
            "tickcolor": "rgb(36,36,36)",
            "ticks": "outside"
           }
          },
          "colorscale": {
           "diverging": [
            [
             0,
             "rgb(103,0,31)"
            ],
            [
             0.1,
             "rgb(178,24,43)"
            ],
            [
             0.2,
             "rgb(214,96,77)"
            ],
            [
             0.3,
             "rgb(244,165,130)"
            ],
            [
             0.4,
             "rgb(253,219,199)"
            ],
            [
             0.5,
             "rgb(247,247,247)"
            ],
            [
             0.6,
             "rgb(209,229,240)"
            ],
            [
             0.7,
             "rgb(146,197,222)"
            ],
            [
             0.8,
             "rgb(67,147,195)"
            ],
            [
             0.9,
             "rgb(33,102,172)"
            ],
            [
             1,
             "rgb(5,48,97)"
            ]
           ],
           "sequential": [
            [
             0,
             "#440154"
            ],
            [
             0.1111111111111111,
             "#482878"
            ],
            [
             0.2222222222222222,
             "#3e4989"
            ],
            [
             0.3333333333333333,
             "#31688e"
            ],
            [
             0.4444444444444444,
             "#26828e"
            ],
            [
             0.5555555555555556,
             "#1f9e89"
            ],
            [
             0.6666666666666666,
             "#35b779"
            ],
            [
             0.7777777777777778,
             "#6ece58"
            ],
            [
             0.8888888888888888,
             "#b5de2b"
            ],
            [
             1,
             "#fde725"
            ]
           ],
           "sequentialminus": [
            [
             0,
             "#440154"
            ],
            [
             0.1111111111111111,
             "#482878"
            ],
            [
             0.2222222222222222,
             "#3e4989"
            ],
            [
             0.3333333333333333,
             "#31688e"
            ],
            [
             0.4444444444444444,
             "#26828e"
            ],
            [
             0.5555555555555556,
             "#1f9e89"
            ],
            [
             0.6666666666666666,
             "#35b779"
            ],
            [
             0.7777777777777778,
             "#6ece58"
            ],
            [
             0.8888888888888888,
             "#b5de2b"
            ],
            [
             1,
             "#fde725"
            ]
           ]
          },
          "colorway": [
           "#1F77B4",
           "#FF7F0E",
           "#2CA02C",
           "#D62728",
           "#9467BD",
           "#8C564B",
           "#E377C2",
           "#7F7F7F",
           "#BCBD22",
           "#17BECF"
          ],
          "font": {
           "color": "rgb(36,36,36)"
          },
          "geo": {
           "bgcolor": "white",
           "lakecolor": "white",
           "landcolor": "white",
           "showlakes": true,
           "showland": true,
           "subunitcolor": "white"
          },
          "hoverlabel": {
           "align": "left"
          },
          "hovermode": "closest",
          "mapbox": {
           "style": "light"
          },
          "paper_bgcolor": "white",
          "plot_bgcolor": "white",
          "polar": {
           "angularaxis": {
            "gridcolor": "rgb(232,232,232)",
            "linecolor": "rgb(36,36,36)",
            "showgrid": false,
            "showline": true,
            "ticks": "outside"
           },
           "bgcolor": "white",
           "radialaxis": {
            "gridcolor": "rgb(232,232,232)",
            "linecolor": "rgb(36,36,36)",
            "showgrid": false,
            "showline": true,
            "ticks": "outside"
           }
          },
          "scene": {
           "xaxis": {
            "backgroundcolor": "white",
            "gridcolor": "rgb(232,232,232)",
            "gridwidth": 2,
            "linecolor": "rgb(36,36,36)",
            "showbackground": true,
            "showgrid": false,
            "showline": true,
            "ticks": "outside",
            "zeroline": false,
            "zerolinecolor": "rgb(36,36,36)"
           },
           "yaxis": {
            "backgroundcolor": "white",
            "gridcolor": "rgb(232,232,232)",
            "gridwidth": 2,
            "linecolor": "rgb(36,36,36)",
            "showbackground": true,
            "showgrid": false,
            "showline": true,
            "ticks": "outside",
            "zeroline": false,
            "zerolinecolor": "rgb(36,36,36)"
           },
           "zaxis": {
            "backgroundcolor": "white",
            "gridcolor": "rgb(232,232,232)",
            "gridwidth": 2,
            "linecolor": "rgb(36,36,36)",
            "showbackground": true,
            "showgrid": false,
            "showline": true,
            "ticks": "outside",
            "zeroline": false,
            "zerolinecolor": "rgb(36,36,36)"
           }
          },
          "shapedefaults": {
           "fillcolor": "black",
           "line": {
            "width": 0
           },
           "opacity": 0.3
          },
          "ternary": {
           "aaxis": {
            "gridcolor": "rgb(232,232,232)",
            "linecolor": "rgb(36,36,36)",
            "showgrid": false,
            "showline": true,
            "ticks": "outside"
           },
           "baxis": {
            "gridcolor": "rgb(232,232,232)",
            "linecolor": "rgb(36,36,36)",
            "showgrid": false,
            "showline": true,
            "ticks": "outside"
           },
           "bgcolor": "white",
           "caxis": {
            "gridcolor": "rgb(232,232,232)",
            "linecolor": "rgb(36,36,36)",
            "showgrid": false,
            "showline": true,
            "ticks": "outside"
           }
          },
          "title": {
           "x": 0.05
          },
          "xaxis": {
           "automargin": true,
           "gridcolor": "rgb(232,232,232)",
           "linecolor": "rgb(36,36,36)",
           "showgrid": false,
           "showline": true,
           "ticks": "outside",
           "title": {
            "standoff": 15
           },
           "zeroline": false,
           "zerolinecolor": "rgb(36,36,36)"
          },
          "yaxis": {
           "automargin": true,
           "gridcolor": "rgb(232,232,232)",
           "linecolor": "rgb(36,36,36)",
           "showgrid": true,
           "showline": false,
           "ticks": "outside",
           "title": {
            "standoff": 15
           },
           "zeroline": false,
           "zerolinecolor": "rgb(36,36,36)"
          }
         }
        },
        "updatemenus": [
         {
          "buttons": [
           {
            "args": [
             null,
             {
              "fromcurrent": true
             }
            ],
            "label": "Play",
            "method": "animate"
           },
           {
            "args": [
             [
              null
             ],
             {
              "mode": "immediate"
             }
            ],
            "label": "Pause",
            "method": "animate"
           }
          ],
          "direction": "left",
          "type": "buttons",
          "x": -0.1,
          "xanchor": "left",
          "y": -0.15,
          "yanchor": "top"
         }
        ],
        "xaxis": {
         "range": [
          10,
          50
         ],
         "title": {
          "text": "BMI"
         }
        },
        "yaxis": {
         "range": [
          0,
          50
         ],
         "title": {
          "text": "count"
         }
        }
       }
      }
     },
     "metadata": {},
     "output_type": "display_data"
    }
   ],
   "source": [
    "# 再生ボタン\n",
    "play_button = {\n",
    "    'args': [\n",
    "        None,\n",
    "        {'fromcurrent': True}    # 現在位置から再生再開する\n",
    "    ],\n",
    "    'label': 'Play',\n",
    "    'method': 'animate'\n",
    "}\n",
    "\n",
    "# 一時停止ボタン\n",
    "pause_button = {\n",
    "    'args': [\n",
    "        [None],\n",
    "        {'mode': 'immediate'}   # 停止するために必要\n",
    "    ],\n",
    "    'label': 'Pause',\n",
    "    'method': 'animate'\n",
    "}\n",
    "\n",
    "# ボタンメニュー\n",
    "button_menu = {\n",
    "    'buttons': [play_button, pause_button],\n",
    "    'direction': 'left',    # 2つのボタンを並べる方向\n",
    "    'xanchor': 'left',      # xアンカー位置（左）\n",
    "    'yanchor': 'top',       # yアンカー位置（上）\n",
    "    'x': -0.1,              # x位置\n",
    "    'y': -0.15,             # y位置\n",
    "    'type': 'buttons'\n",
    "}\n",
    "\n",
    "# Layoutの作成\n",
    "layout = go.Layout(\n",
    "    template=template,\n",
    "    xaxis={\n",
    "        'title': 'BMI',\n",
    "        'range': [10, 50]\n",
    "    },\n",
    "    yaxis={\n",
    "        'title': 'count',\n",
    "        'range': [0, 50]\n",
    "    },                    \n",
    "    updatemenus=[button_menu],\n",
    ")\n",
    "\n",
    "# Figureの作成\n",
    "figure = go.Figure(\n",
    "    data=frames[0]['data'],     # 最初に表示するグラフ\n",
    "    frames=frames,\n",
    "    layout=layout\n",
    ")\n",
    "\n",
    "figure"
   ]
  },
  {
   "cell_type": "code",
   "execution_count": 7,
   "metadata": {},
   "outputs": [
    {
     "data": {
      "application/vnd.plotly.v1+json": {
       "config": {
        "plotlyServerURL": "https://plot.ly"
       },
       "data": [
        {
         "type": "histogram",
         "x": [
          19.2,
          23.2,
          25.3
         ],
         "xbins": {
          "size": 2,
          "start": 10
         }
        }
       ],
       "frames": [
        {
         "data": [
          {
           "type": "histogram",
           "x": [
            19.2,
            23.2,
            25.3
           ],
           "xbins": {
            "size": 2,
            "start": 10
           }
          }
         ],
         "layout": {
          "title": {
           "text": "~ 19 years old"
          }
         },
         "name": "under20"
        },
        {
         "data": [
          {
           "type": "histogram",
           "x": [
            22.9,
            22.1,
            24.2,
            20.1,
            24.2,
            18.6,
            23,
            19.9,
            19.3,
            22.6,
            18,
            18.8,
            29,
            20.7,
            25.3,
            22.5,
            22.6,
            23.5,
            26,
            24.3,
            28.3,
            18.8,
            30.3,
            19.6,
            24.8,
            22.6,
            33.6,
            25.4,
            19.2,
            24.7,
            22.1,
            30.4,
            25.5,
            31.5,
            24.2,
            35,
            19.4,
            30,
            18.1,
            21,
            26,
            20.9,
            21.3,
            25.2,
            19,
            23.3,
            29.7,
            35.3,
            25.4,
            26.5,
            31,
            22,
            31.4,
            30.5,
            27.8,
            18.9,
            25.3,
            25.4,
            19.5,
            20.8,
            35,
            20.6,
            24.7,
            35.5,
            22.6,
            20.6,
            30,
            25.3,
            31.4,
            26.3,
            21.2,
            33,
            29.2,
            25.5,
            25.2,
            25.9,
            20.4,
            41.3,
            28.7,
            26.8,
            21.1,
            24.1,
            27.8,
            39.1,
            30,
            22.8,
            21.9,
            32.3,
            22,
            24.1,
            19.6,
            20.2,
            30.8,
            23.6,
            20.3,
            21.4,
            38.3,
            26.8,
            23.3,
            30.2,
            21.8,
            27.7,
            33,
            25.4,
            26.8,
            32.6,
            27.3,
            21.3,
            22.9,
            26.9,
            21.2,
            20.9,
            26.3,
            24
           ],
           "xbins": {
            "size": 2,
            "start": 10
           }
          }
         ],
         "layout": {
          "title": {
           "text": "20 ~ 39 years old"
          }
         },
         "name": "under40"
        },
        {
         "data": [
          {
           "type": "histogram",
           "x": [
            29,
            26.9,
            26.5,
            31.9,
            30.7,
            25.7,
            23.1,
            24.9,
            33.8,
            30.8,
            32,
            24.2,
            32.4,
            21.2,
            20.5,
            34.6,
            24.7,
            20.2,
            32,
            20.8,
            30.1,
            31.9,
            29.2,
            22.1,
            20.3,
            30.6,
            24,
            24.9,
            19.9,
            30.6,
            26.8,
            34.3,
            22.1,
            28.1,
            18.5,
            21.3,
            35.4,
            23.1,
            26.6,
            31.4,
            38.2,
            21.5,
            25.4,
            25.1,
            24.2,
            21.2,
            32,
            20.3,
            21.1,
            42.2,
            23.8,
            26.5,
            29.9,
            24.7,
            27.4,
            23.5,
            24.9,
            20.6,
            22.7,
            26.5,
            24.9,
            23.3,
            22.5,
            27.2,
            30.4,
            25.6,
            25.3,
            32.4,
            28.6,
            30.3,
            31.6,
            21.6,
            24.1,
            29.5,
            32.7,
            23.3,
            33,
            29.2,
            27.7,
            19.9,
            20.4,
            31.4,
            23.9,
            22.8,
            20.2,
            25.9,
            25.8,
            27.4,
            22.1,
            26,
            22.7,
            21,
            19.8,
            25.6,
            28.8,
            31.9,
            20.3,
            29.2,
            23,
            31.8,
            25.6,
            26.2,
            26.1,
            31,
            31.9,
            21.9,
            23.7,
            21,
            28,
            29.6,
            31.5,
            24.5,
            29.2,
            23.5,
            24.3,
            25.2,
            22.7,
            27.7,
            30.6,
            28.1,
            26.2,
            25.9,
            27.9,
            24.1,
            23.4,
            32.8,
            24.3,
            26.4,
            24,
            27.8,
            24.5,
            26.6,
            23,
            28.8,
            29.5,
            27,
            19.7,
            29.7,
            28.5,
            24.5,
            33.2,
            26.5,
            24.1,
            28,
            27.7,
            22.2,
            22.2,
            22,
            24.4,
            28.8,
            26.6,
            23.7,
            33.1,
            27.3,
            22.1,
            28.3,
            28.6,
            20.5,
            22.1,
            23.2,
            30.6,
            26.8,
            26.8,
            27.7,
            22.6,
            25.2,
            24.2,
            27.3,
            21,
            36.1,
            22.9,
            24.6,
            32.1,
            23.5,
            23,
            22.7,
            32.1,
            24.5,
            32.9,
            23.4,
            28.2,
            36.6,
            25.8,
            35.1,
            25.7,
            35,
            27,
            28,
            28.7,
            31,
            23.1,
            25.6,
            26.9,
            29.4,
            31.6,
            31.9,
            36.1,
            23.2,
            21.7,
            23.3,
            30.1,
            30.7,
            24.5,
            28.1,
            22.8,
            36.7,
            26.2,
            23.6,
            38,
            29,
            25.7,
            25.5,
            23.6,
            24.7,
            26.9,
            32.1,
            27.2,
            25.1,
            24.1,
            23.6,
            25.5,
            27.9
           ],
           "xbins": {
            "size": 2,
            "start": 10
           }
          }
         ],
         "layout": {
          "title": {
           "text": "40 ~ 59 years old"
          }
         },
         "name": "under60"
        },
        {
         "data": [
          {
           "type": "histogram",
           "x": [
            22.3,
            24.3,
            28.2,
            22.8,
            27.5,
            27.7,
            25.6,
            24.9,
            25.6,
            20.4,
            25,
            23.4,
            33,
            25.7,
            23.4,
            32.1,
            22.2,
            31.2,
            26.1,
            24,
            32.7,
            33,
            25.8,
            24.6,
            32,
            28.2,
            26.9,
            25.8,
            23.1,
            25.6,
            30,
            34.6,
            23.5,
            22.5,
            37.8,
            22.4,
            31.8,
            33.9,
            32,
            33.3,
            28.9,
            26.7,
            25.5,
            24.4,
            24.1,
            26,
            20,
            28.4,
            23.5,
            27.3,
            21,
            27.9,
            31.3,
            28.5,
            30.2,
            26.3,
            33.5,
            24.4,
            34.6,
            28,
            26.2,
            24,
            21.7,
            26,
            22.8,
            23.5,
            25.8,
            22.5,
            23,
            20.7,
            24,
            26.7,
            31.6,
            23.6,
            29.8,
            25,
            28.3,
            24.8,
            25.9,
            27.5,
            27.5,
            32.8,
            23.5,
            25.7,
            29.3,
            24.5,
            28.1,
            29.6,
            37,
            34.3,
            24.1,
            26.5,
            24,
            27,
            26.1,
            29.5,
            30.5,
            27,
            29.8,
            30.1,
            31.2,
            23.3,
            27
           ],
           "xbins": {
            "size": 2,
            "start": 10
           }
          }
         ],
         "layout": {
          "title": {
           "text": "60 years old ~"
          }
         },
         "name": "over60"
        }
       ],
       "layout": {
        "sliders": [
         {
          "len": 0.95,
          "steps": [
           {
            "args": [
             [
              "under20"
             ]
            ],
            "label": "<20",
            "method": "animate"
           },
           {
            "args": [
             [
              "under40"
             ]
            ],
            "label": "<40",
            "method": "animate"
           },
           {
            "args": [
             [
              "under60"
             ]
            ],
            "label": "<60",
            "method": "animate"
           },
           {
            "args": [
             [
              "over60"
             ]
            ],
            "label": ">=60",
            "method": "animate"
           }
          ],
          "x": 0.05
         }
        ],
        "template": {
         "data": {
          "bar": [
           {
            "error_x": {
             "color": "rgb(36,36,36)"
            },
            "error_y": {
             "color": "rgb(36,36,36)"
            },
            "marker": {
             "line": {
              "color": "white",
              "width": 0.5
             },
             "pattern": {
              "fillmode": "overlay",
              "size": 10,
              "solidity": 0.2
             }
            },
            "type": "bar"
           }
          ],
          "barpolar": [
           {
            "marker": {
             "line": {
              "color": "white",
              "width": 0.5
             },
             "pattern": {
              "fillmode": "overlay",
              "size": 10,
              "solidity": 0.2
             }
            },
            "type": "barpolar"
           }
          ],
          "carpet": [
           {
            "aaxis": {
             "endlinecolor": "rgb(36,36,36)",
             "gridcolor": "white",
             "linecolor": "white",
             "minorgridcolor": "white",
             "startlinecolor": "rgb(36,36,36)"
            },
            "baxis": {
             "endlinecolor": "rgb(36,36,36)",
             "gridcolor": "white",
             "linecolor": "white",
             "minorgridcolor": "white",
             "startlinecolor": "rgb(36,36,36)"
            },
            "type": "carpet"
           }
          ],
          "choropleth": [
           {
            "colorbar": {
             "outlinewidth": 1,
             "tickcolor": "rgb(36,36,36)",
             "ticks": "outside"
            },
            "type": "choropleth"
           }
          ],
          "contour": [
           {
            "colorbar": {
             "outlinewidth": 1,
             "tickcolor": "rgb(36,36,36)",
             "ticks": "outside"
            },
            "colorscale": [
             [
              0,
              "#440154"
             ],
             [
              0.1111111111111111,
              "#482878"
             ],
             [
              0.2222222222222222,
              "#3e4989"
             ],
             [
              0.3333333333333333,
              "#31688e"
             ],
             [
              0.4444444444444444,
              "#26828e"
             ],
             [
              0.5555555555555556,
              "#1f9e89"
             ],
             [
              0.6666666666666666,
              "#35b779"
             ],
             [
              0.7777777777777778,
              "#6ece58"
             ],
             [
              0.8888888888888888,
              "#b5de2b"
             ],
             [
              1,
              "#fde725"
             ]
            ],
            "type": "contour"
           }
          ],
          "contourcarpet": [
           {
            "colorbar": {
             "outlinewidth": 1,
             "tickcolor": "rgb(36,36,36)",
             "ticks": "outside"
            },
            "type": "contourcarpet"
           }
          ],
          "heatmap": [
           {
            "colorbar": {
             "outlinewidth": 1,
             "tickcolor": "rgb(36,36,36)",
             "ticks": "outside"
            },
            "colorscale": [
             [
              0,
              "#440154"
             ],
             [
              0.1111111111111111,
              "#482878"
             ],
             [
              0.2222222222222222,
              "#3e4989"
             ],
             [
              0.3333333333333333,
              "#31688e"
             ],
             [
              0.4444444444444444,
              "#26828e"
             ],
             [
              0.5555555555555556,
              "#1f9e89"
             ],
             [
              0.6666666666666666,
              "#35b779"
             ],
             [
              0.7777777777777778,
              "#6ece58"
             ],
             [
              0.8888888888888888,
              "#b5de2b"
             ],
             [
              1,
              "#fde725"
             ]
            ],
            "type": "heatmap"
           }
          ],
          "heatmapgl": [
           {
            "colorbar": {
             "outlinewidth": 1,
             "tickcolor": "rgb(36,36,36)",
             "ticks": "outside"
            },
            "colorscale": [
             [
              0,
              "#440154"
             ],
             [
              0.1111111111111111,
              "#482878"
             ],
             [
              0.2222222222222222,
              "#3e4989"
             ],
             [
              0.3333333333333333,
              "#31688e"
             ],
             [
              0.4444444444444444,
              "#26828e"
             ],
             [
              0.5555555555555556,
              "#1f9e89"
             ],
             [
              0.6666666666666666,
              "#35b779"
             ],
             [
              0.7777777777777778,
              "#6ece58"
             ],
             [
              0.8888888888888888,
              "#b5de2b"
             ],
             [
              1,
              "#fde725"
             ]
            ],
            "type": "heatmapgl"
           }
          ],
          "histogram": [
           {
            "marker": {
             "line": {
              "color": "white",
              "width": 0.6
             }
            },
            "type": "histogram"
           }
          ],
          "histogram2d": [
           {
            "colorbar": {
             "outlinewidth": 1,
             "tickcolor": "rgb(36,36,36)",
             "ticks": "outside"
            },
            "colorscale": [
             [
              0,
              "#440154"
             ],
             [
              0.1111111111111111,
              "#482878"
             ],
             [
              0.2222222222222222,
              "#3e4989"
             ],
             [
              0.3333333333333333,
              "#31688e"
             ],
             [
              0.4444444444444444,
              "#26828e"
             ],
             [
              0.5555555555555556,
              "#1f9e89"
             ],
             [
              0.6666666666666666,
              "#35b779"
             ],
             [
              0.7777777777777778,
              "#6ece58"
             ],
             [
              0.8888888888888888,
              "#b5de2b"
             ],
             [
              1,
              "#fde725"
             ]
            ],
            "type": "histogram2d"
           }
          ],
          "histogram2dcontour": [
           {
            "colorbar": {
             "outlinewidth": 1,
             "tickcolor": "rgb(36,36,36)",
             "ticks": "outside"
            },
            "colorscale": [
             [
              0,
              "#440154"
             ],
             [
              0.1111111111111111,
              "#482878"
             ],
             [
              0.2222222222222222,
              "#3e4989"
             ],
             [
              0.3333333333333333,
              "#31688e"
             ],
             [
              0.4444444444444444,
              "#26828e"
             ],
             [
              0.5555555555555556,
              "#1f9e89"
             ],
             [
              0.6666666666666666,
              "#35b779"
             ],
             [
              0.7777777777777778,
              "#6ece58"
             ],
             [
              0.8888888888888888,
              "#b5de2b"
             ],
             [
              1,
              "#fde725"
             ]
            ],
            "type": "histogram2dcontour"
           }
          ],
          "mesh3d": [
           {
            "colorbar": {
             "outlinewidth": 1,
             "tickcolor": "rgb(36,36,36)",
             "ticks": "outside"
            },
            "type": "mesh3d"
           }
          ],
          "parcoords": [
           {
            "line": {
             "colorbar": {
              "outlinewidth": 1,
              "tickcolor": "rgb(36,36,36)",
              "ticks": "outside"
             }
            },
            "type": "parcoords"
           }
          ],
          "pie": [
           {
            "automargin": true,
            "type": "pie"
           }
          ],
          "scatter": [
           {
            "fillpattern": {
             "fillmode": "overlay",
             "size": 10,
             "solidity": 0.2
            },
            "type": "scatter"
           }
          ],
          "scatter3d": [
           {
            "line": {
             "colorbar": {
              "outlinewidth": 1,
              "tickcolor": "rgb(36,36,36)",
              "ticks": "outside"
             }
            },
            "marker": {
             "colorbar": {
              "outlinewidth": 1,
              "tickcolor": "rgb(36,36,36)",
              "ticks": "outside"
             }
            },
            "type": "scatter3d"
           }
          ],
          "scattercarpet": [
           {
            "marker": {
             "colorbar": {
              "outlinewidth": 1,
              "tickcolor": "rgb(36,36,36)",
              "ticks": "outside"
             }
            },
            "type": "scattercarpet"
           }
          ],
          "scattergeo": [
           {
            "marker": {
             "colorbar": {
              "outlinewidth": 1,
              "tickcolor": "rgb(36,36,36)",
              "ticks": "outside"
             }
            },
            "type": "scattergeo"
           }
          ],
          "scattergl": [
           {
            "marker": {
             "colorbar": {
              "outlinewidth": 1,
              "tickcolor": "rgb(36,36,36)",
              "ticks": "outside"
             }
            },
            "type": "scattergl"
           }
          ],
          "scattermapbox": [
           {
            "marker": {
             "colorbar": {
              "outlinewidth": 1,
              "tickcolor": "rgb(36,36,36)",
              "ticks": "outside"
             }
            },
            "type": "scattermapbox"
           }
          ],
          "scatterpolar": [
           {
            "marker": {
             "colorbar": {
              "outlinewidth": 1,
              "tickcolor": "rgb(36,36,36)",
              "ticks": "outside"
             }
            },
            "type": "scatterpolar"
           }
          ],
          "scatterpolargl": [
           {
            "marker": {
             "colorbar": {
              "outlinewidth": 1,
              "tickcolor": "rgb(36,36,36)",
              "ticks": "outside"
             }
            },
            "type": "scatterpolargl"
           }
          ],
          "scatterternary": [
           {
            "marker": {
             "colorbar": {
              "outlinewidth": 1,
              "tickcolor": "rgb(36,36,36)",
              "ticks": "outside"
             }
            },
            "type": "scatterternary"
           }
          ],
          "surface": [
           {
            "colorbar": {
             "outlinewidth": 1,
             "tickcolor": "rgb(36,36,36)",
             "ticks": "outside"
            },
            "colorscale": [
             [
              0,
              "#440154"
             ],
             [
              0.1111111111111111,
              "#482878"
             ],
             [
              0.2222222222222222,
              "#3e4989"
             ],
             [
              0.3333333333333333,
              "#31688e"
             ],
             [
              0.4444444444444444,
              "#26828e"
             ],
             [
              0.5555555555555556,
              "#1f9e89"
             ],
             [
              0.6666666666666666,
              "#35b779"
             ],
             [
              0.7777777777777778,
              "#6ece58"
             ],
             [
              0.8888888888888888,
              "#b5de2b"
             ],
             [
              1,
              "#fde725"
             ]
            ],
            "type": "surface"
           }
          ],
          "table": [
           {
            "cells": {
             "fill": {
              "color": "rgb(237,237,237)"
             },
             "line": {
              "color": "white"
             }
            },
            "header": {
             "fill": {
              "color": "rgb(217,217,217)"
             },
             "line": {
              "color": "white"
             }
            },
            "type": "table"
           }
          ]
         },
         "layout": {
          "annotationdefaults": {
           "arrowhead": 0,
           "arrowwidth": 1
          },
          "autotypenumbers": "strict",
          "coloraxis": {
           "colorbar": {
            "outlinewidth": 1,
            "tickcolor": "rgb(36,36,36)",
            "ticks": "outside"
           }
          },
          "colorscale": {
           "diverging": [
            [
             0,
             "rgb(103,0,31)"
            ],
            [
             0.1,
             "rgb(178,24,43)"
            ],
            [
             0.2,
             "rgb(214,96,77)"
            ],
            [
             0.3,
             "rgb(244,165,130)"
            ],
            [
             0.4,
             "rgb(253,219,199)"
            ],
            [
             0.5,
             "rgb(247,247,247)"
            ],
            [
             0.6,
             "rgb(209,229,240)"
            ],
            [
             0.7,
             "rgb(146,197,222)"
            ],
            [
             0.8,
             "rgb(67,147,195)"
            ],
            [
             0.9,
             "rgb(33,102,172)"
            ],
            [
             1,
             "rgb(5,48,97)"
            ]
           ],
           "sequential": [
            [
             0,
             "#440154"
            ],
            [
             0.1111111111111111,
             "#482878"
            ],
            [
             0.2222222222222222,
             "#3e4989"
            ],
            [
             0.3333333333333333,
             "#31688e"
            ],
            [
             0.4444444444444444,
             "#26828e"
            ],
            [
             0.5555555555555556,
             "#1f9e89"
            ],
            [
             0.6666666666666666,
             "#35b779"
            ],
            [
             0.7777777777777778,
             "#6ece58"
            ],
            [
             0.8888888888888888,
             "#b5de2b"
            ],
            [
             1,
             "#fde725"
            ]
           ],
           "sequentialminus": [
            [
             0,
             "#440154"
            ],
            [
             0.1111111111111111,
             "#482878"
            ],
            [
             0.2222222222222222,
             "#3e4989"
            ],
            [
             0.3333333333333333,
             "#31688e"
            ],
            [
             0.4444444444444444,
             "#26828e"
            ],
            [
             0.5555555555555556,
             "#1f9e89"
            ],
            [
             0.6666666666666666,
             "#35b779"
            ],
            [
             0.7777777777777778,
             "#6ece58"
            ],
            [
             0.8888888888888888,
             "#b5de2b"
            ],
            [
             1,
             "#fde725"
            ]
           ]
          },
          "colorway": [
           "#1F77B4",
           "#FF7F0E",
           "#2CA02C",
           "#D62728",
           "#9467BD",
           "#8C564B",
           "#E377C2",
           "#7F7F7F",
           "#BCBD22",
           "#17BECF"
          ],
          "font": {
           "color": "rgb(36,36,36)"
          },
          "geo": {
           "bgcolor": "white",
           "lakecolor": "white",
           "landcolor": "white",
           "showlakes": true,
           "showland": true,
           "subunitcolor": "white"
          },
          "hoverlabel": {
           "align": "left"
          },
          "hovermode": "closest",
          "mapbox": {
           "style": "light"
          },
          "paper_bgcolor": "white",
          "plot_bgcolor": "white",
          "polar": {
           "angularaxis": {
            "gridcolor": "rgb(232,232,232)",
            "linecolor": "rgb(36,36,36)",
            "showgrid": false,
            "showline": true,
            "ticks": "outside"
           },
           "bgcolor": "white",
           "radialaxis": {
            "gridcolor": "rgb(232,232,232)",
            "linecolor": "rgb(36,36,36)",
            "showgrid": false,
            "showline": true,
            "ticks": "outside"
           }
          },
          "scene": {
           "xaxis": {
            "backgroundcolor": "white",
            "gridcolor": "rgb(232,232,232)",
            "gridwidth": 2,
            "linecolor": "rgb(36,36,36)",
            "showbackground": true,
            "showgrid": false,
            "showline": true,
            "ticks": "outside",
            "zeroline": false,
            "zerolinecolor": "rgb(36,36,36)"
           },
           "yaxis": {
            "backgroundcolor": "white",
            "gridcolor": "rgb(232,232,232)",
            "gridwidth": 2,
            "linecolor": "rgb(36,36,36)",
            "showbackground": true,
            "showgrid": false,
            "showline": true,
            "ticks": "outside",
            "zeroline": false,
            "zerolinecolor": "rgb(36,36,36)"
           },
           "zaxis": {
            "backgroundcolor": "white",
            "gridcolor": "rgb(232,232,232)",
            "gridwidth": 2,
            "linecolor": "rgb(36,36,36)",
            "showbackground": true,
            "showgrid": false,
            "showline": true,
            "ticks": "outside",
            "zeroline": false,
            "zerolinecolor": "rgb(36,36,36)"
           }
          },
          "shapedefaults": {
           "fillcolor": "black",
           "line": {
            "width": 0
           },
           "opacity": 0.3
          },
          "ternary": {
           "aaxis": {
            "gridcolor": "rgb(232,232,232)",
            "linecolor": "rgb(36,36,36)",
            "showgrid": false,
            "showline": true,
            "ticks": "outside"
           },
           "baxis": {
            "gridcolor": "rgb(232,232,232)",
            "linecolor": "rgb(36,36,36)",
            "showgrid": false,
            "showline": true,
            "ticks": "outside"
           },
           "bgcolor": "white",
           "caxis": {
            "gridcolor": "rgb(232,232,232)",
            "linecolor": "rgb(36,36,36)",
            "showgrid": false,
            "showline": true,
            "ticks": "outside"
           }
          },
          "title": {
           "x": 0.05
          },
          "xaxis": {
           "automargin": true,
           "gridcolor": "rgb(232,232,232)",
           "linecolor": "rgb(36,36,36)",
           "showgrid": false,
           "showline": true,
           "ticks": "outside",
           "title": {
            "standoff": 15
           },
           "zeroline": false,
           "zerolinecolor": "rgb(36,36,36)"
          },
          "yaxis": {
           "automargin": true,
           "gridcolor": "rgb(232,232,232)",
           "linecolor": "rgb(36,36,36)",
           "showgrid": true,
           "showline": false,
           "ticks": "outside",
           "title": {
            "standoff": 15
           },
           "zeroline": false,
           "zerolinecolor": "rgb(36,36,36)"
          }
         }
        },
        "updatemenus": [
         {
          "buttons": [
           {
            "args": [
             null,
             {
              "fromcurrent": true
             }
            ],
            "label": "Play",
            "method": "animate"
           },
           {
            "args": [
             [
              null
             ],
             {
              "mode": "immediate"
             }
            ],
            "label": "Pause",
            "method": "animate"
           }
          ],
          "direction": "left",
          "type": "buttons",
          "x": -0.1,
          "xanchor": "left",
          "y": -0.15,
          "yanchor": "top"
         }
        ],
        "xaxis": {
         "range": [
          10,
          50
         ],
         "title": {
          "text": "BMI"
         }
        },
        "yaxis": {
         "range": [
          0,
          50
         ],
         "title": {
          "text": "count"
         }
        }
       }
      }
     },
     "metadata": {},
     "output_type": "display_data"
    }
   ],
   "source": [
    "# スライダーに表示するラベル\n",
    "labels = ['<20', '<40', '<60', '>=60']\n",
    "\n",
    "# ステップを作成\n",
    "steps = []\n",
    "for generation, label in zip(generations.keys(), labels):    \n",
    "    steps.append({\n",
    "        'args': [\n",
    "            [generation],\n",
    "        ],\n",
    "        'label': label,\n",
    "        'method': 'animate'\n",
    "    })\n",
    "\n",
    "# スライダーを作成\n",
    "sliders = [{\n",
    "    'len': 0.95,    # スライダー長さ\n",
    "    'x': 0.05,      # スライダー左位置\n",
    "    'steps': steps  # \n",
    "}]\n",
    "\n",
    "# Layoutを更新\n",
    "layout.update(\n",
    "    sliders=sliders\n",
    ")\n",
    "\n",
    "# Figureを作成\n",
    "figure = go.Figure(\n",
    "    data=frames[0]['data'],     # 最初に表示するグラフ\n",
    "    frames=frames,\n",
    "    layout=layout\n",
    ")\n",
    "\n",
    "figure"
   ]
  },
  {
   "cell_type": "code",
   "execution_count": 8,
   "metadata": {},
   "outputs": [
    {
     "data": {
      "application/vnd.plotly.v1+json": {
       "config": {
        "plotlyServerURL": "https://plot.ly"
       },
       "data": [
        {
         "type": "histogram",
         "x": [
          19.2,
          23.2,
          25.3
         ],
         "xbins": {
          "size": 2,
          "start": 10
         }
        }
       ],
       "frames": [
        {
         "data": [
          {
           "type": "histogram",
           "x": [
            19.2,
            23.2,
            25.3
           ],
           "xbins": {
            "size": 2,
            "start": 10
           }
          }
         ],
         "layout": {
          "title": {
           "text": "~ 19 years old"
          }
         },
         "name": "under20"
        },
        {
         "data": [
          {
           "type": "histogram",
           "x": [
            22.9,
            22.1,
            24.2,
            20.1,
            24.2,
            18.6,
            23,
            19.9,
            19.3,
            22.6,
            18,
            18.8,
            29,
            20.7,
            25.3,
            22.5,
            22.6,
            23.5,
            26,
            24.3,
            28.3,
            18.8,
            30.3,
            19.6,
            24.8,
            22.6,
            33.6,
            25.4,
            19.2,
            24.7,
            22.1,
            30.4,
            25.5,
            31.5,
            24.2,
            35,
            19.4,
            30,
            18.1,
            21,
            26,
            20.9,
            21.3,
            25.2,
            19,
            23.3,
            29.7,
            35.3,
            25.4,
            26.5,
            31,
            22,
            31.4,
            30.5,
            27.8,
            18.9,
            25.3,
            25.4,
            19.5,
            20.8,
            35,
            20.6,
            24.7,
            35.5,
            22.6,
            20.6,
            30,
            25.3,
            31.4,
            26.3,
            21.2,
            33,
            29.2,
            25.5,
            25.2,
            25.9,
            20.4,
            41.3,
            28.7,
            26.8,
            21.1,
            24.1,
            27.8,
            39.1,
            30,
            22.8,
            21.9,
            32.3,
            22,
            24.1,
            19.6,
            20.2,
            30.8,
            23.6,
            20.3,
            21.4,
            38.3,
            26.8,
            23.3,
            30.2,
            21.8,
            27.7,
            33,
            25.4,
            26.8,
            32.6,
            27.3,
            21.3,
            22.9,
            26.9,
            21.2,
            20.9,
            26.3,
            24
           ],
           "xbins": {
            "size": 2,
            "start": 10
           }
          }
         ],
         "layout": {
          "title": {
           "text": "20 ~ 39 years old"
          }
         },
         "name": "under40"
        },
        {
         "data": [
          {
           "type": "histogram",
           "x": [
            29,
            26.9,
            26.5,
            31.9,
            30.7,
            25.7,
            23.1,
            24.9,
            33.8,
            30.8,
            32,
            24.2,
            32.4,
            21.2,
            20.5,
            34.6,
            24.7,
            20.2,
            32,
            20.8,
            30.1,
            31.9,
            29.2,
            22.1,
            20.3,
            30.6,
            24,
            24.9,
            19.9,
            30.6,
            26.8,
            34.3,
            22.1,
            28.1,
            18.5,
            21.3,
            35.4,
            23.1,
            26.6,
            31.4,
            38.2,
            21.5,
            25.4,
            25.1,
            24.2,
            21.2,
            32,
            20.3,
            21.1,
            42.2,
            23.8,
            26.5,
            29.9,
            24.7,
            27.4,
            23.5,
            24.9,
            20.6,
            22.7,
            26.5,
            24.9,
            23.3,
            22.5,
            27.2,
            30.4,
            25.6,
            25.3,
            32.4,
            28.6,
            30.3,
            31.6,
            21.6,
            24.1,
            29.5,
            32.7,
            23.3,
            33,
            29.2,
            27.7,
            19.9,
            20.4,
            31.4,
            23.9,
            22.8,
            20.2,
            25.9,
            25.8,
            27.4,
            22.1,
            26,
            22.7,
            21,
            19.8,
            25.6,
            28.8,
            31.9,
            20.3,
            29.2,
            23,
            31.8,
            25.6,
            26.2,
            26.1,
            31,
            31.9,
            21.9,
            23.7,
            21,
            28,
            29.6,
            31.5,
            24.5,
            29.2,
            23.5,
            24.3,
            25.2,
            22.7,
            27.7,
            30.6,
            28.1,
            26.2,
            25.9,
            27.9,
            24.1,
            23.4,
            32.8,
            24.3,
            26.4,
            24,
            27.8,
            24.5,
            26.6,
            23,
            28.8,
            29.5,
            27,
            19.7,
            29.7,
            28.5,
            24.5,
            33.2,
            26.5,
            24.1,
            28,
            27.7,
            22.2,
            22.2,
            22,
            24.4,
            28.8,
            26.6,
            23.7,
            33.1,
            27.3,
            22.1,
            28.3,
            28.6,
            20.5,
            22.1,
            23.2,
            30.6,
            26.8,
            26.8,
            27.7,
            22.6,
            25.2,
            24.2,
            27.3,
            21,
            36.1,
            22.9,
            24.6,
            32.1,
            23.5,
            23,
            22.7,
            32.1,
            24.5,
            32.9,
            23.4,
            28.2,
            36.6,
            25.8,
            35.1,
            25.7,
            35,
            27,
            28,
            28.7,
            31,
            23.1,
            25.6,
            26.9,
            29.4,
            31.6,
            31.9,
            36.1,
            23.2,
            21.7,
            23.3,
            30.1,
            30.7,
            24.5,
            28.1,
            22.8,
            36.7,
            26.2,
            23.6,
            38,
            29,
            25.7,
            25.5,
            23.6,
            24.7,
            26.9,
            32.1,
            27.2,
            25.1,
            24.1,
            23.6,
            25.5,
            27.9
           ],
           "xbins": {
            "size": 2,
            "start": 10
           }
          }
         ],
         "layout": {
          "title": {
           "text": "40 ~ 59 years old"
          }
         },
         "name": "under60"
        },
        {
         "data": [
          {
           "type": "histogram",
           "x": [
            22.3,
            24.3,
            28.2,
            22.8,
            27.5,
            27.7,
            25.6,
            24.9,
            25.6,
            20.4,
            25,
            23.4,
            33,
            25.7,
            23.4,
            32.1,
            22.2,
            31.2,
            26.1,
            24,
            32.7,
            33,
            25.8,
            24.6,
            32,
            28.2,
            26.9,
            25.8,
            23.1,
            25.6,
            30,
            34.6,
            23.5,
            22.5,
            37.8,
            22.4,
            31.8,
            33.9,
            32,
            33.3,
            28.9,
            26.7,
            25.5,
            24.4,
            24.1,
            26,
            20,
            28.4,
            23.5,
            27.3,
            21,
            27.9,
            31.3,
            28.5,
            30.2,
            26.3,
            33.5,
            24.4,
            34.6,
            28,
            26.2,
            24,
            21.7,
            26,
            22.8,
            23.5,
            25.8,
            22.5,
            23,
            20.7,
            24,
            26.7,
            31.6,
            23.6,
            29.8,
            25,
            28.3,
            24.8,
            25.9,
            27.5,
            27.5,
            32.8,
            23.5,
            25.7,
            29.3,
            24.5,
            28.1,
            29.6,
            37,
            34.3,
            24.1,
            26.5,
            24,
            27,
            26.1,
            29.5,
            30.5,
            27,
            29.8,
            30.1,
            31.2,
            23.3,
            27
           ],
           "xbins": {
            "size": 2,
            "start": 10
           }
          }
         ],
         "layout": {
          "title": {
           "text": "60 years old ~"
          }
         },
         "name": "over60"
        }
       ],
       "layout": {
        "template": {
         "data": {
          "bar": [
           {
            "error_x": {
             "color": "rgb(36,36,36)"
            },
            "error_y": {
             "color": "rgb(36,36,36)"
            },
            "marker": {
             "line": {
              "color": "white",
              "width": 0.5
             },
             "pattern": {
              "fillmode": "overlay",
              "size": 10,
              "solidity": 0.2
             }
            },
            "type": "bar"
           }
          ],
          "barpolar": [
           {
            "marker": {
             "line": {
              "color": "white",
              "width": 0.5
             },
             "pattern": {
              "fillmode": "overlay",
              "size": 10,
              "solidity": 0.2
             }
            },
            "type": "barpolar"
           }
          ],
          "carpet": [
           {
            "aaxis": {
             "endlinecolor": "rgb(36,36,36)",
             "gridcolor": "white",
             "linecolor": "white",
             "minorgridcolor": "white",
             "startlinecolor": "rgb(36,36,36)"
            },
            "baxis": {
             "endlinecolor": "rgb(36,36,36)",
             "gridcolor": "white",
             "linecolor": "white",
             "minorgridcolor": "white",
             "startlinecolor": "rgb(36,36,36)"
            },
            "type": "carpet"
           }
          ],
          "choropleth": [
           {
            "colorbar": {
             "outlinewidth": 1,
             "tickcolor": "rgb(36,36,36)",
             "ticks": "outside"
            },
            "type": "choropleth"
           }
          ],
          "contour": [
           {
            "colorbar": {
             "outlinewidth": 1,
             "tickcolor": "rgb(36,36,36)",
             "ticks": "outside"
            },
            "colorscale": [
             [
              0,
              "#440154"
             ],
             [
              0.1111111111111111,
              "#482878"
             ],
             [
              0.2222222222222222,
              "#3e4989"
             ],
             [
              0.3333333333333333,
              "#31688e"
             ],
             [
              0.4444444444444444,
              "#26828e"
             ],
             [
              0.5555555555555556,
              "#1f9e89"
             ],
             [
              0.6666666666666666,
              "#35b779"
             ],
             [
              0.7777777777777778,
              "#6ece58"
             ],
             [
              0.8888888888888888,
              "#b5de2b"
             ],
             [
              1,
              "#fde725"
             ]
            ],
            "type": "contour"
           }
          ],
          "contourcarpet": [
           {
            "colorbar": {
             "outlinewidth": 1,
             "tickcolor": "rgb(36,36,36)",
             "ticks": "outside"
            },
            "type": "contourcarpet"
           }
          ],
          "heatmap": [
           {
            "colorbar": {
             "outlinewidth": 1,
             "tickcolor": "rgb(36,36,36)",
             "ticks": "outside"
            },
            "colorscale": [
             [
              0,
              "#440154"
             ],
             [
              0.1111111111111111,
              "#482878"
             ],
             [
              0.2222222222222222,
              "#3e4989"
             ],
             [
              0.3333333333333333,
              "#31688e"
             ],
             [
              0.4444444444444444,
              "#26828e"
             ],
             [
              0.5555555555555556,
              "#1f9e89"
             ],
             [
              0.6666666666666666,
              "#35b779"
             ],
             [
              0.7777777777777778,
              "#6ece58"
             ],
             [
              0.8888888888888888,
              "#b5de2b"
             ],
             [
              1,
              "#fde725"
             ]
            ],
            "type": "heatmap"
           }
          ],
          "heatmapgl": [
           {
            "colorbar": {
             "outlinewidth": 1,
             "tickcolor": "rgb(36,36,36)",
             "ticks": "outside"
            },
            "colorscale": [
             [
              0,
              "#440154"
             ],
             [
              0.1111111111111111,
              "#482878"
             ],
             [
              0.2222222222222222,
              "#3e4989"
             ],
             [
              0.3333333333333333,
              "#31688e"
             ],
             [
              0.4444444444444444,
              "#26828e"
             ],
             [
              0.5555555555555556,
              "#1f9e89"
             ],
             [
              0.6666666666666666,
              "#35b779"
             ],
             [
              0.7777777777777778,
              "#6ece58"
             ],
             [
              0.8888888888888888,
              "#b5de2b"
             ],
             [
              1,
              "#fde725"
             ]
            ],
            "type": "heatmapgl"
           }
          ],
          "histogram": [
           {
            "marker": {
             "line": {
              "color": "white",
              "width": 0.6
             }
            },
            "type": "histogram"
           }
          ],
          "histogram2d": [
           {
            "colorbar": {
             "outlinewidth": 1,
             "tickcolor": "rgb(36,36,36)",
             "ticks": "outside"
            },
            "colorscale": [
             [
              0,
              "#440154"
             ],
             [
              0.1111111111111111,
              "#482878"
             ],
             [
              0.2222222222222222,
              "#3e4989"
             ],
             [
              0.3333333333333333,
              "#31688e"
             ],
             [
              0.4444444444444444,
              "#26828e"
             ],
             [
              0.5555555555555556,
              "#1f9e89"
             ],
             [
              0.6666666666666666,
              "#35b779"
             ],
             [
              0.7777777777777778,
              "#6ece58"
             ],
             [
              0.8888888888888888,
              "#b5de2b"
             ],
             [
              1,
              "#fde725"
             ]
            ],
            "type": "histogram2d"
           }
          ],
          "histogram2dcontour": [
           {
            "colorbar": {
             "outlinewidth": 1,
             "tickcolor": "rgb(36,36,36)",
             "ticks": "outside"
            },
            "colorscale": [
             [
              0,
              "#440154"
             ],
             [
              0.1111111111111111,
              "#482878"
             ],
             [
              0.2222222222222222,
              "#3e4989"
             ],
             [
              0.3333333333333333,
              "#31688e"
             ],
             [
              0.4444444444444444,
              "#26828e"
             ],
             [
              0.5555555555555556,
              "#1f9e89"
             ],
             [
              0.6666666666666666,
              "#35b779"
             ],
             [
              0.7777777777777778,
              "#6ece58"
             ],
             [
              0.8888888888888888,
              "#b5de2b"
             ],
             [
              1,
              "#fde725"
             ]
            ],
            "type": "histogram2dcontour"
           }
          ],
          "mesh3d": [
           {
            "colorbar": {
             "outlinewidth": 1,
             "tickcolor": "rgb(36,36,36)",
             "ticks": "outside"
            },
            "type": "mesh3d"
           }
          ],
          "parcoords": [
           {
            "line": {
             "colorbar": {
              "outlinewidth": 1,
              "tickcolor": "rgb(36,36,36)",
              "ticks": "outside"
             }
            },
            "type": "parcoords"
           }
          ],
          "pie": [
           {
            "automargin": true,
            "type": "pie"
           }
          ],
          "scatter": [
           {
            "fillpattern": {
             "fillmode": "overlay",
             "size": 10,
             "solidity": 0.2
            },
            "type": "scatter"
           }
          ],
          "scatter3d": [
           {
            "line": {
             "colorbar": {
              "outlinewidth": 1,
              "tickcolor": "rgb(36,36,36)",
              "ticks": "outside"
             }
            },
            "marker": {
             "colorbar": {
              "outlinewidth": 1,
              "tickcolor": "rgb(36,36,36)",
              "ticks": "outside"
             }
            },
            "type": "scatter3d"
           }
          ],
          "scattercarpet": [
           {
            "marker": {
             "colorbar": {
              "outlinewidth": 1,
              "tickcolor": "rgb(36,36,36)",
              "ticks": "outside"
             }
            },
            "type": "scattercarpet"
           }
          ],
          "scattergeo": [
           {
            "marker": {
             "colorbar": {
              "outlinewidth": 1,
              "tickcolor": "rgb(36,36,36)",
              "ticks": "outside"
             }
            },
            "type": "scattergeo"
           }
          ],
          "scattergl": [
           {
            "marker": {
             "colorbar": {
              "outlinewidth": 1,
              "tickcolor": "rgb(36,36,36)",
              "ticks": "outside"
             }
            },
            "type": "scattergl"
           }
          ],
          "scattermapbox": [
           {
            "marker": {
             "colorbar": {
              "outlinewidth": 1,
              "tickcolor": "rgb(36,36,36)",
              "ticks": "outside"
             }
            },
            "type": "scattermapbox"
           }
          ],
          "scatterpolar": [
           {
            "marker": {
             "colorbar": {
              "outlinewidth": 1,
              "tickcolor": "rgb(36,36,36)",
              "ticks": "outside"
             }
            },
            "type": "scatterpolar"
           }
          ],
          "scatterpolargl": [
           {
            "marker": {
             "colorbar": {
              "outlinewidth": 1,
              "tickcolor": "rgb(36,36,36)",
              "ticks": "outside"
             }
            },
            "type": "scatterpolargl"
           }
          ],
          "scatterternary": [
           {
            "marker": {
             "colorbar": {
              "outlinewidth": 1,
              "tickcolor": "rgb(36,36,36)",
              "ticks": "outside"
             }
            },
            "type": "scatterternary"
           }
          ],
          "surface": [
           {
            "colorbar": {
             "outlinewidth": 1,
             "tickcolor": "rgb(36,36,36)",
             "ticks": "outside"
            },
            "colorscale": [
             [
              0,
              "#440154"
             ],
             [
              0.1111111111111111,
              "#482878"
             ],
             [
              0.2222222222222222,
              "#3e4989"
             ],
             [
              0.3333333333333333,
              "#31688e"
             ],
             [
              0.4444444444444444,
              "#26828e"
             ],
             [
              0.5555555555555556,
              "#1f9e89"
             ],
             [
              0.6666666666666666,
              "#35b779"
             ],
             [
              0.7777777777777778,
              "#6ece58"
             ],
             [
              0.8888888888888888,
              "#b5de2b"
             ],
             [
              1,
              "#fde725"
             ]
            ],
            "type": "surface"
           }
          ],
          "table": [
           {
            "cells": {
             "fill": {
              "color": "rgb(237,237,237)"
             },
             "line": {
              "color": "white"
             }
            },
            "header": {
             "fill": {
              "color": "rgb(217,217,217)"
             },
             "line": {
              "color": "white"
             }
            },
            "type": "table"
           }
          ]
         },
         "layout": {
          "annotationdefaults": {
           "arrowhead": 0,
           "arrowwidth": 1
          },
          "autotypenumbers": "strict",
          "coloraxis": {
           "colorbar": {
            "outlinewidth": 1,
            "tickcolor": "rgb(36,36,36)",
            "ticks": "outside"
           }
          },
          "colorscale": {
           "diverging": [
            [
             0,
             "rgb(103,0,31)"
            ],
            [
             0.1,
             "rgb(178,24,43)"
            ],
            [
             0.2,
             "rgb(214,96,77)"
            ],
            [
             0.3,
             "rgb(244,165,130)"
            ],
            [
             0.4,
             "rgb(253,219,199)"
            ],
            [
             0.5,
             "rgb(247,247,247)"
            ],
            [
             0.6,
             "rgb(209,229,240)"
            ],
            [
             0.7,
             "rgb(146,197,222)"
            ],
            [
             0.8,
             "rgb(67,147,195)"
            ],
            [
             0.9,
             "rgb(33,102,172)"
            ],
            [
             1,
             "rgb(5,48,97)"
            ]
           ],
           "sequential": [
            [
             0,
             "#440154"
            ],
            [
             0.1111111111111111,
             "#482878"
            ],
            [
             0.2222222222222222,
             "#3e4989"
            ],
            [
             0.3333333333333333,
             "#31688e"
            ],
            [
             0.4444444444444444,
             "#26828e"
            ],
            [
             0.5555555555555556,
             "#1f9e89"
            ],
            [
             0.6666666666666666,
             "#35b779"
            ],
            [
             0.7777777777777778,
             "#6ece58"
            ],
            [
             0.8888888888888888,
             "#b5de2b"
            ],
            [
             1,
             "#fde725"
            ]
           ],
           "sequentialminus": [
            [
             0,
             "#440154"
            ],
            [
             0.1111111111111111,
             "#482878"
            ],
            [
             0.2222222222222222,
             "#3e4989"
            ],
            [
             0.3333333333333333,
             "#31688e"
            ],
            [
             0.4444444444444444,
             "#26828e"
            ],
            [
             0.5555555555555556,
             "#1f9e89"
            ],
            [
             0.6666666666666666,
             "#35b779"
            ],
            [
             0.7777777777777778,
             "#6ece58"
            ],
            [
             0.8888888888888888,
             "#b5de2b"
            ],
            [
             1,
             "#fde725"
            ]
           ]
          },
          "colorway": [
           "#1F77B4",
           "#FF7F0E",
           "#2CA02C",
           "#D62728",
           "#9467BD",
           "#8C564B",
           "#E377C2",
           "#7F7F7F",
           "#BCBD22",
           "#17BECF"
          ],
          "font": {
           "color": "rgb(36,36,36)"
          },
          "geo": {
           "bgcolor": "white",
           "lakecolor": "white",
           "landcolor": "white",
           "showlakes": true,
           "showland": true,
           "subunitcolor": "white"
          },
          "hoverlabel": {
           "align": "left"
          },
          "hovermode": "closest",
          "mapbox": {
           "style": "light"
          },
          "paper_bgcolor": "white",
          "plot_bgcolor": "white",
          "polar": {
           "angularaxis": {
            "gridcolor": "rgb(232,232,232)",
            "linecolor": "rgb(36,36,36)",
            "showgrid": false,
            "showline": true,
            "ticks": "outside"
           },
           "bgcolor": "white",
           "radialaxis": {
            "gridcolor": "rgb(232,232,232)",
            "linecolor": "rgb(36,36,36)",
            "showgrid": false,
            "showline": true,
            "ticks": "outside"
           }
          },
          "scene": {
           "xaxis": {
            "backgroundcolor": "white",
            "gridcolor": "rgb(232,232,232)",
            "gridwidth": 2,
            "linecolor": "rgb(36,36,36)",
            "showbackground": true,
            "showgrid": false,
            "showline": true,
            "ticks": "outside",
            "zeroline": false,
            "zerolinecolor": "rgb(36,36,36)"
           },
           "yaxis": {
            "backgroundcolor": "white",
            "gridcolor": "rgb(232,232,232)",
            "gridwidth": 2,
            "linecolor": "rgb(36,36,36)",
            "showbackground": true,
            "showgrid": false,
            "showline": true,
            "ticks": "outside",
            "zeroline": false,
            "zerolinecolor": "rgb(36,36,36)"
           },
           "zaxis": {
            "backgroundcolor": "white",
            "gridcolor": "rgb(232,232,232)",
            "gridwidth": 2,
            "linecolor": "rgb(36,36,36)",
            "showbackground": true,
            "showgrid": false,
            "showline": true,
            "ticks": "outside",
            "zeroline": false,
            "zerolinecolor": "rgb(36,36,36)"
           }
          },
          "shapedefaults": {
           "fillcolor": "black",
           "line": {
            "width": 0
           },
           "opacity": 0.3
          },
          "ternary": {
           "aaxis": {
            "gridcolor": "rgb(232,232,232)",
            "linecolor": "rgb(36,36,36)",
            "showgrid": false,
            "showline": true,
            "ticks": "outside"
           },
           "baxis": {
            "gridcolor": "rgb(232,232,232)",
            "linecolor": "rgb(36,36,36)",
            "showgrid": false,
            "showline": true,
            "ticks": "outside"
           },
           "bgcolor": "white",
           "caxis": {
            "gridcolor": "rgb(232,232,232)",
            "linecolor": "rgb(36,36,36)",
            "showgrid": false,
            "showline": true,
            "ticks": "outside"
           }
          },
          "title": {
           "x": 0.05
          },
          "xaxis": {
           "automargin": true,
           "gridcolor": "rgb(232,232,232)",
           "linecolor": "rgb(36,36,36)",
           "showgrid": false,
           "showline": true,
           "ticks": "outside",
           "title": {
            "standoff": 15
           },
           "zeroline": false,
           "zerolinecolor": "rgb(36,36,36)"
          },
          "yaxis": {
           "automargin": true,
           "gridcolor": "rgb(232,232,232)",
           "linecolor": "rgb(36,36,36)",
           "showgrid": true,
           "showline": false,
           "ticks": "outside",
           "title": {
            "standoff": 15
           },
           "zeroline": false,
           "zerolinecolor": "rgb(36,36,36)"
          }
         }
        },
        "updatemenus": [
         {
          "buttons": [
           {
            "args": [
             [
              "under20"
             ]
            ],
            "label": "<20",
            "method": "animate"
           },
           {
            "args": [
             [
              "under40"
             ]
            ],
            "label": "<40",
            "method": "animate"
           },
           {
            "args": [
             [
              "under60"
             ]
            ],
            "label": "<60",
            "method": "animate"
           },
           {
            "args": [
             [
              "over60"
             ]
            ],
            "label": ">=60",
            "method": "animate"
           }
          ],
          "type": "dropdown",
          "x": 1,
          "y": 1.2
         }
        ],
        "xaxis": {
         "range": [
          10,
          50
         ],
         "title": {
          "text": "BMI"
         }
        },
        "yaxis": {
         "range": [
          0,
          50
         ],
         "title": {
          "text": "count"
         }
        }
       }
      }
     },
     "metadata": {},
     "output_type": "display_data"
    }
   ],
   "source": [
    "# ドロップダウンの作成\n",
    "dropdowns = []\n",
    "for generation, label in zip(generations.keys(), labels):\n",
    "    dropdowns.append({\n",
    "        'args': [[generation]],\n",
    "        'label': label,\n",
    "        'method': 'animate',\n",
    "    })\n",
    "\n",
    "# ドロップダウンメニューの作成\n",
    "dropdown_menu = {\n",
    "    'type': 'dropdown',\n",
    "    'buttons': dropdowns,\n",
    "    'x': 1.0,   # x位置\n",
    "    'y': 1.2    # y位置\n",
    "}\n",
    "\n",
    "# Layoutの作成\n",
    "layout = go.Layout(\n",
    "    template=template,\n",
    "    xaxis={\n",
    "        'title': 'BMI',\n",
    "        'range': [10, 50]\n",
    "    },\n",
    "    yaxis={\n",
    "        'title': 'count',\n",
    "        'range': [0, 50]\n",
    "    },   \n",
    "    updatemenus=[dropdown_menu],\n",
    ")\n",
    "\n",
    "# Figureの作成\n",
    "figure = go.Figure(data=frames[0]['data'], layout=layout, frames=frames)\n",
    "\n",
    "figure"
   ]
  }
 ],
 "metadata": {
  "kernelspec": {
   "display_name": "pandas-plotly-handbook-XgTgJsv2",
   "language": "python",
   "name": "python3"
  },
  "language_info": {
   "codemirror_mode": {
    "name": "ipython",
    "version": 3
   },
   "file_extension": ".py",
   "mimetype": "text/x-python",
   "name": "python",
   "nbconvert_exporter": "python",
   "pygments_lexer": "ipython3",
   "version": "3.9.4"
  },
  "orig_nbformat": 4
 },
 "nbformat": 4,
 "nbformat_minor": 2
}
